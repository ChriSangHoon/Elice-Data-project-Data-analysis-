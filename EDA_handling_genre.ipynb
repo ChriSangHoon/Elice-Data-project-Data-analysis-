{
 "cells": [
  {
   "cell_type": "code",
   "execution_count": 2,
   "metadata": {},
   "outputs": [],
   "source": [
    "import pandas as pd\n",
    "import matplotlib.pyplot as plt"
   ]
  },
  {
   "cell_type": "code",
   "execution_count": 3,
   "metadata": {},
   "outputs": [
    {
     "name": "stdout",
     "output_type": "stream",
     "text": [
      "1.3.5\n"
     ]
    }
   ],
   "source": [
    "print(pd.__version__)"
   ]
  },
  {
   "cell_type": "code",
   "execution_count": 6,
   "metadata": {},
   "outputs": [
    {
     "data": {
      "text/html": [
       "<div>\n",
       "<style scoped>\n",
       "    .dataframe tbody tr th:only-of-type {\n",
       "        vertical-align: middle;\n",
       "    }\n",
       "\n",
       "    .dataframe tbody tr th {\n",
       "        vertical-align: top;\n",
       "    }\n",
       "\n",
       "    .dataframe thead th {\n",
       "        text-align: right;\n",
       "    }\n",
       "</style>\n",
       "<table border=\"1\" class=\"dataframe\">\n",
       "  <thead>\n",
       "    <tr style=\"text-align: right;\">\n",
       "      <th></th>\n",
       "      <th>year</th>\n",
       "      <th>film_festival</th>\n",
       "      <th>title</th>\n",
       "      <th>director</th>\n",
       "      <th>field</th>\n",
       "      <th>award</th>\n",
       "      <th>genre</th>\n",
       "      <th>plot</th>\n",
       "      <th>rating</th>\n",
       "      <th>runtime</th>\n",
       "      <th>prodYear</th>\n",
       "      <th>actors</th>\n",
       "      <th>img_link</th>\n",
       "      <th>stills</th>\n",
       "    </tr>\n",
       "  </thead>\n",
       "  <tbody>\n",
       "    <tr>\n",
       "      <th>0</th>\n",
       "      <td>2021</td>\n",
       "      <td>소리아 국제단편영화제</td>\n",
       "      <td>조지아</td>\n",
       "      <td>제이 박</td>\n",
       "      <td>NaN</td>\n",
       "      <td>NaN</td>\n",
       "      <td>가족,범죄</td>\n",
       "      <td>병들고 가난한 부부가 딸의 억울한 죽음을 규명하기 위해 나선다. 가해자를 밝히지도 ...</td>\n",
       "      <td>12세관람가</td>\n",
       "      <td>29.0</td>\n",
       "      <td>2020.0</td>\n",
       "      <td>이양희,이채경,김규남</td>\n",
       "      <td>https://ssl.pstatic.net/imgmovie/mdi/mit110/19...</td>\n",
       "      <td>http://file.koreafilm.or.kr/thm/01/copy/00/55/...</td>\n",
       "    </tr>\n",
       "    <tr>\n",
       "      <th>1</th>\n",
       "      <td>2021</td>\n",
       "      <td>보고타 단편영화제</td>\n",
       "      <td>미미(美味): 궁극의 식사</td>\n",
       "      <td>한재원</td>\n",
       "      <td>경쟁부문</td>\n",
       "      <td>NaN</td>\n",
       "      <td>코메디,공포</td>\n",
       "      <td>미각을 잃은 미식 유튜버 성호는 어딘가 기괴한 음식점에 방문한다.</td>\n",
       "      <td>NaN</td>\n",
       "      <td>19.0</td>\n",
       "      <td>2020.0</td>\n",
       "      <td>김최용준,정경임,이종윤</td>\n",
       "      <td>https://ssl.pstatic.net/imgmovie/mdi/mit110/20...</td>\n",
       "      <td>http://file.koreafilm.or.kr/thm/01/copy/00/59/...</td>\n",
       "    </tr>\n",
       "    <tr>\n",
       "      <th>2</th>\n",
       "      <td>2021</td>\n",
       "      <td>엑상프로방스 국제단편영화제</td>\n",
       "      <td>아이즈앤혼즈</td>\n",
       "      <td>임채린</td>\n",
       "      <td>International Competition of Experimental Shorts</td>\n",
       "      <td>NaN</td>\n",
       "      <td>기타</td>\n",
       "      <td>NaN</td>\n",
       "      <td>NaN</td>\n",
       "      <td>NaN</td>\n",
       "      <td>NaN</td>\n",
       "      <td>NaN</td>\n",
       "      <td>https://ssl.pstatic.net/imgmovie/mdi/mit110/20...</td>\n",
       "      <td>NaN</td>\n",
       "    </tr>\n",
       "    <tr>\n",
       "      <th>3</th>\n",
       "      <td>2021</td>\n",
       "      <td>서울독립영화제</td>\n",
       "      <td>절해고도</td>\n",
       "      <td>김미영</td>\n",
       "      <td>페스티벌 초이스</td>\n",
       "      <td>NaN</td>\n",
       "      <td>드라마</td>\n",
       "      <td>절해고도. '육지에서 멀리 떨어진 바다의 외딴 섬'이라는 뜻을 지닌 제목은 삶의 표...</td>\n",
       "      <td>NaN</td>\n",
       "      <td>116.0</td>\n",
       "      <td>2021.0</td>\n",
       "      <td>박종환,이연,강경헌</td>\n",
       "      <td>https://ssl.pstatic.net/imgmovie/mdi/mit110/20...</td>\n",
       "      <td>http://file.koreafilm.or.kr/thm/01/copy/00/59/...</td>\n",
       "    </tr>\n",
       "    <tr>\n",
       "      <th>4</th>\n",
       "      <td>2021</td>\n",
       "      <td>서울독립영화제</td>\n",
       "      <td>장갑을 사러</td>\n",
       "      <td>이현주</td>\n",
       "      <td>단편경쟁</td>\n",
       "      <td>NaN</td>\n",
       "      <td>멜로/로맨스</td>\n",
       "      <td>피아노를 가르치는 인경은 연인의 일본 발령 소식에 일본어 학원을 다니기 시작한다. ...</td>\n",
       "      <td>NaN</td>\n",
       "      <td>29.0</td>\n",
       "      <td>2021.0</td>\n",
       "      <td>김정민,양종욱,김하람</td>\n",
       "      <td>https://ssl.pstatic.net/imgmovie/mdi/mit110/20...</td>\n",
       "      <td>http://file.koreafilm.or.kr/thm/01/copy/00/59/...</td>\n",
       "    </tr>\n",
       "    <tr>\n",
       "      <th>...</th>\n",
       "      <td>...</td>\n",
       "      <td>...</td>\n",
       "      <td>...</td>\n",
       "      <td>...</td>\n",
       "      <td>...</td>\n",
       "      <td>...</td>\n",
       "      <td>...</td>\n",
       "      <td>...</td>\n",
       "      <td>...</td>\n",
       "      <td>...</td>\n",
       "      <td>...</td>\n",
       "      <td>...</td>\n",
       "      <td>...</td>\n",
       "      <td>...</td>\n",
       "    </tr>\n",
       "    <tr>\n",
       "      <th>3299</th>\n",
       "      <td>2000</td>\n",
       "      <td>정동진독립영화제</td>\n",
       "      <td>엔조이 유어 썸머</td>\n",
       "      <td>이형곤</td>\n",
       "      <td>재밌는 단편모음 1</td>\n",
       "      <td>NaN</td>\n",
       "      <td>드라마</td>\n",
       "      <td>어느 무더운 여름, 아직 회사 생활에 적응하지 못한 한 남자에게 일어난 금요일부터 ...</td>\n",
       "      <td>15세관람가</td>\n",
       "      <td>23.0</td>\n",
       "      <td>2000.0</td>\n",
       "      <td>오상무,권호웅,박철민</td>\n",
       "      <td>NaN</td>\n",
       "      <td>http://file.koreafilm.or.kr/thm/01/copy/00/36/...</td>\n",
       "    </tr>\n",
       "    <tr>\n",
       "      <th>3300</th>\n",
       "      <td>2000</td>\n",
       "      <td>정동진독립영화제</td>\n",
       "      <td>너무 많이 본 사나이</td>\n",
       "      <td>손재곤</td>\n",
       "      <td>독립장편영화 1</td>\n",
       "      <td>NaN</td>\n",
       "      <td>코메디,드라마,스릴러</td>\n",
       "      <td>승수는 앞집에 세들어 사는 여자를 몰래 카메라에 담기 위해 친구에게서 구형 VHS ...</td>\n",
       "      <td>NaN</td>\n",
       "      <td>52.0</td>\n",
       "      <td>2000.0</td>\n",
       "      <td>김상헌,김신성,이계영</td>\n",
       "      <td>https://ssl.pstatic.net/imgmovie/mdi/mit110/03...</td>\n",
       "      <td>http://file.koreafilm.or.kr/thm/01/copy/00/31/...</td>\n",
       "    </tr>\n",
       "    <tr>\n",
       "      <th>3301</th>\n",
       "      <td>2000</td>\n",
       "      <td>정동진독립영화제</td>\n",
       "      <td>아리랑</td>\n",
       "      <td>강준원</td>\n",
       "      <td>단편과 애니 1</td>\n",
       "      <td>NaN</td>\n",
       "      <td>실험</td>\n",
       "      <td>아리랑 음악에 맞추어 한국 전통 문양들이 생성되고 소멸된다. 연출의도_ 관성적으로 ...</td>\n",
       "      <td>NaN</td>\n",
       "      <td>4.0</td>\n",
       "      <td>2000.0</td>\n",
       "      <td>NaN</td>\n",
       "      <td>https://ssl.pstatic.net/imgmovie/mdi/mit110/13...</td>\n",
       "      <td>http://file.koreafilm.or.kr/thm/01/copy/00/50/...</td>\n",
       "    </tr>\n",
       "    <tr>\n",
       "      <th>3302</th>\n",
       "      <td>2000</td>\n",
       "      <td>오버하우젠 국제단편영화제</td>\n",
       "      <td>온실</td>\n",
       "      <td>김지훈</td>\n",
       "      <td>NaN</td>\n",
       "      <td>NaN</td>\n",
       "      <td>드라마</td>\n",
       "      <td>작은 아파트에 홀로 사는 노인은 빨래, 신문 읽기, 라디오 듣기, 노래 따라 배우기...</td>\n",
       "      <td>NaN</td>\n",
       "      <td>15.0</td>\n",
       "      <td>1997.0</td>\n",
       "      <td>안원복,민영기,박범진</td>\n",
       "      <td>https://ssl.pstatic.net/imgmovie/mdi/mit110/05...</td>\n",
       "      <td>http://file.koreafilm.or.kr/thm/01/copy/00/30/...</td>\n",
       "    </tr>\n",
       "    <tr>\n",
       "      <th>3303</th>\n",
       "      <td>2000</td>\n",
       "      <td>부에노스아이레스 국제독립영화제</td>\n",
       "      <td>초촌면 신암리</td>\n",
       "      <td>오점균</td>\n",
       "      <td>NaN</td>\n",
       "      <td>NaN</td>\n",
       "      <td>드라마</td>\n",
       "      <td>삭막해진 농촌에서 유기농사를 짓는 주인공은 고집스러움 때문에 마을 사람들로부터 따돌...</td>\n",
       "      <td>NaN</td>\n",
       "      <td>26.0</td>\n",
       "      <td>1997.0</td>\n",
       "      <td>강수옥,박근우,김재범</td>\n",
       "      <td>https://ssl.pstatic.net/imgmovie/mdi/mit110/04...</td>\n",
       "      <td>http://file.koreafilm.or.kr/thm/01/copy/00/30/...</td>\n",
       "    </tr>\n",
       "  </tbody>\n",
       "</table>\n",
       "<p>3304 rows × 14 columns</p>\n",
       "</div>"
      ],
      "text/plain": [
       "      year     film_festival           title director  \\\n",
       "0     2021       소리아 국제단편영화제             조지아     제이 박   \n",
       "1     2021         보고타 단편영화제  미미(美味): 궁극의 식사      한재원   \n",
       "2     2021    엑상프로방스 국제단편영화제          아이즈앤혼즈      임채린   \n",
       "3     2021           서울독립영화제            절해고도      김미영   \n",
       "4     2021           서울독립영화제          장갑을 사러      이현주   \n",
       "...    ...               ...             ...      ...   \n",
       "3299  2000          정동진독립영화제       엔조이 유어 썸머      이형곤   \n",
       "3300  2000          정동진독립영화제     너무 많이 본 사나이      손재곤   \n",
       "3301  2000          정동진독립영화제             아리랑      강준원   \n",
       "3302  2000     오버하우젠 국제단편영화제              온실      김지훈   \n",
       "3303  2000  부에노스아이레스 국제독립영화제         초촌면 신암리      오점균   \n",
       "\n",
       "                                                 field award        genre  \\\n",
       "0                                                  NaN   NaN        가족,범죄   \n",
       "1                                                 경쟁부문   NaN       코메디,공포   \n",
       "2     International Competition of Experimental Shorts   NaN           기타   \n",
       "3                                             페스티벌 초이스   NaN          드라마   \n",
       "4                                                 단편경쟁   NaN       멜로/로맨스   \n",
       "...                                                ...   ...          ...   \n",
       "3299                                        재밌는 단편모음 1   NaN          드라마   \n",
       "3300                                          독립장편영화 1   NaN  코메디,드라마,스릴러   \n",
       "3301                                          단편과 애니 1   NaN           실험   \n",
       "3302                                               NaN   NaN          드라마   \n",
       "3303                                               NaN   NaN          드라마   \n",
       "\n",
       "                                                   plot  rating  runtime  \\\n",
       "0     병들고 가난한 부부가 딸의 억울한 죽음을 규명하기 위해 나선다. 가해자를 밝히지도 ...  12세관람가     29.0   \n",
       "1                  미각을 잃은 미식 유튜버 성호는 어딘가 기괴한 음식점에 방문한다.     NaN     19.0   \n",
       "2                                                   NaN     NaN      NaN   \n",
       "3     절해고도. '육지에서 멀리 떨어진 바다의 외딴 섬'이라는 뜻을 지닌 제목은 삶의 표...     NaN    116.0   \n",
       "4     피아노를 가르치는 인경은 연인의 일본 발령 소식에 일본어 학원을 다니기 시작한다. ...     NaN     29.0   \n",
       "...                                                 ...     ...      ...   \n",
       "3299  어느 무더운 여름, 아직 회사 생활에 적응하지 못한 한 남자에게 일어난 금요일부터 ...  15세관람가     23.0   \n",
       "3300  승수는 앞집에 세들어 사는 여자를 몰래 카메라에 담기 위해 친구에게서 구형 VHS ...     NaN     52.0   \n",
       "3301  아리랑 음악에 맞추어 한국 전통 문양들이 생성되고 소멸된다. 연출의도_ 관성적으로 ...     NaN      4.0   \n",
       "3302  작은 아파트에 홀로 사는 노인은 빨래, 신문 읽기, 라디오 듣기, 노래 따라 배우기...     NaN     15.0   \n",
       "3303  삭막해진 농촌에서 유기농사를 짓는 주인공은 고집스러움 때문에 마을 사람들로부터 따돌...     NaN     26.0   \n",
       "\n",
       "      prodYear        actors  \\\n",
       "0       2020.0   이양희,이채경,김규남   \n",
       "1       2020.0  김최용준,정경임,이종윤   \n",
       "2          NaN           NaN   \n",
       "3       2021.0    박종환,이연,강경헌   \n",
       "4       2021.0   김정민,양종욱,김하람   \n",
       "...        ...           ...   \n",
       "3299    2000.0   오상무,권호웅,박철민   \n",
       "3300    2000.0   김상헌,김신성,이계영   \n",
       "3301    2000.0           NaN   \n",
       "3302    1997.0   안원복,민영기,박범진   \n",
       "3303    1997.0   강수옥,박근우,김재범   \n",
       "\n",
       "                                               img_link  \\\n",
       "0     https://ssl.pstatic.net/imgmovie/mdi/mit110/19...   \n",
       "1     https://ssl.pstatic.net/imgmovie/mdi/mit110/20...   \n",
       "2     https://ssl.pstatic.net/imgmovie/mdi/mit110/20...   \n",
       "3     https://ssl.pstatic.net/imgmovie/mdi/mit110/20...   \n",
       "4     https://ssl.pstatic.net/imgmovie/mdi/mit110/20...   \n",
       "...                                                 ...   \n",
       "3299                                                NaN   \n",
       "3300  https://ssl.pstatic.net/imgmovie/mdi/mit110/03...   \n",
       "3301  https://ssl.pstatic.net/imgmovie/mdi/mit110/13...   \n",
       "3302  https://ssl.pstatic.net/imgmovie/mdi/mit110/05...   \n",
       "3303  https://ssl.pstatic.net/imgmovie/mdi/mit110/04...   \n",
       "\n",
       "                                                 stills  \n",
       "0     http://file.koreafilm.or.kr/thm/01/copy/00/55/...  \n",
       "1     http://file.koreafilm.or.kr/thm/01/copy/00/59/...  \n",
       "2                                                   NaN  \n",
       "3     http://file.koreafilm.or.kr/thm/01/copy/00/59/...  \n",
       "4     http://file.koreafilm.or.kr/thm/01/copy/00/59/...  \n",
       "...                                                 ...  \n",
       "3299  http://file.koreafilm.or.kr/thm/01/copy/00/36/...  \n",
       "3300  http://file.koreafilm.or.kr/thm/01/copy/00/31/...  \n",
       "3301  http://file.koreafilm.or.kr/thm/01/copy/00/50/...  \n",
       "3302  http://file.koreafilm.or.kr/thm/01/copy/00/30/...  \n",
       "3303  http://file.koreafilm.or.kr/thm/01/copy/00/30/...  \n",
       "\n",
       "[3304 rows x 14 columns]"
      ]
     },
     "execution_count": 6,
     "metadata": {},
     "output_type": "execute_result"
    }
   ],
   "source": [
    "df = pd.read_csv('./film_festival_20-21.csv')\n",
    "df"
   ]
  },
  {
   "cell_type": "markdown",
   "metadata": {},
   "source": [
    "## check the column\n",
    "- DELETE => `year` `film_festival` `field` `award` => 대표값 가치 모르겠음\n",
    "- APPEND => `index` => 우리만의 고유 번호 부여 => 예) 2021001 (2021년 첫 번째 영화)\n",
    "- 총 ROW 수 뽑기 => 확보한 데이터 규모 확인 \"x 개의 데이터를 기반으로 이야기 추천합니다.\"\n",
    "- "
   ]
  },
  {
   "cell_type": "code",
   "execution_count": 5,
   "metadata": {},
   "outputs": [
    {
     "name": "stdout",
     "output_type": "stream",
     "text": [
      "<class 'pandas.core.frame.DataFrame'>\n",
      "RangeIndex: 3304 entries, 0 to 3303\n",
      "Data columns (total 14 columns):\n",
      " #   Column         Non-Null Count  Dtype  \n",
      "---  ------         --------------  -----  \n",
      " 0   year           3304 non-null   int64  \n",
      " 1   film_festival  3304 non-null   object \n",
      " 2   title          3304 non-null   object \n",
      " 3   director       3304 non-null   object \n",
      " 4   field          3107 non-null   object \n",
      " 5   award          378 non-null    object \n",
      " 6   genre          3087 non-null   object \n",
      " 7   plot           3008 non-null   object \n",
      " 8   rating         613 non-null    object \n",
      " 9   runtime        2982 non-null   float64\n",
      " 10  prodYear       3030 non-null   float64\n",
      " 11  actors         2236 non-null   object \n",
      " 12  img_link       2714 non-null   object \n",
      " 13  stills         2467 non-null   object \n",
      "dtypes: float64(2), int64(1), object(11)\n",
      "memory usage: 361.5+ KB\n"
     ]
    }
   ],
   "source": [
    "df.info()"
   ]
  },
  {
   "cell_type": "markdown",
   "metadata": {},
   "source": [
    "### Null 값 / rows 수"
   ]
  },
  {
   "cell_type": "code",
   "execution_count": 8,
   "metadata": {},
   "outputs": [
    {
     "data": {
      "text/plain": [
       "year                0\n",
       "film_festival       0\n",
       "title               0\n",
       "director            0\n",
       "field             197\n",
       "award            2926\n",
       "genre             217\n",
       "plot              296\n",
       "rating           2691\n",
       "runtime           322\n",
       "prodYear          274\n",
       "actors           1068\n",
       "img_link          590\n",
       "stills            837\n",
       "dtype: int64"
      ]
     },
     "execution_count": 8,
     "metadata": {},
     "output_type": "execute_result"
    }
   ],
   "source": [
    "null = df.isnull().sum()\n",
    "null"
   ]
  },
  {
   "cell_type": "code",
   "execution_count": 20,
   "metadata": {},
   "outputs": [
    {
     "data": {
      "text/plain": [
       "3304"
      ]
     },
     "execution_count": 20,
     "metadata": {},
     "output_type": "execute_result"
    }
   ],
   "source": [
    "df['year'].count()"
   ]
  },
  {
   "cell_type": "code",
   "execution_count": 21,
   "metadata": {},
   "outputs": [
    {
     "data": {
      "text/plain": [
       "year             0.000000\n",
       "film_festival    0.000000\n",
       "title            0.000000\n",
       "director         0.000000\n",
       "field            0.059625\n",
       "award            0.885593\n",
       "genre            0.065678\n",
       "plot             0.089588\n",
       "rating           0.814467\n",
       "runtime          0.097458\n",
       "prodYear         0.082930\n",
       "actors           0.323245\n",
       "img_link         0.178571\n",
       "stills           0.253329\n",
       "dtype: float64"
      ]
     },
     "execution_count": 21,
     "metadata": {},
     "output_type": "execute_result"
    }
   ],
   "source": [
    "null_percent = null / df['year'].count()\n",
    "null_percent"
   ]
  },
  {
   "cell_type": "code",
   "execution_count": 22,
   "metadata": {},
   "outputs": [
    {
     "data": {
      "text/plain": [
       "<AxesSubplot:>"
      ]
     },
     "execution_count": 22,
     "metadata": {},
     "output_type": "execute_result"
    },
    {
     "data": {
      "image/png": "[encoded data removed]",
      "text/plain": [
       "<Figure size 432x288 with 1 Axes>"
      ]
     },
     "metadata": {
      "needs_background": "light"
     },
     "output_type": "display_data"
    }
   ],
   "source": [
    "plt.figure()\n",
    "null_percent.plot(kind='bar')"
   ]
  },
  {
   "cell_type": "code",
   "execution_count": null,
   "metadata": {},
   "outputs": [],
   "source": []
  }
 ],
 "metadata": {
  "interpreter": {
   "hash": "f33fb8e3f71910d283821b303de4b1c813a496fe0b4b9448cb12b47c0ebadb47"
  },
  "kernelspec": {
   "display_name": "Python 3.10.0 64-bit",
   "language": "python",
   "name": "python3"
  },
  "language_info": {
   "codemirror_mode": {
    "name": "ipython",
    "version": 3
   },
   "file_extension": ".py",
   "mimetype": "text/x-python",
   "name": "python",
   "nbconvert_exporter": "python",
   "pygments_lexer": "ipython3",
   "version": "3.10.0"
  },
  "orig_nbformat": 4
 },
 "nbformat": 4,
 "nbformat_minor": 2
}
