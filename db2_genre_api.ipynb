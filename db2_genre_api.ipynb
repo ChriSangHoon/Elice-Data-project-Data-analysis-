{
 "cells": [
  {
   "cell_type": "code",
   "execution_count": null,
   "metadata": {},
   "outputs": [],
   "source": [
    "import pandas as pd\n",
    "import urllib.request\n",
    "\n",
    "genre = []\n",
    "#Movies에 csv 파일의 데이터프레임을 넣어준다.\n",
    "Movies = pd.DataFrame({'titles':['절해고도', '섬이없는지도', '장갑을사러', '반도'],'director':['김미영', '김성은', '이현주', '연상호'],})\n",
    "key ='00e86472cb23ad7539931550801b9e0e'\n",
    "url = \"http://www.kobis.or.kr/kobisopenapi/webservice/rest/movie/searchMovieList.json\" "
   ]
  },
  {
   "cell_type": "code",
   "execution_count": null,
   "metadata": {},
   "outputs": [],
   "source": [
    "#데이터 개수만큼 반복문 진행\n",
    "for i in range(0, len(Movies.titles)):\n",
    "    # 영화 제목과 영화 감독을 네이버API와 다르게 같이 해준다.\n",
    "    query = \"?key=\"+key+\"&movieNm=\"+urllib.parse.quote(Movies.titles[i])+\"&directorNm=\"+urllib.parse.quote(Movies.director[i])\n",
    "    url_query = url + query\n",
    "    request = urllib.request.Request(url_query)\n",
    "    response = urllib.request.urlopen(request)\n",
    "    rescode = response.getcode()\n",
    "    if(rescode == 200):\n",
    "        response_body = response.read()\n",
    "    else:\n",
    "        print(\"Error code:\"+rescode)\n",
    "    #여기 위에까지는 크게 건드릴 코드 없을 듯?\n",
    "    #위 코드 참고 : http://ehpub.co.kr/30-%ED%8C%8C%EC%9D%B4%EC%8D%AC%EC%9D%84-%EC%9D%B4%EC%9A%A9%ED%95%9C-naver-open-api-%ED%99%9C%EC%9A%A9%ED%95%98%EA%B8%B0-%EC%8B%9C%EC%9E%91%ED%95%98%EA%B8%B0%EB%8F%84%EC%84%9C-%EA%B2%80%EC%83%89/\n",
    "    \n",
    "    #문자열로 디코딩해준 뒤에 split으로 배열을 만들어 줌. genreAlt가 장르를 의미하고 genreAlt inde의 2번째 뒤에 장르 값이 나타나있음.\n",
    "    for x in response_body.decode('utf-8').split():\n",
    "        if 'genreAlt' in x:\n",
    "            index = x.split('\"').index('genreAlt')\n",
    "            genre.append(x.split('\"')[index+2])\n",
    "print(genre)"
   ]
  }
 ],
 "metadata": {
  "language_info": {
   "name": "python"
  },
  "orig_nbformat": 4
 },
 "nbformat": 4,
 "nbformat_minor": 2
}
