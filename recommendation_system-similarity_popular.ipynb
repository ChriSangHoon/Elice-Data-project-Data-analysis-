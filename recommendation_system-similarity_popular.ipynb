{
 "cells": [
  {
   "cell_type": "code",
   "execution_count": 10,
   "metadata": {},
   "outputs": [],
   "source": [
    "import numpy as np\n",
    "import pandas as pd\n",
    "import matplotlib.pyplot as plt\n",
    "import re\n",
    "import warnings\n",
    "\n",
    "from sklearn.feature_extraction.text import TfidfVectorizer #TF-IDF\n",
    "import difflib # from difflib import SequenceMatcher\n",
    "from sklearn.metrics.pairwise import cosine_similarity #cosine_similarity\n",
    "warnings.filterwarnings(\"ignore\")"
   ]
  },
  {
   "cell_type": "markdown",
   "metadata": {},
   "source": [
    "# Popular Movies\n",
    "- 18가지 대표 장르"
   ]
  },
  {
   "cell_type": "code",
   "execution_count": 6,
   "metadata": {},
   "outputs": [
    {
     "data": {
      "text/html": [
       "<div>\n",
       "<style scoped>\n",
       "    .dataframe tbody tr th:only-of-type {\n",
       "        vertical-align: middle;\n",
       "    }\n",
       "\n",
       "    .dataframe tbody tr th {\n",
       "        vertical-align: top;\n",
       "    }\n",
       "\n",
       "    .dataframe thead th {\n",
       "        text-align: right;\n",
       "    }\n",
       "</style>\n",
       "<table border=\"1\" class=\"dataframe\">\n",
       "  <thead>\n",
       "    <tr style=\"text-align: right;\">\n",
       "      <th></th>\n",
       "      <th>title</th>\n",
       "      <th>director</th>\n",
       "      <th>genre</th>\n",
       "      <th>plot</th>\n",
       "      <th>img_link</th>\n",
       "    </tr>\n",
       "  </thead>\n",
       "  <tbody>\n",
       "    <tr>\n",
       "      <th>0</th>\n",
       "      <td>기생충</td>\n",
       "      <td>봉준호</td>\n",
       "      <td>드라마</td>\n",
       "      <td>“같이 잘 살면 안 될까요?”전원백수로 살 길 막막하지만 사이는 좋은 기택(송강호)...</td>\n",
       "      <td>http://file.koreafilm.or.kr/thm/02/00/05/15/tn...</td>\n",
       "    </tr>\n",
       "    <tr>\n",
       "      <th>1</th>\n",
       "      <td>극한직업</td>\n",
       "      <td>이병헌</td>\n",
       "      <td>코메디</td>\n",
       "      <td>낮에는 치킨장사! 밤에는 잠복근무!지금까지 이런 수사는 없었다!불철주야 달리고 구르...</td>\n",
       "      <td>http://file.koreafilm.or.kr/thm/02/00/04/85/tn...</td>\n",
       "    </tr>\n",
       "    <tr>\n",
       "      <th>2</th>\n",
       "      <td>해리포터</td>\n",
       "      <td>데이빗 예이츠</td>\n",
       "      <td>판타지</td>\n",
       "      <td>길고도 지루한 여름 날 호그와트 마법학교 다섯 번째 해를 기다리고 있는 해리포터(다...</td>\n",
       "      <td>http://file.koreafilm.or.kr/thm/02/00/00/95/tn...</td>\n",
       "    </tr>\n",
       "    <tr>\n",
       "      <th>3</th>\n",
       "      <td>센과 치히로의 행방불명</td>\n",
       "      <td>미야자키 하야오</td>\n",
       "      <td>가족</td>\n",
       "      <td>짜증 잘 내고, 칭얼거리기 좋아하는 평범한 열 살짜리 소녀 치히로와 부모님은 이사 ...</td>\n",
       "      <td>http://file.koreafilm.or.kr/thm/02/00/03/88/tn...</td>\n",
       "    </tr>\n",
       "    <tr>\n",
       "      <th>4</th>\n",
       "      <td>어바웃타임</td>\n",
       "      <td>리차드 커티스</td>\n",
       "      <td>멜로</td>\n",
       "      <td>모태솔로 팀(돔놀 글리슨)은 성인이 된 날, 아버지(빌 나이)로부터 놀랄만한 가문의...</td>\n",
       "      <td>http://file.koreafilm.or.kr/thm/02/00/02/08/tn...</td>\n",
       "    </tr>\n",
       "  </tbody>\n",
       "</table>\n",
       "</div>"
      ],
      "text/plain": [
       "          title  director genre  \\\n",
       "0           기생충       봉준호   드라마   \n",
       "1          극한직업       이병헌   코메디   \n",
       "2          해리포터   데이빗 예이츠   판타지   \n",
       "3  센과 치히로의 행방불명  미야자키 하야오    가족   \n",
       "4         어바웃타임   리차드 커티스    멜로   \n",
       "\n",
       "                                                plot  \\\n",
       "0  “같이 잘 살면 안 될까요?”전원백수로 살 길 막막하지만 사이는 좋은 기택(송강호)...   \n",
       "1  낮에는 치킨장사! 밤에는 잠복근무!지금까지 이런 수사는 없었다!불철주야 달리고 구르...   \n",
       "2  길고도 지루한 여름 날 호그와트 마법학교 다섯 번째 해를 기다리고 있는 해리포터(다...   \n",
       "3  짜증 잘 내고, 칭얼거리기 좋아하는 평범한 열 살짜리 소녀 치히로와 부모님은 이사 ...   \n",
       "4  모태솔로 팀(돔놀 글리슨)은 성인이 된 날, 아버지(빌 나이)로부터 놀랄만한 가문의...   \n",
       "\n",
       "                                            img_link  \n",
       "0  http://file.koreafilm.or.kr/thm/02/00/05/15/tn...  \n",
       "1  http://file.koreafilm.or.kr/thm/02/00/04/85/tn...  \n",
       "2  http://file.koreafilm.or.kr/thm/02/00/00/95/tn...  \n",
       "3  http://file.koreafilm.or.kr/thm/02/00/03/88/tn...  \n",
       "4  http://file.koreafilm.or.kr/thm/02/00/02/08/tn...  "
      ]
     },
     "execution_count": 6,
     "metadata": {},
     "output_type": "execute_result"
    }
   ],
   "source": [
    "movies_popular = pd.read_csv('./rep_movies.csv')\n",
    "movies_popular.head(5)"
   ]
  },
  {
   "cell_type": "code",
   "execution_count": 7,
   "metadata": {},
   "outputs": [
    {
     "data": {
      "text/plain": [
       "0     기생충 “같이 잘 살면 안 될까요?”전원백수로 살 길 막막하지만 사이는 좋은 기택(...\n",
       "1     극한직업 낮에는 치킨장사! 밤에는 잠복근무!지금까지 이런 수사는 없었다!불철주야 달...\n",
       "2     해리포터 길고도 지루한 여름 날 호그와트 마법학교 다섯 번째 해를 기다리고 있는 해...\n",
       "3     센과 치히로의 행방불명 짜증 잘 내고, 칭얼거리기 좋아하는 평범한 열 살짜리 소녀 ...\n",
       "4     어바웃타임 모태솔로 팀(돔놀 글리슨)은 성인이 된 날, 아버지(빌 나이)로부터 놀랄...\n",
       "5     소수의견 “피고는 경찰이 아들을 죽였다고 하고, 검사는 철거용역이라고 한다  원고 ...\n",
       "6     올드보이 술에 취해 집에 가는 길, 누군가에게 납치당해 사설 감금방에 갇힌 오대수(...\n",
       "7     더셀 하얗게 표백된 미모의 시체들, 상상을 초월한 살인 기구 '더 셀'... 단 4...\n",
       "8     컨저링 모든 것은 악마가 시켰다!1981년, 미국 역사상 최초로 잔혹한 살인사건의 ...\n",
       "9     노예12년 1840년대 미국에서는 노예 수입이 금지되자 흑인 납치 사건이 만연하게 ...\n",
       "10    스파이더맨 마블 히어로의 세대교체!“어벤져스가 되려면 시험 같은 거 봐요?”‘시빌 ...\n",
       "11    해운대 2004년 역사상 유례없는 최대의 사상자를 내며 전세계에 엄청난 충격을 안겨...\n",
       "12    인터스텔라 “우린 답을 찾을 거야, 늘 그랬듯이”세계 각국의 정부와 경제가 완전히 ...\n",
       "13    1917 두 명의 병사, 하나의 미션!그들이 싸워야 할 것은 적이 아니라 시간이었다...\n",
       "14    스쿨 오브 락 록 밴드 단원인 듀이 핀은 로커답지 않게 뚱뚱하고 촌스러운 외모와 공...\n",
       "15    말아톤 얼룩말과 초코파이를 좋아하는, 겉보기엔 또래 아이들과 다른 것 하나 없는 귀...\n",
       "16    콜 미 바이 유어 네임 네 이름으로 날 불러줘 내 이름으로 널 부를게1983년 이탈...\n",
       "17    라이프 오브 파이 얀 마텔의 베스트셀러 소설을 영화한 작품으로 소설은 폭풍우로 침몰...\n",
       "dtype: object"
      ]
     },
     "execution_count": 7,
     "metadata": {},
     "output_type": "execute_result"
    }
   ],
   "source": [
    "# 영화 제목 + 줄거리\n",
    "\n",
    "X = movies_popular['title'] + \" \" + movies_popular['plot']\n",
    "X"
   ]
  },
  {
   "cell_type": "code",
   "execution_count": 8,
   "metadata": {},
   "outputs": [
    {
     "data": {
      "text/plain": [
       "18"
      ]
     },
     "execution_count": 8,
     "metadata": {},
     "output_type": "execute_result"
    }
   ],
   "source": [
    "len(X)"
   ]
  },
  {
   "cell_type": "markdown",
   "metadata": {},
   "source": [
    "## Vectorizer => TF-IDF\n",
    "- plot DATA => 18개 (대표 장르 수)"
   ]
  },
  {
   "cell_type": "code",
   "execution_count": 9,
   "metadata": {},
   "outputs": [],
   "source": [
    "Vectorizer = TfidfVectorizer()"
   ]
  },
  {
   "cell_type": "code",
   "execution_count": 11,
   "metadata": {},
   "outputs": [
    {
     "data": {
      "text/plain": [
       "<18x1613 sparse matrix of type '<class 'numpy.float64'>'\n",
       "\twith 1837 stored elements in Compressed Sparse Row format>"
      ]
     },
     "execution_count": 11,
     "metadata": {},
     "output_type": "execute_result"
    }
   ],
   "source": [
    "X_vec = Vectorizer.fit_transform(X)\n",
    "X_vec"
   ]
  },
  {
   "cell_type": "code",
   "execution_count": 12,
   "metadata": {},
   "outputs": [
    {
     "name": "stdout",
     "output_type": "stream",
     "text": [
      "(18, 1613)\n"
     ]
    },
    {
     "data": {
      "text/plain": [
       "array([[0.        , 0.        , 0.        , ..., 0.        , 0.        ,\n",
       "        0.        ],\n",
       "       [0.        , 0.        , 0.        , ..., 0.        , 0.        ,\n",
       "        0.        ],\n",
       "       [0.        , 0.        , 0.        , ..., 0.06035048, 0.06035048,\n",
       "        0.06035048],\n",
       "       ...,\n",
       "       [0.        , 0.        , 0.        , ..., 0.        , 0.        ,\n",
       "        0.        ],\n",
       "       [0.        , 0.        , 0.        , ..., 0.        , 0.        ,\n",
       "        0.        ],\n",
       "       [0.        , 0.        , 0.        , ..., 0.        , 0.        ,\n",
       "        0.        ]])"
      ]
     },
     "execution_count": 12,
     "metadata": {},
     "output_type": "execute_result"
    }
   ],
   "source": [
    "X_vec = X_vec.toarray()\n",
    "print(X_vec.shape)\n",
    "X_vec"
   ]
  },
  {
   "cell_type": "code",
   "execution_count": 13,
   "metadata": {},
   "outputs": [
    {
     "data": {
      "text/plain": [
       "array([[1.        , 0.00455675, 0.00789599, 0.03486584, 0.        ,\n",
       "        0.01741469, 0.00344794, 0.00392001, 0.        , 0.01251643,\n",
       "        0.01293578, 0.0071949 , 0.0129011 , 0.01623887, 0.        ,\n",
       "        0.01548776, 0.04185317, 0.00329348],\n",
       "       [0.00455675, 1.        , 0.008342  , 0.03674951, 0.00541759,\n",
       "        0.00503356, 0.00700066, 0.00212718, 0.        , 0.00655783,\n",
       "        0.02291494, 0.00913008, 0.00345262, 0.00322768, 0.00452992,\n",
       "        0.01646721, 0.00685704, 0.01194456],\n",
       "       [0.00789599, 0.008342  , 1.        , 0.02339577, 0.02810806,\n",
       "        0.01951709, 0.02925245, 0.01955902, 0.00258879, 0.01214864,\n",
       "        0.01519941, 0.02285852, 0.01413722, 0.00739198, 0.00721793,\n",
       "        0.02619204, 0.01015236, 0.02488968],\n",
       "       [0.03486584, 0.03674951, 0.02339577, 1.        , 0.01475455,\n",
       "        0.01403106, 0.02843784, 0.01166481, 0.00315277, 0.03522361,\n",
       "        0.01128602, 0.01133911, 0.01235309, 0.00770581, 0.02305134,\n",
       "        0.04779884, 0.01152079, 0.04613238],\n",
       "       [0.        , 0.00541759, 0.02810806, 0.01475455, 1.        ,\n",
       "        0.01507038, 0.03495708, 0.02379663, 0.        , 0.00584849,\n",
       "        0.01241931, 0.02847851, 0.00658745, 0.00615828, 0.        ,\n",
       "        0.03116771, 0.03429691, 0.02478717],\n",
       "       [0.01741469, 0.00503356, 0.01951709, 0.01403106, 0.01507038,\n",
       "        1.        , 0.03562588, 0.03218492, 0.        , 0.01731897,\n",
       "        0.01161433, 0.00640963, 0.00287015, 0.02159807, 0.01183815,\n",
       "        0.01502555, 0.        , 0.0135243 ],\n",
       "       [0.00344794, 0.00700066, 0.02925245, 0.02843784, 0.03495708,\n",
       "        0.03562588, 1.        , 0.00809646, 0.00905511, 0.01141795,\n",
       "        0.        , 0.05487348, 0.        , 0.00731225, 0.00791874,\n",
       "        0.04250804, 0.01355497, 0.0259714 ],\n",
       "       [0.00392001, 0.00212718, 0.01955902, 0.01166481, 0.02379663,\n",
       "        0.03218492, 0.00809646, 1.        , 0.01238696, 0.01331113,\n",
       "        0.01277562, 0.02455534, 0.0107471 , 0.01555253, 0.        ,\n",
       "        0.02616139, 0.01208786, 0.015175  ],\n",
       "       [0.        , 0.        , 0.00258879, 0.00315277, 0.        ,\n",
       "        0.        , 0.00905511, 0.01238696, 1.        , 0.01576198,\n",
       "        0.        , 0.0112126 , 0.00550386, 0.02146049, 0.        ,\n",
       "        0.0166728 , 0.00965234, 0.01849393],\n",
       "       [0.01251643, 0.00655783, 0.01214864, 0.03522361, 0.00584849,\n",
       "        0.01731897, 0.01141795, 0.01331113, 0.01576198, 1.        ,\n",
       "        0.02789711, 0.01204915, 0.01171716, 0.03697532, 0.00431822,\n",
       "        0.03361003, 0.01911444, 0.02942872],\n",
       "       [0.01293578, 0.02291494, 0.01519941, 0.01128602, 0.01241931,\n",
       "        0.01161433, 0.        , 0.01277562, 0.        , 0.02789711,\n",
       "        1.        , 0.0063961 , 0.        , 0.01443598, 0.01073666,\n",
       "        0.01966414, 0.00892016, 0.03799809],\n",
       "       [0.0071949 , 0.00913008, 0.02285852, 0.01133911, 0.02847851,\n",
       "        0.00640963, 0.05487348, 0.02455534, 0.0112126 , 0.01204915,\n",
       "        0.0063961 , 1.        , 0.00499274, 0.00218877, 0.01363571,\n",
       "        0.05327173, 0.01277643, 0.02402861],\n",
       "       [0.0129011 , 0.00345262, 0.01413722, 0.01235309, 0.00658745,\n",
       "        0.00287015, 0.        , 0.0107471 , 0.00550386, 0.01171716,\n",
       "        0.        , 0.00499274, 1.        , 0.00392465, 0.        ,\n",
       "        0.0138929 , 0.        , 0.00847799],\n",
       "       [0.01623887, 0.00322768, 0.00739198, 0.00770581, 0.00615828,\n",
       "        0.02159807, 0.00731225, 0.01555253, 0.02146049, 0.03697532,\n",
       "        0.01443598, 0.00218877, 0.00392465, 1.        , 0.        ,\n",
       "        0.00822939, 0.00779452, 0.        ],\n",
       "       [0.        , 0.00452992, 0.00721793, 0.02305134, 0.        ,\n",
       "        0.01183815, 0.00791874, 0.        , 0.        , 0.00431822,\n",
       "        0.01073666, 0.01363571, 0.        , 0.        , 1.        ,\n",
       "        0.01329926, 0.        , 0.02178225],\n",
       "       [0.01548776, 0.01646721, 0.02619204, 0.04779884, 0.03116771,\n",
       "        0.01502555, 0.04250804, 0.02616139, 0.0166728 , 0.03361003,\n",
       "        0.01966414, 0.05327173, 0.0138929 , 0.00822939, 0.01329926,\n",
       "        1.        , 0.00805623, 0.03477739],\n",
       "       [0.04185317, 0.00685704, 0.01015236, 0.01152079, 0.03429691,\n",
       "        0.        , 0.01355497, 0.01208786, 0.00965234, 0.01911444,\n",
       "        0.00892016, 0.01277643, 0.        , 0.00779452, 0.        ,\n",
       "        0.00805623, 1.        , 0.01282998],\n",
       "       [0.00329348, 0.01194456, 0.02488968, 0.04613238, 0.02478717,\n",
       "        0.0135243 , 0.0259714 , 0.015175  , 0.01849393, 0.02942872,\n",
       "        0.03799809, 0.02402861, 0.00847799, 0.        , 0.02178225,\n",
       "        0.03477739, 0.01282998, 1.        ]])"
      ]
     },
     "execution_count": 13,
     "metadata": {},
     "output_type": "execute_result"
    }
   ],
   "source": [
    "similarity = cosine_similarity(X_vec)\n",
    "similarity"
   ]
  },
  {
   "cell_type": "code",
   "execution_count": 14,
   "metadata": {},
   "outputs": [
    {
     "data": {
      "text/plain": [
       "(18, 18)"
      ]
     },
     "execution_count": 14,
     "metadata": {},
     "output_type": "execute_result"
    }
   ],
   "source": [
    "similarity.shape"
   ]
  },
  {
   "cell_type": "code",
   "execution_count": 15,
   "metadata": {},
   "outputs": [],
   "source": [
    "import seaborn as sns\n",
    "\n",
    "plt.rcParams['figure.figsize'] = [10, 8]"
   ]
  },
  {
   "cell_type": "code",
   "execution_count": 23,
   "metadata": {},
   "outputs": [
    {
     "data": {
      "image/png": "[encoded data removed]",
      "text/plain": [
       "<Figure size 720x576 with 2 Axes>"
      ]
     },
     "metadata": {},
     "output_type": "display_data"
    }
   ],
   "source": [
    "sns.heatmap(similarity, cmap='RdYlGn_r', annot=True) # (if) integer => fmt='d'\n",
    "\n",
    "plt.title('Popular movies (User input)', fontsize=20)\n",
    "\n",
    "plt.show()"
   ]
  },
  {
   "cell_type": "markdown",
   "metadata": {},
   "source": [
    "# Independent Movies X Popular Movies\n",
    "- User `input` => 상업영화 [movies_popular]\n",
    "- Similarity `output` => 독립영화 [movies]"
   ]
  },
  {
   "cell_type": "code",
   "execution_count": 26,
   "metadata": {},
   "outputs": [
    {
     "data": {
      "text/html": [
       "<div>\n",
       "<style scoped>\n",
       "    .dataframe tbody tr th:only-of-type {\n",
       "        vertical-align: middle;\n",
       "    }\n",
       "\n",
       "    .dataframe tbody tr th {\n",
       "        vertical-align: top;\n",
       "    }\n",
       "\n",
       "    .dataframe thead th {\n",
       "        text-align: right;\n",
       "    }\n",
       "</style>\n",
       "<table border=\"1\" class=\"dataframe\">\n",
       "  <thead>\n",
       "    <tr style=\"text-align: right;\">\n",
       "      <th></th>\n",
       "      <th>year</th>\n",
       "      <th>film_festival</th>\n",
       "      <th>title</th>\n",
       "      <th>director</th>\n",
       "      <th>field</th>\n",
       "      <th>award</th>\n",
       "      <th>genre</th>\n",
       "      <th>plot</th>\n",
       "      <th>rating</th>\n",
       "      <th>runtime</th>\n",
       "      <th>prodYear</th>\n",
       "      <th>actors</th>\n",
       "      <th>img_link</th>\n",
       "      <th>stills</th>\n",
       "    </tr>\n",
       "  </thead>\n",
       "  <tbody>\n",
       "    <tr>\n",
       "      <th>0</th>\n",
       "      <td>2021</td>\n",
       "      <td>소리아 국제단편영화제</td>\n",
       "      <td>조지아</td>\n",
       "      <td>제이 박</td>\n",
       "      <td>NaN</td>\n",
       "      <td>NaN</td>\n",
       "      <td>가족,범죄</td>\n",
       "      <td>병들고 가난한 부부가 딸의 억울한 죽음을 규명하기 위해 나선다. 가해자를 밝히지도 ...</td>\n",
       "      <td>12세관람가</td>\n",
       "      <td>29.0</td>\n",
       "      <td>2020.0</td>\n",
       "      <td>이양희,이채경,김규남</td>\n",
       "      <td>https://ssl.pstatic.net/imgmovie/mdi/mit110/19...</td>\n",
       "      <td>http://file.koreafilm.or.kr/thm/01/copy/00/55/...</td>\n",
       "    </tr>\n",
       "    <tr>\n",
       "      <th>1</th>\n",
       "      <td>2021</td>\n",
       "      <td>보고타 단편영화제</td>\n",
       "      <td>미미(美味): 궁극의 식사</td>\n",
       "      <td>한재원</td>\n",
       "      <td>경쟁부문</td>\n",
       "      <td>NaN</td>\n",
       "      <td>코메디,공포</td>\n",
       "      <td>미각을 잃은 미식 유튜버 성호는 어딘가 기괴한 음식점에 방문한다.</td>\n",
       "      <td>NaN</td>\n",
       "      <td>19.0</td>\n",
       "      <td>2020.0</td>\n",
       "      <td>김최용준,정경임,이종윤</td>\n",
       "      <td>https://ssl.pstatic.net/imgmovie/mdi/mit110/20...</td>\n",
       "      <td>http://file.koreafilm.or.kr/thm/01/copy/00/59/...</td>\n",
       "    </tr>\n",
       "  </tbody>\n",
       "</table>\n",
       "</div>"
      ],
      "text/plain": [
       "   year film_festival           title director field award   genre  \\\n",
       "0  2021   소리아 국제단편영화제             조지아     제이 박   NaN   NaN   가족,범죄   \n",
       "1  2021     보고타 단편영화제  미미(美味): 궁극의 식사      한재원  경쟁부문   NaN  코메디,공포   \n",
       "\n",
       "                                                plot  rating  runtime  \\\n",
       "0  병들고 가난한 부부가 딸의 억울한 죽음을 규명하기 위해 나선다. 가해자를 밝히지도 ...  12세관람가     29.0   \n",
       "1               미각을 잃은 미식 유튜버 성호는 어딘가 기괴한 음식점에 방문한다.     NaN     19.0   \n",
       "\n",
       "   prodYear        actors                                           img_link  \\\n",
       "0    2020.0   이양희,이채경,김규남  https://ssl.pstatic.net/imgmovie/mdi/mit110/19...   \n",
       "1    2020.0  김최용준,정경임,이종윤  https://ssl.pstatic.net/imgmovie/mdi/mit110/20...   \n",
       "\n",
       "                                              stills  \n",
       "0  http://file.koreafilm.or.kr/thm/01/copy/00/55/...  \n",
       "1  http://file.koreafilm.or.kr/thm/01/copy/00/59/...  "
      ]
     },
     "execution_count": 26,
     "metadata": {},
     "output_type": "execute_result"
    }
   ],
   "source": [
    "movies = pd.read_csv('./film_festival_ver3.csv')\n",
    "movies.head(2)"
   ]
  },
  {
   "cell_type": "code",
   "execution_count": 27,
   "metadata": {},
   "outputs": [
    {
     "data": {
      "text/plain": [
       "0       조지아 병들고 가난한 부부가 딸의 억울한 죽음을 규명하기 위해 나선다. 가해자를 밝...\n",
       "1       미미(美味): 궁극의 식사 미각을 잃은 미식 유튜버 성호는 어딘가 기괴한 음식점에 ...\n",
       "2                                                     NaN\n",
       "3       절해고도 절해고도. '육지에서 멀리 떨어진 바다의 외딴 섬'이라는 뜻을 지닌 제목은...\n",
       "4       장갑을 사러 피아노를 가르치는 인경은 연인의 일본 발령 소식에 일본어 학원을 다니기...\n",
       "                              ...                        \n",
       "3357    엔조이 유어 썸머 어느 무더운 여름, 아직 회사 생활에 적응하지 못한 한 남자에게 ...\n",
       "3358    너무 많이 본 사나이 승수는 앞집에 세들어 사는 여자를 몰래 카메라에 담기 위해 친...\n",
       "3359    아리랑 아리랑 음악에 맞추어 한국 전통 문양들이 생성되고 소멸된다. 연출의도_ 관성...\n",
       "3360    온실 작은 아파트에 홀로 사는 노인은 빨래, 신문 읽기, 라디오 듣기, 노래 따라 ...\n",
       "3361    초촌면 신암리 삭막해진 농촌에서 유기농사를 짓는 주인공은 고집스러움 때문에 마을 사...\n",
       "Length: 3362, dtype: object"
      ]
     },
     "execution_count": 27,
     "metadata": {},
     "output_type": "execute_result"
    }
   ],
   "source": [
    "# 영화 제목 + 줄거리\n",
    "\n",
    "Y = movies['title'] + \" \" + movies['plot']\n",
    "Y"
   ]
  },
  {
   "cell_type": "code",
   "execution_count": 29,
   "metadata": {},
   "outputs": [
    {
     "data": {
      "text/plain": [
       "3362"
      ]
     },
     "execution_count": 29,
     "metadata": {},
     "output_type": "execute_result"
    }
   ],
   "source": [
    "len(Y)"
   ]
  },
  {
   "cell_type": "markdown",
   "metadata": {},
   "source": [
    "## Vectorizer\n",
    "- plot DATA => 3055 rows"
   ]
  },
  {
   "cell_type": "code",
   "execution_count": 30,
   "metadata": {},
   "outputs": [],
   "source": [
    "Vectorizer = TfidfVectorizer() # TF-IDF (words)"
   ]
  },
  {
   "cell_type": "code",
   "execution_count": 31,
   "metadata": {},
   "outputs": [
    {
     "data": {
      "text/plain": [
       "0       조지아 병들고 가난한 부부가 딸의 억울한 죽음을 규명하기 위해 나선다. 가해자를 밝...\n",
       "1       미미(美味): 궁극의 식사 미각을 잃은 미식 유튜버 성호는 어딘가 기괴한 음식점에 ...\n",
       "3       절해고도 절해고도. '육지에서 멀리 떨어진 바다의 외딴 섬'이라는 뜻을 지닌 제목은...\n",
       "4       장갑을 사러 피아노를 가르치는 인경은 연인의 일본 발령 소식에 일본어 학원을 다니기...\n",
       "8       내일의 연인들 29세의 대학원생 정안은 어느 날, 선애 누나의 전화를 받는다. 선애...\n",
       "                              ...                        \n",
       "3357    엔조이 유어 썸머 어느 무더운 여름, 아직 회사 생활에 적응하지 못한 한 남자에게 ...\n",
       "3358    너무 많이 본 사나이 승수는 앞집에 세들어 사는 여자를 몰래 카메라에 담기 위해 친...\n",
       "3359    아리랑 아리랑 음악에 맞추어 한국 전통 문양들이 생성되고 소멸된다. 연출의도_ 관성...\n",
       "3360    온실 작은 아파트에 홀로 사는 노인은 빨래, 신문 읽기, 라디오 듣기, 노래 따라 ...\n",
       "3361    초촌면 신암리 삭막해진 농촌에서 유기농사를 짓는 주인공은 고집스러움 때문에 마을 사...\n",
       "Length: 3055, dtype: object"
      ]
     },
     "execution_count": 31,
     "metadata": {},
     "output_type": "execute_result"
    }
   ],
   "source": [
    "# np.nan == NaN (Not a Number, is null).\n",
    "Y_na = Y.dropna(axis=0)\n",
    "Y_na"
   ]
  },
  {
   "cell_type": "code",
   "execution_count": 49,
   "metadata": {},
   "outputs": [
    {
     "data": {
      "text/plain": [
       "pandas.core.series.Series"
      ]
     },
     "execution_count": 49,
     "metadata": {},
     "output_type": "execute_result"
    }
   ],
   "source": [
    "type(Y_na)"
   ]
  },
  {
   "cell_type": "code",
   "execution_count": 33,
   "metadata": {},
   "outputs": [
    {
     "data": {
      "text/plain": [
       "3055"
      ]
     },
     "execution_count": 33,
     "metadata": {},
     "output_type": "execute_result"
    }
   ],
   "source": [
    "len(Y_na)"
   ]
  },
  {
   "cell_type": "code",
   "execution_count": 35,
   "metadata": {},
   "outputs": [
    {
     "data": {
      "text/plain": [
       "307"
      ]
     },
     "execution_count": 35,
     "metadata": {},
     "output_type": "execute_result"
    }
   ],
   "source": [
    "# Plot NaN 개수\n",
    "Y_cnt_nan = len(Y) - len(Y_na)\n",
    "Y_cnt_nan"
   ]
  },
  {
   "cell_type": "code",
   "execution_count": 37,
   "metadata": {},
   "outputs": [
    {
     "data": {
      "text/plain": [
       "<3055x44992 sparse matrix of type '<class 'numpy.float64'>'\n",
       "\twith 128348 stored elements in Compressed Sparse Row format>"
      ]
     },
     "execution_count": 37,
     "metadata": {},
     "output_type": "execute_result"
    }
   ],
   "source": [
    "Y_vec = Vectorizer.fit_transform(Y_na)\n",
    "Y_vec"
   ]
  },
  {
   "cell_type": "code",
   "execution_count": 38,
   "metadata": {},
   "outputs": [
    {
     "name": "stdout",
     "output_type": "stream",
     "text": [
      "(3055, 44992)\n"
     ]
    },
    {
     "data": {
      "text/plain": [
       "array([[0., 0., 0., ..., 0., 0., 0.],\n",
       "       [0., 0., 0., ..., 0., 0., 0.],\n",
       "       [0., 0., 0., ..., 0., 0., 0.],\n",
       "       ...,\n",
       "       [0., 0., 0., ..., 0., 0., 0.],\n",
       "       [0., 0., 0., ..., 0., 0., 0.],\n",
       "       [0., 0., 0., ..., 0., 0., 0.]])"
      ]
     },
     "execution_count": 38,
     "metadata": {},
     "output_type": "execute_result"
    }
   ],
   "source": [
    "Y_vec = Y_vec.toarray()\n",
    "print(Y_vec.shape)\n",
    "Y_vec"
   ]
  },
  {
   "cell_type": "markdown",
   "metadata": {},
   "source": [
    "## Cosine Similarity\n",
    "- 독립영화 X 독립영화 => 정사각 행렬\n",
    "    - (3055, 3055)\n",
    "- run time => 41.1 sec"
   ]
  },
  {
   "cell_type": "code",
   "execution_count": 39,
   "metadata": {},
   "outputs": [
    {
     "data": {
      "text/plain": [
       "array([[1.        , 0.        , 0.00289128, ..., 0.        , 0.        ,\n",
       "        0.        ],\n",
       "       [0.        , 1.        , 0.        , ..., 0.        , 0.        ,\n",
       "        0.        ],\n",
       "       [0.00289128, 0.        , 1.        , ..., 0.        , 0.01295611,\n",
       "        0.        ],\n",
       "       ...,\n",
       "       [0.        , 0.        , 0.        , ..., 1.        , 0.00327306,\n",
       "        0.        ],\n",
       "       [0.        , 0.        , 0.01295611, ..., 0.00327306, 1.        ,\n",
       "        0.        ],\n",
       "       [0.        , 0.        , 0.        , ..., 0.        , 0.        ,\n",
       "        1.        ]])"
      ]
     },
     "execution_count": 39,
     "metadata": {},
     "output_type": "execute_result"
    }
   ],
   "source": [
    "similarity = cosine_similarity(Y_vec)\n",
    "similarity"
   ]
  },
  {
   "cell_type": "code",
   "execution_count": 40,
   "metadata": {},
   "outputs": [
    {
     "data": {
      "text/plain": [
       "(3055, 3055)"
      ]
     },
     "execution_count": 40,
     "metadata": {},
     "output_type": "execute_result"
    }
   ],
   "source": [
    "similarity.shape"
   ]
  },
  {
   "cell_type": "markdown",
   "metadata": {},
   "source": [
    "## Recommendation Function\n",
    "### Similarity - 독립영화\n",
    "- categorical DATA == TOP10"
   ]
  },
  {
   "cell_type": "code",
   "execution_count": 41,
   "metadata": {},
   "outputs": [],
   "source": [
    "def recommendContent(movie, movies=list(movies['title'])):\n",
    "    title = difflib.get_close_matches(movie, movies)[0]\n",
    "    index = movies.index(title)\n",
    "    \n",
    "    similar_movies = similarity[index]\n",
    "\n",
    "    similar_movies = sorted(range(len(similar_movies)), key=lambda k: similar_movies[k], reverse = True)[1:11] # sorting Top 10\n",
    "    recommended = [movies[i] for i in similar_movies]\n",
    "    \n",
    "    \n",
    "    return recommended"
   ]
  },
  {
   "cell_type": "code",
   "execution_count": 42,
   "metadata": {},
   "outputs": [
    {
     "data": {
      "text/plain": [
       "['델타 보이즈',\n",
       " '괜찮아, 임마',\n",
       " '지리멸렬',\n",
       " '높이뛰기',\n",
       " '은희',\n",
       " '피는 잔칫집에서 흘려라',\n",
       " '불한당들',\n",
       " '대한철강',\n",
       " '의자가 되는 법',\n",
       " '바느질 하는 여자']"
      ]
     },
     "execution_count": 42,
     "metadata": {},
     "output_type": "execute_result"
    }
   ],
   "source": [
    "# TEST\n",
    "recommendContent(\"겨울의 피아니스트\")"
   ]
  },
  {
   "cell_type": "markdown",
   "metadata": {},
   "source": [
    "# Similarity : 상업영화 =(input)=> 독립영화"
   ]
  },
  {
   "cell_type": "markdown",
   "metadata": {},
   "source": [
    "## DataFrame + DataFrame"
   ]
  },
  {
   "cell_type": "code",
   "execution_count": 64,
   "metadata": {},
   "outputs": [
    {
     "data": {
      "text/html": [
       "<div>\n",
       "<style scoped>\n",
       "    .dataframe tbody tr th:only-of-type {\n",
       "        vertical-align: middle;\n",
       "    }\n",
       "\n",
       "    .dataframe tbody tr th {\n",
       "        vertical-align: top;\n",
       "    }\n",
       "\n",
       "    .dataframe thead th {\n",
       "        text-align: right;\n",
       "    }\n",
       "</style>\n",
       "<table border=\"1\" class=\"dataframe\">\n",
       "  <thead>\n",
       "    <tr style=\"text-align: right;\">\n",
       "      <th></th>\n",
       "      <th>title</th>\n",
       "      <th>director</th>\n",
       "      <th>genre</th>\n",
       "      <th>plot</th>\n",
       "      <th>img_link</th>\n",
       "      <th>year</th>\n",
       "      <th>film_festival</th>\n",
       "      <th>field</th>\n",
       "      <th>award</th>\n",
       "      <th>rating</th>\n",
       "      <th>runtime</th>\n",
       "      <th>prodYear</th>\n",
       "      <th>actors</th>\n",
       "      <th>stills</th>\n",
       "    </tr>\n",
       "  </thead>\n",
       "  <tbody>\n",
       "    <tr>\n",
       "      <th>0</th>\n",
       "      <td>기생충</td>\n",
       "      <td>봉준호</td>\n",
       "      <td>드라마</td>\n",
       "      <td>“같이 잘 살면 안 될까요?”전원백수로 살 길 막막하지만 사이는 좋은 기택(송강호)...</td>\n",
       "      <td>http://file.koreafilm.or.kr/thm/02/00/05/15/tn...</td>\n",
       "      <td>NaN</td>\n",
       "      <td>NaN</td>\n",
       "      <td>NaN</td>\n",
       "      <td>NaN</td>\n",
       "      <td>NaN</td>\n",
       "      <td>NaN</td>\n",
       "      <td>NaN</td>\n",
       "      <td>NaN</td>\n",
       "      <td>NaN</td>\n",
       "    </tr>\n",
       "    <tr>\n",
       "      <th>1</th>\n",
       "      <td>극한직업</td>\n",
       "      <td>이병헌</td>\n",
       "      <td>코메디</td>\n",
       "      <td>낮에는 치킨장사! 밤에는 잠복근무!지금까지 이런 수사는 없었다!불철주야 달리고 구르...</td>\n",
       "      <td>http://file.koreafilm.or.kr/thm/02/00/04/85/tn...</td>\n",
       "      <td>NaN</td>\n",
       "      <td>NaN</td>\n",
       "      <td>NaN</td>\n",
       "      <td>NaN</td>\n",
       "      <td>NaN</td>\n",
       "      <td>NaN</td>\n",
       "      <td>NaN</td>\n",
       "      <td>NaN</td>\n",
       "      <td>NaN</td>\n",
       "    </tr>\n",
       "    <tr>\n",
       "      <th>2</th>\n",
       "      <td>해리포터</td>\n",
       "      <td>데이빗 예이츠</td>\n",
       "      <td>판타지</td>\n",
       "      <td>길고도 지루한 여름 날 호그와트 마법학교 다섯 번째 해를 기다리고 있는 해리포터(다...</td>\n",
       "      <td>http://file.koreafilm.or.kr/thm/02/00/00/95/tn...</td>\n",
       "      <td>NaN</td>\n",
       "      <td>NaN</td>\n",
       "      <td>NaN</td>\n",
       "      <td>NaN</td>\n",
       "      <td>NaN</td>\n",
       "      <td>NaN</td>\n",
       "      <td>NaN</td>\n",
       "      <td>NaN</td>\n",
       "      <td>NaN</td>\n",
       "    </tr>\n",
       "    <tr>\n",
       "      <th>3</th>\n",
       "      <td>센과 치히로의 행방불명</td>\n",
       "      <td>미야자키 하야오</td>\n",
       "      <td>가족</td>\n",
       "      <td>짜증 잘 내고, 칭얼거리기 좋아하는 평범한 열 살짜리 소녀 치히로와 부모님은 이사 ...</td>\n",
       "      <td>http://file.koreafilm.or.kr/thm/02/00/03/88/tn...</td>\n",
       "      <td>NaN</td>\n",
       "      <td>NaN</td>\n",
       "      <td>NaN</td>\n",
       "      <td>NaN</td>\n",
       "      <td>NaN</td>\n",
       "      <td>NaN</td>\n",
       "      <td>NaN</td>\n",
       "      <td>NaN</td>\n",
       "      <td>NaN</td>\n",
       "    </tr>\n",
       "    <tr>\n",
       "      <th>4</th>\n",
       "      <td>어바웃타임</td>\n",
       "      <td>리차드 커티스</td>\n",
       "      <td>멜로</td>\n",
       "      <td>모태솔로 팀(돔놀 글리슨)은 성인이 된 날, 아버지(빌 나이)로부터 놀랄만한 가문의...</td>\n",
       "      <td>http://file.koreafilm.or.kr/thm/02/00/02/08/tn...</td>\n",
       "      <td>NaN</td>\n",
       "      <td>NaN</td>\n",
       "      <td>NaN</td>\n",
       "      <td>NaN</td>\n",
       "      <td>NaN</td>\n",
       "      <td>NaN</td>\n",
       "      <td>NaN</td>\n",
       "      <td>NaN</td>\n",
       "      <td>NaN</td>\n",
       "    </tr>\n",
       "    <tr>\n",
       "      <th>...</th>\n",
       "      <td>...</td>\n",
       "      <td>...</td>\n",
       "      <td>...</td>\n",
       "      <td>...</td>\n",
       "      <td>...</td>\n",
       "      <td>...</td>\n",
       "      <td>...</td>\n",
       "      <td>...</td>\n",
       "      <td>...</td>\n",
       "      <td>...</td>\n",
       "      <td>...</td>\n",
       "      <td>...</td>\n",
       "      <td>...</td>\n",
       "      <td>...</td>\n",
       "    </tr>\n",
       "    <tr>\n",
       "      <th>3357</th>\n",
       "      <td>엔조이 유어 썸머</td>\n",
       "      <td>이형곤</td>\n",
       "      <td>드라마</td>\n",
       "      <td>어느 무더운 여름, 아직 회사 생활에 적응하지 못한 한 남자에게 일어난 금요일부터 ...</td>\n",
       "      <td>NaN</td>\n",
       "      <td>2000.0</td>\n",
       "      <td>정동진독립영화제</td>\n",
       "      <td>재밌는 단편모음 1</td>\n",
       "      <td>NaN</td>\n",
       "      <td>15세관람가</td>\n",
       "      <td>23.0</td>\n",
       "      <td>2000.0</td>\n",
       "      <td>오상무,권호웅,박철민</td>\n",
       "      <td>http://file.koreafilm.or.kr/thm/01/copy/00/36/...</td>\n",
       "    </tr>\n",
       "    <tr>\n",
       "      <th>3358</th>\n",
       "      <td>너무 많이 본 사나이</td>\n",
       "      <td>손재곤</td>\n",
       "      <td>코메디,드라마,스릴러</td>\n",
       "      <td>승수는 앞집에 세들어 사는 여자를 몰래 카메라에 담기 위해 친구에게서 구형 VHS ...</td>\n",
       "      <td>https://ssl.pstatic.net/imgmovie/mdi/mit110/03...</td>\n",
       "      <td>2000.0</td>\n",
       "      <td>정동진독립영화제</td>\n",
       "      <td>독립장편영화 1</td>\n",
       "      <td>NaN</td>\n",
       "      <td>NaN</td>\n",
       "      <td>52.0</td>\n",
       "      <td>2000.0</td>\n",
       "      <td>김상헌,김신성,이계영</td>\n",
       "      <td>http://file.koreafilm.or.kr/thm/01/copy/00/31/...</td>\n",
       "    </tr>\n",
       "    <tr>\n",
       "      <th>3359</th>\n",
       "      <td>아리랑</td>\n",
       "      <td>강준원</td>\n",
       "      <td>실험</td>\n",
       "      <td>아리랑 음악에 맞추어 한국 전통 문양들이 생성되고 소멸된다. 연출의도_ 관성적으로 ...</td>\n",
       "      <td>https://ssl.pstatic.net/imgmovie/mdi/mit110/13...</td>\n",
       "      <td>2000.0</td>\n",
       "      <td>정동진독립영화제</td>\n",
       "      <td>단편과 애니 1</td>\n",
       "      <td>NaN</td>\n",
       "      <td>NaN</td>\n",
       "      <td>4.0</td>\n",
       "      <td>2000.0</td>\n",
       "      <td>NaN</td>\n",
       "      <td>http://file.koreafilm.or.kr/thm/01/copy/00/50/...</td>\n",
       "    </tr>\n",
       "    <tr>\n",
       "      <th>3360</th>\n",
       "      <td>온실</td>\n",
       "      <td>김지훈</td>\n",
       "      <td>드라마</td>\n",
       "      <td>작은 아파트에 홀로 사는 노인은 빨래, 신문 읽기, 라디오 듣기, 노래 따라 배우기...</td>\n",
       "      <td>https://ssl.pstatic.net/imgmovie/mdi/mit110/05...</td>\n",
       "      <td>2000.0</td>\n",
       "      <td>오버하우젠 국제단편영화제</td>\n",
       "      <td>NaN</td>\n",
       "      <td>NaN</td>\n",
       "      <td>NaN</td>\n",
       "      <td>15.0</td>\n",
       "      <td>1997.0</td>\n",
       "      <td>안원복,민영기,박범진</td>\n",
       "      <td>http://file.koreafilm.or.kr/thm/01/copy/00/30/...</td>\n",
       "    </tr>\n",
       "    <tr>\n",
       "      <th>3361</th>\n",
       "      <td>초촌면 신암리</td>\n",
       "      <td>오점균</td>\n",
       "      <td>드라마</td>\n",
       "      <td>삭막해진 농촌에서 유기농사를 짓는 주인공은 고집스러움 때문에 마을 사람들로부터 따돌...</td>\n",
       "      <td>https://ssl.pstatic.net/imgmovie/mdi/mit110/04...</td>\n",
       "      <td>2000.0</td>\n",
       "      <td>부에노스아이레스 국제독립영화제</td>\n",
       "      <td>NaN</td>\n",
       "      <td>NaN</td>\n",
       "      <td>NaN</td>\n",
       "      <td>26.0</td>\n",
       "      <td>1997.0</td>\n",
       "      <td>강수옥,박근우,김재범</td>\n",
       "      <td>http://file.koreafilm.or.kr/thm/01/copy/00/30/...</td>\n",
       "    </tr>\n",
       "  </tbody>\n",
       "</table>\n",
       "<p>3380 rows × 14 columns</p>\n",
       "</div>"
      ],
      "text/plain": [
       "             title  director        genre  \\\n",
       "0              기생충       봉준호          드라마   \n",
       "1             극한직업       이병헌          코메디   \n",
       "2             해리포터   데이빗 예이츠          판타지   \n",
       "3     센과 치히로의 행방불명  미야자키 하야오           가족   \n",
       "4            어바웃타임   리차드 커티스           멜로   \n",
       "...            ...       ...          ...   \n",
       "3357     엔조이 유어 썸머       이형곤          드라마   \n",
       "3358   너무 많이 본 사나이       손재곤  코메디,드라마,스릴러   \n",
       "3359           아리랑       강준원           실험   \n",
       "3360            온실       김지훈          드라마   \n",
       "3361       초촌면 신암리       오점균          드라마   \n",
       "\n",
       "                                                   plot  \\\n",
       "0     “같이 잘 살면 안 될까요?”전원백수로 살 길 막막하지만 사이는 좋은 기택(송강호)...   \n",
       "1     낮에는 치킨장사! 밤에는 잠복근무!지금까지 이런 수사는 없었다!불철주야 달리고 구르...   \n",
       "2     길고도 지루한 여름 날 호그와트 마법학교 다섯 번째 해를 기다리고 있는 해리포터(다...   \n",
       "3     짜증 잘 내고, 칭얼거리기 좋아하는 평범한 열 살짜리 소녀 치히로와 부모님은 이사 ...   \n",
       "4     모태솔로 팀(돔놀 글리슨)은 성인이 된 날, 아버지(빌 나이)로부터 놀랄만한 가문의...   \n",
       "...                                                 ...   \n",
       "3357  어느 무더운 여름, 아직 회사 생활에 적응하지 못한 한 남자에게 일어난 금요일부터 ...   \n",
       "3358  승수는 앞집에 세들어 사는 여자를 몰래 카메라에 담기 위해 친구에게서 구형 VHS ...   \n",
       "3359  아리랑 음악에 맞추어 한국 전통 문양들이 생성되고 소멸된다. 연출의도_ 관성적으로 ...   \n",
       "3360  작은 아파트에 홀로 사는 노인은 빨래, 신문 읽기, 라디오 듣기, 노래 따라 배우기...   \n",
       "3361  삭막해진 농촌에서 유기농사를 짓는 주인공은 고집스러움 때문에 마을 사람들로부터 따돌...   \n",
       "\n",
       "                                               img_link    year  \\\n",
       "0     http://file.koreafilm.or.kr/thm/02/00/05/15/tn...     NaN   \n",
       "1     http://file.koreafilm.or.kr/thm/02/00/04/85/tn...     NaN   \n",
       "2     http://file.koreafilm.or.kr/thm/02/00/00/95/tn...     NaN   \n",
       "3     http://file.koreafilm.or.kr/thm/02/00/03/88/tn...     NaN   \n",
       "4     http://file.koreafilm.or.kr/thm/02/00/02/08/tn...     NaN   \n",
       "...                                                 ...     ...   \n",
       "3357                                                NaN  2000.0   \n",
       "3358  https://ssl.pstatic.net/imgmovie/mdi/mit110/03...  2000.0   \n",
       "3359  https://ssl.pstatic.net/imgmovie/mdi/mit110/13...  2000.0   \n",
       "3360  https://ssl.pstatic.net/imgmovie/mdi/mit110/05...  2000.0   \n",
       "3361  https://ssl.pstatic.net/imgmovie/mdi/mit110/04...  2000.0   \n",
       "\n",
       "         film_festival       field award  rating  runtime  prodYear  \\\n",
       "0                  NaN         NaN   NaN     NaN      NaN       NaN   \n",
       "1                  NaN         NaN   NaN     NaN      NaN       NaN   \n",
       "2                  NaN         NaN   NaN     NaN      NaN       NaN   \n",
       "3                  NaN         NaN   NaN     NaN      NaN       NaN   \n",
       "4                  NaN         NaN   NaN     NaN      NaN       NaN   \n",
       "...                ...         ...   ...     ...      ...       ...   \n",
       "3357          정동진독립영화제  재밌는 단편모음 1   NaN  15세관람가     23.0    2000.0   \n",
       "3358          정동진독립영화제    독립장편영화 1   NaN     NaN     52.0    2000.0   \n",
       "3359          정동진독립영화제    단편과 애니 1   NaN     NaN      4.0    2000.0   \n",
       "3360     오버하우젠 국제단편영화제         NaN   NaN     NaN     15.0    1997.0   \n",
       "3361  부에노스아이레스 국제독립영화제         NaN   NaN     NaN     26.0    1997.0   \n",
       "\n",
       "           actors                                             stills  \n",
       "0             NaN                                                NaN  \n",
       "1             NaN                                                NaN  \n",
       "2             NaN                                                NaN  \n",
       "3             NaN                                                NaN  \n",
       "4             NaN                                                NaN  \n",
       "...           ...                                                ...  \n",
       "3357  오상무,권호웅,박철민  http://file.koreafilm.or.kr/thm/01/copy/00/36/...  \n",
       "3358  김상헌,김신성,이계영  http://file.koreafilm.or.kr/thm/01/copy/00/31/...  \n",
       "3359          NaN  http://file.koreafilm.or.kr/thm/01/copy/00/50/...  \n",
       "3360  안원복,민영기,박범진  http://file.koreafilm.or.kr/thm/01/copy/00/30/...  \n",
       "3361  강수옥,박근우,김재범  http://file.koreafilm.or.kr/thm/01/copy/00/30/...  \n",
       "\n",
       "[3380 rows x 14 columns]"
      ]
     },
     "execution_count": 64,
     "metadata": {},
     "output_type": "execute_result"
    }
   ],
   "source": [
    "movies_Z = pd.concat([movies_popular, movies])\n",
    "movies_Z"
   ]
  },
  {
   "cell_type": "markdown",
   "metadata": {},
   "source": [
    "## RAW DATA"
   ]
  },
  {
   "cell_type": "code",
   "execution_count": 50,
   "metadata": {},
   "outputs": [
    {
     "data": {
      "text/plain": [
       "0       기생충 “같이 잘 살면 안 될까요?”전원백수로 살 길 막막하지만 사이는 좋은 기택(...\n",
       "1       극한직업 낮에는 치킨장사! 밤에는 잠복근무!지금까지 이런 수사는 없었다!불철주야 달...\n",
       "2       해리포터 길고도 지루한 여름 날 호그와트 마법학교 다섯 번째 해를 기다리고 있는 해...\n",
       "3       센과 치히로의 행방불명 짜증 잘 내고, 칭얼거리기 좋아하는 평범한 열 살짜리 소녀 ...\n",
       "4       어바웃타임 모태솔로 팀(돔놀 글리슨)은 성인이 된 날, 아버지(빌 나이)로부터 놀랄...\n",
       "                              ...                        \n",
       "3357    엔조이 유어 썸머 어느 무더운 여름, 아직 회사 생활에 적응하지 못한 한 남자에게 ...\n",
       "3358    너무 많이 본 사나이 승수는 앞집에 세들어 사는 여자를 몰래 카메라에 담기 위해 친...\n",
       "3359    아리랑 아리랑 음악에 맞추어 한국 전통 문양들이 생성되고 소멸된다. 연출의도_ 관성...\n",
       "3360    온실 작은 아파트에 홀로 사는 노인은 빨래, 신문 읽기, 라디오 듣기, 노래 따라 ...\n",
       "3361    초촌면 신암리 삭막해진 농촌에서 유기농사를 짓는 주인공은 고집스러움 때문에 마을 사...\n",
       "Length: 3073, dtype: object"
      ]
     },
     "execution_count": 50,
     "metadata": {},
     "output_type": "execute_result"
    }
   ],
   "source": [
    "Z = pd.concat([X, Y_na])\n",
    "Z"
   ]
  },
  {
   "cell_type": "code",
   "execution_count": 51,
   "metadata": {},
   "outputs": [
    {
     "data": {
      "text/plain": [
       "3073"
      ]
     },
     "execution_count": 51,
     "metadata": {},
     "output_type": "execute_result"
    }
   ],
   "source": [
    "len(Z) # 18 + 3055"
   ]
  },
  {
   "cell_type": "code",
   "execution_count": 53,
   "metadata": {},
   "outputs": [
    {
     "data": {
      "text/plain": [
       "<3073x45705 sparse matrix of type '<class 'numpy.float64'>'\n",
       "\twith 130185 stored elements in Compressed Sparse Row format>"
      ]
     },
     "execution_count": 53,
     "metadata": {},
     "output_type": "execute_result"
    }
   ],
   "source": [
    "Z_vec = Vectorizer.fit_transform(Z)\n",
    "Z_vec"
   ]
  },
  {
   "cell_type": "code",
   "execution_count": 54,
   "metadata": {},
   "outputs": [
    {
     "name": "stdout",
     "output_type": "stream",
     "text": [
      "(3073, 45705)\n"
     ]
    },
    {
     "data": {
      "text/plain": [
       "array([[0., 0., 0., ..., 0., 0., 0.],\n",
       "       [0., 0., 0., ..., 0., 0., 0.],\n",
       "       [0., 0., 0., ..., 0., 0., 0.],\n",
       "       ...,\n",
       "       [0., 0., 0., ..., 0., 0., 0.],\n",
       "       [0., 0., 0., ..., 0., 0., 0.],\n",
       "       [0., 0., 0., ..., 0., 0., 0.]])"
      ]
     },
     "execution_count": 54,
     "metadata": {},
     "output_type": "execute_result"
    }
   ],
   "source": [
    "Z_vec = Z_vec.toarray()\n",
    "print(Z_vec.shape)\n",
    "Z_vec"
   ]
  },
  {
   "cell_type": "markdown",
   "metadata": {},
   "source": [
    "- Run time : 52.9 sec"
   ]
  },
  {
   "cell_type": "code",
   "execution_count": 55,
   "metadata": {},
   "outputs": [
    {
     "data": {
      "text/plain": [
       "array([[1.        , 0.00250094, 0.00619967, ..., 0.00637932, 0.        ,\n",
       "        0.        ],\n",
       "       [0.00250094, 1.        , 0.00362605, ..., 0.        , 0.01148216,\n",
       "        0.        ],\n",
       "       [0.00619967, 0.00362605, 1.        , ..., 0.00534948, 0.01143289,\n",
       "        0.0104289 ],\n",
       "       ...,\n",
       "       [0.00637932, 0.        , 0.00534948, ..., 1.        , 0.0032541 ,\n",
       "        0.        ],\n",
       "       [0.        , 0.01148216, 0.01143289, ..., 0.0032541 , 1.        ,\n",
       "        0.        ],\n",
       "       [0.        , 0.        , 0.0104289 , ..., 0.        , 0.        ,\n",
       "        1.        ]])"
      ]
     },
     "execution_count": 55,
     "metadata": {},
     "output_type": "execute_result"
    }
   ],
   "source": [
    "similarity_Z = cosine_similarity(Z_vec)\n",
    "similarity_Z"
   ]
  },
  {
   "cell_type": "markdown",
   "metadata": {},
   "source": [
    "## MODEL : Recommedation Function"
   ]
  },
  {
   "cell_type": "code",
   "execution_count": 109,
   "metadata": {},
   "outputs": [],
   "source": [
    "def recommendContent_Z(movie, movies_Z=list(movies_Z['title'])):\n",
    "    title = difflib.get_close_matches(movie, movies_Z)[0]\n",
    "    index = movies_Z.index(title)\n",
    "    \n",
    "    similar_movies = similarity_Z[index]\n",
    "\n",
    "    similar_movies = sorted(range(len(similar_movies)), key=lambda k: similar_movies[k], reverse = True)[1:6] # sorting Top 5\n",
    "    recommended = [movies_Z[i] for i in similar_movies]\n",
    "    \n",
    "    \n",
    "    return recommended"
   ]
  },
  {
   "cell_type": "code",
   "execution_count": 93,
   "metadata": {},
   "outputs": [
    {
     "data": {
      "text/plain": [
       "['별도 좋은데', '그리고 싶은 것', '첩첩산중', '파킹찬스', '오징어']"
      ]
     },
     "execution_count": 93,
     "metadata": {},
     "output_type": "execute_result"
    }
   ],
   "source": [
    "# TEST\n",
    "recommendContent_Z(\"기생충\")"
   ]
  },
  {
   "cell_type": "code",
   "execution_count": 91,
   "metadata": {},
   "outputs": [],
   "source": [
    "def recommendContentScore_Z(movie, movies_Z=list(movies_Z['title'])):\n",
    "    title = difflib.get_close_matches(movie, movies_Z)[0]\n",
    "    index = movies_Z.index(title)\n",
    "    \n",
    "    similar_movies = similarity[index]\n",
    "\n",
    "    similar_movies_num = sorted(range(len(similar_movies)), key=lambda k: similar_movies[k], reverse = True)[1:7] # sorting Top 5\n",
    "    recommended = [similar_movies[i] for i in similar_movies_num]\n",
    "\n",
    "    # print(np.shape(similar_movies))\n",
    "    return recommended"
   ]
  },
  {
   "cell_type": "code",
   "execution_count": 94,
   "metadata": {},
   "outputs": [
    {
     "data": {
      "text/plain": [
       "[1.0,\n",
       " 0.07692329012315358,\n",
       " 0.07643517956410242,\n",
       " 0.06842730050982408,\n",
       " 0.06166482729339631,\n",
       " 0.05893716492045208]"
      ]
     },
     "execution_count": 94,
     "metadata": {},
     "output_type": "execute_result"
    }
   ],
   "source": [
    "# TEST => 1.0 == self\n",
    "recommendContentScore_Z(\"기생충\")"
   ]
  },
  {
   "cell_type": "code",
   "execution_count": 96,
   "metadata": {},
   "outputs": [
    {
     "name": "stdout",
     "output_type": "stream",
     "text": [
      "[100.    7.7   7.6   6.8   6.2   5.9]\n"
     ]
    }
   ],
   "source": [
    "# unit: percent\n",
    "print(np.round(recommendContentScore_Z(\"기생충\"), 3) * 100)"
   ]
  },
  {
   "cell_type": "markdown",
   "metadata": {},
   "source": [
    "## 상업영화(18가지)와 유사한 독립영화 5가지 추천\n",
    "- (18, 5)"
   ]
  },
  {
   "cell_type": "code",
   "execution_count": 100,
   "metadata": {},
   "outputs": [
    {
     "ename": "KeyError",
     "evalue": "0",
     "output_type": "error",
     "traceback": [
      "\u001b[1;31m---------------------------------------------------------------------------\u001b[0m",
      "\u001b[1;31mKeyError\u001b[0m                                  Traceback (most recent call last)",
      "\u001b[1;32mC:\\ProgramData\\Anaconda3\\lib\\site-packages\\pandas\\core\\indexes\\base.py\u001b[0m in \u001b[0;36mget_loc\u001b[1;34m(self, key, method, tolerance)\u001b[0m\n\u001b[0;32m   2897\u001b[0m             \u001b[1;32mtry\u001b[0m\u001b[1;33m:\u001b[0m\u001b[1;33m\u001b[0m\u001b[1;33m\u001b[0m\u001b[0m\n\u001b[1;32m-> 2898\u001b[1;33m                 \u001b[1;32mreturn\u001b[0m \u001b[0mself\u001b[0m\u001b[1;33m.\u001b[0m\u001b[0m_engine\u001b[0m\u001b[1;33m.\u001b[0m\u001b[0mget_loc\u001b[0m\u001b[1;33m(\u001b[0m\u001b[0mcasted_key\u001b[0m\u001b[1;33m)\u001b[0m\u001b[1;33m\u001b[0m\u001b[1;33m\u001b[0m\u001b[0m\n\u001b[0m\u001b[0;32m   2899\u001b[0m             \u001b[1;32mexcept\u001b[0m \u001b[0mKeyError\u001b[0m \u001b[1;32mas\u001b[0m \u001b[0merr\u001b[0m\u001b[1;33m:\u001b[0m\u001b[1;33m\u001b[0m\u001b[1;33m\u001b[0m\u001b[0m\n",
      "\u001b[1;32mpandas\\_libs\\index.pyx\u001b[0m in \u001b[0;36mpandas._libs.index.IndexEngine.get_loc\u001b[1;34m()\u001b[0m\n",
      "\u001b[1;32mpandas\\_libs\\index.pyx\u001b[0m in \u001b[0;36mpandas._libs.index.IndexEngine.get_loc\u001b[1;34m()\u001b[0m\n",
      "\u001b[1;32mpandas\\_libs\\hashtable_class_helper.pxi\u001b[0m in \u001b[0;36mpandas._libs.hashtable.PyObjectHashTable.get_item\u001b[1;34m()\u001b[0m\n",
      "\u001b[1;32mpandas\\_libs\\hashtable_class_helper.pxi\u001b[0m in \u001b[0;36mpandas._libs.hashtable.PyObjectHashTable.get_item\u001b[1;34m()\u001b[0m\n",
      "\u001b[1;31mKeyError\u001b[0m: 0",
      "\nThe above exception was the direct cause of the following exception:\n",
      "\u001b[1;31mKeyError\u001b[0m                                  Traceback (most recent call last)",
      "\u001b[1;32m<ipython-input-100-715ba1b611bc>\u001b[0m in \u001b[0;36m<module>\u001b[1;34m\u001b[0m\n\u001b[0;32m      1\u001b[0m \u001b[1;32mfor\u001b[0m \u001b[0mi\u001b[0m \u001b[1;32min\u001b[0m \u001b[0mrange\u001b[0m\u001b[1;33m(\u001b[0m\u001b[1;36m19\u001b[0m\u001b[1;33m)\u001b[0m\u001b[1;33m:\u001b[0m\u001b[1;33m\u001b[0m\u001b[1;33m\u001b[0m\u001b[0m\n\u001b[1;32m----> 2\u001b[1;33m     \u001b[0mrecommendContent_Z\u001b[0m\u001b[1;33m(\u001b[0m\u001b[0mmovies_Z\u001b[0m\u001b[1;33m[\u001b[0m\u001b[0mi\u001b[0m\u001b[1;33m]\u001b[0m\u001b[1;33m[\u001b[0m\u001b[1;34m'title'\u001b[0m\u001b[1;33m]\u001b[0m\u001b[1;33m)\u001b[0m\u001b[1;33m\u001b[0m\u001b[1;33m\u001b[0m\u001b[0m\n\u001b[0m",
      "\u001b[1;32mC:\\ProgramData\\Anaconda3\\lib\\site-packages\\pandas\\core\\frame.py\u001b[0m in \u001b[0;36m__getitem__\u001b[1;34m(self, key)\u001b[0m\n\u001b[0;32m   2904\u001b[0m             \u001b[1;32mif\u001b[0m \u001b[0mself\u001b[0m\u001b[1;33m.\u001b[0m\u001b[0mcolumns\u001b[0m\u001b[1;33m.\u001b[0m\u001b[0mnlevels\u001b[0m \u001b[1;33m>\u001b[0m \u001b[1;36m1\u001b[0m\u001b[1;33m:\u001b[0m\u001b[1;33m\u001b[0m\u001b[1;33m\u001b[0m\u001b[0m\n\u001b[0;32m   2905\u001b[0m                 \u001b[1;32mreturn\u001b[0m \u001b[0mself\u001b[0m\u001b[1;33m.\u001b[0m\u001b[0m_getitem_multilevel\u001b[0m\u001b[1;33m(\u001b[0m\u001b[0mkey\u001b[0m\u001b[1;33m)\u001b[0m\u001b[1;33m\u001b[0m\u001b[1;33m\u001b[0m\u001b[0m\n\u001b[1;32m-> 2906\u001b[1;33m             \u001b[0mindexer\u001b[0m \u001b[1;33m=\u001b[0m \u001b[0mself\u001b[0m\u001b[1;33m.\u001b[0m\u001b[0mcolumns\u001b[0m\u001b[1;33m.\u001b[0m\u001b[0mget_loc\u001b[0m\u001b[1;33m(\u001b[0m\u001b[0mkey\u001b[0m\u001b[1;33m)\u001b[0m\u001b[1;33m\u001b[0m\u001b[1;33m\u001b[0m\u001b[0m\n\u001b[0m\u001b[0;32m   2907\u001b[0m             \u001b[1;32mif\u001b[0m \u001b[0mis_integer\u001b[0m\u001b[1;33m(\u001b[0m\u001b[0mindexer\u001b[0m\u001b[1;33m)\u001b[0m\u001b[1;33m:\u001b[0m\u001b[1;33m\u001b[0m\u001b[1;33m\u001b[0m\u001b[0m\n\u001b[0;32m   2908\u001b[0m                 \u001b[0mindexer\u001b[0m \u001b[1;33m=\u001b[0m \u001b[1;33m[\u001b[0m\u001b[0mindexer\u001b[0m\u001b[1;33m]\u001b[0m\u001b[1;33m\u001b[0m\u001b[1;33m\u001b[0m\u001b[0m\n",
      "\u001b[1;32mC:\\ProgramData\\Anaconda3\\lib\\site-packages\\pandas\\core\\indexes\\base.py\u001b[0m in \u001b[0;36mget_loc\u001b[1;34m(self, key, method, tolerance)\u001b[0m\n\u001b[0;32m   2898\u001b[0m                 \u001b[1;32mreturn\u001b[0m \u001b[0mself\u001b[0m\u001b[1;33m.\u001b[0m\u001b[0m_engine\u001b[0m\u001b[1;33m.\u001b[0m\u001b[0mget_loc\u001b[0m\u001b[1;33m(\u001b[0m\u001b[0mcasted_key\u001b[0m\u001b[1;33m)\u001b[0m\u001b[1;33m\u001b[0m\u001b[1;33m\u001b[0m\u001b[0m\n\u001b[0;32m   2899\u001b[0m             \u001b[1;32mexcept\u001b[0m \u001b[0mKeyError\u001b[0m \u001b[1;32mas\u001b[0m \u001b[0merr\u001b[0m\u001b[1;33m:\u001b[0m\u001b[1;33m\u001b[0m\u001b[1;33m\u001b[0m\u001b[0m\n\u001b[1;32m-> 2900\u001b[1;33m                 \u001b[1;32mraise\u001b[0m \u001b[0mKeyError\u001b[0m\u001b[1;33m(\u001b[0m\u001b[0mkey\u001b[0m\u001b[1;33m)\u001b[0m \u001b[1;32mfrom\u001b[0m \u001b[0merr\u001b[0m\u001b[1;33m\u001b[0m\u001b[1;33m\u001b[0m\u001b[0m\n\u001b[0m\u001b[0;32m   2901\u001b[0m \u001b[1;33m\u001b[0m\u001b[0m\n\u001b[0;32m   2902\u001b[0m         \u001b[1;32mif\u001b[0m \u001b[0mtolerance\u001b[0m \u001b[1;32mis\u001b[0m \u001b[1;32mnot\u001b[0m \u001b[1;32mNone\u001b[0m\u001b[1;33m:\u001b[0m\u001b[1;33m\u001b[0m\u001b[1;33m\u001b[0m\u001b[0m\n",
      "\u001b[1;31mKeyError\u001b[0m: 0"
     ]
    }
   ],
   "source": [
    "for i in range(19):\n",
    "    recommendContent_Z(movies_Z[i]['title'])"
   ]
  },
  {
   "cell_type": "markdown",
   "metadata": {},
   "source": [
    "### 시간이 없으니... 그냥 고"
   ]
  },
  {
   "cell_type": "code",
   "execution_count": 116,
   "metadata": {},
   "outputs": [
    {
     "data": {
      "text/plain": [
       "0              기생충\n",
       "1             극한직업\n",
       "2             해리포터\n",
       "3     센과 치히로의 행방불명\n",
       "4            어바웃타임\n",
       "5             소수의견\n",
       "6             올드보이\n",
       "7               더셀\n",
       "8              컨저링\n",
       "9            노예12년\n",
       "10           스파이더맨\n",
       "11             해운대\n",
       "12           인터스텔라\n",
       "13            1917\n",
       "14         스쿨 오브 락\n",
       "15             말아톤\n",
       "16    콜 미 바이 유어 네임\n",
       "17       라이프 오브 파이\n",
       "Name: title, dtype: object"
      ]
     },
     "execution_count": 116,
     "metadata": {},
     "output_type": "execute_result"
    }
   ],
   "source": [
    "movies_popular['title']"
   ]
  },
  {
   "cell_type": "code",
   "execution_count": 120,
   "metadata": {},
   "outputs": [
    {
     "data": {
      "text/plain": [
       "[['별도 좋은데', '그리고 싶은 것', '첩첩산중', '파킹찬스', '오징어'],\n",
       " ['송한나', '하우스 패밀리', '회오리 바람', '졸업', '여고생'],\n",
       " ['한, 숨', '다른, 밤', '돌아가는 관람차', '회전목마', '치석'],\n",
       " ['위안', '파르티잔', '이장', '대만 이야기', '치석'],\n",
       " ['대한철강',\n",
       "  '낮은 목소리 3 : 숨결',\n",
       "  '인류의 영원한 테마',\n",
       "  'In the Cold Cold Night-03_Repeat Mark',\n",
       "  '여기, 나의 정원'],\n",
       " ['스트레인저', '여름의 나무들', '우리는 불스다', '이태원', '초대'],\n",
       " ['사회생활', '피사체', '그 여자', '지식인 박광만', '담피소'],\n",
       " ['충심, 소소', '사냥의 밤', '아무도 없는', '신의 아이들은 연기가 어렵다', '파출부'],\n",
       " ['용산', '물의 기원', '암사자들', '서울연애', '동아'],\n",
       " ['나를 찾는 전화벨이 울리면', '미필적 고의', '붕붕', '살기 위하여', '1917'],\n",
       " ['컴, 투게더', '로프공의 밤', '라이프 오브 파이', '송한나', '하우스 패밀리'],\n",
       " ['마트료시카', '지식인 박광만', '무녀도', '얼라이브', '무림일검의 사생활'],\n",
       " ['탄피', '귀신고래', '착한 사람은 거짓말 하지 않는다', '데스퍼럿 크로싱', '스위밍걸'],\n",
       " ['물의', '구럼비-바람이 분다', '아프지않아', '물의 기원', '나를 찾는 전화벨이 울리면'],\n",
       " ['적의 사과', '바다 위의 별', '디어파파', '영화, 관', '대학탐방'],\n",
       " ['잠시 쉬어가다', '의자가 되는 법', '바느질 하는 여자', '꾸구리', '청춘과부'],\n",
       " ['악당의 사연', '463 - 포엠 오브 더 로스트', '너는 결코 서둘지 말라', '밥상행사', '갈라파고스'],\n",
       " ['낮과 밤', '친구집', '파르티잔', '안녕 자지', '스파이더맨']]"
      ]
     },
     "execution_count": 120,
     "metadata": {},
     "output_type": "execute_result"
    }
   ],
   "source": [
    "# [recommendContent_Z(movies_popular['title'])]\n",
    "content_Z = [\n",
    "    recommendContent_Z(\"기생충\"),\n",
    "    recommendContent_Z(\"극한직업\"),\n",
    "    recommendContent_Z(\"해리포터\"),\n",
    "    recommendContent_Z(\"센과 치히로의 행방불명\"),\n",
    "    recommendContent_Z(\"어바웃타임\"),\n",
    "    recommendContent_Z(\"소수의견\"),\n",
    "    recommendContent_Z(\"올드보이\"),\n",
    "    recommendContent_Z(\"더셀\"),\n",
    "    recommendContent_Z(\"컨저링\"),\n",
    "    recommendContent_Z(\"노예12년\"),\n",
    "    recommendContent_Z(\"스파이더맨\"),\n",
    "    recommendContent_Z(\"해운대\"),\n",
    "    recommendContent_Z(\"인터스텔라\"),\n",
    "    recommendContent_Z(\"1917\"),\n",
    "    recommendContent_Z(\"스쿨 오브 락\"),\n",
    "    recommendContent_Z(\"말아톤\"),\n",
    "    recommendContent_Z(\"콜 미 바이 유어 네임\"),\n",
    "    recommendContent_Z(\"라이프 오브 파이\"),\n",
    "]\n",
    "content_Z"
   ]
  },
  {
   "cell_type": "code",
   "execution_count": null,
   "metadata": {},
   "outputs": [],
   "source": [
    "popular_movies = []\n",
    "independent_movie = []\n",
    "df_Z = pd.DataFrame(content_Z, index=popular_movies, columns=independent_movie)\n",
    "df_Z"
   ]
  },
  {
   "cell_type": "code",
   "execution_count": 121,
   "metadata": {},
   "outputs": [
    {
     "ename": "AttributeError",
     "evalue": "'list' object has no attribute 'to_csv'",
     "output_type": "error",
     "traceback": [
      "\u001b[1;31m---------------------------------------------------------------------------\u001b[0m",
      "\u001b[1;31mAttributeError\u001b[0m                            Traceback (most recent call last)",
      "\u001b[1;32m<ipython-input-121-afc796b68a46>\u001b[0m in \u001b[0;36m<module>\u001b[1;34m\u001b[0m\n\u001b[1;32m----> 1\u001b[1;33m \u001b[0mcontent_Z\u001b[0m\u001b[1;33m.\u001b[0m\u001b[0mto_csv\u001b[0m\u001b[1;33m(\u001b[0m\u001b[1;34m\"popularMovies_independent5.csv\"\u001b[0m\u001b[1;33m,\u001b[0m \u001b[0mindex\u001b[0m\u001b[1;33m=\u001b[0m\u001b[1;32mTrue\u001b[0m\u001b[1;33m,\u001b[0m \u001b[0mheader\u001b[0m\u001b[1;33m=\u001b[0m\u001b[1;32mTrue\u001b[0m\u001b[1;33m)\u001b[0m\u001b[1;33m\u001b[0m\u001b[1;33m\u001b[0m\u001b[0m\n\u001b[0m",
      "\u001b[1;31mAttributeError\u001b[0m: 'list' object has no attribute 'to_csv'"
     ]
    }
   ],
   "source": [
    "content_Z.to_csv(\"popularMovies_independent5.csv\", index=True, header=True)"
   ]
  },
  {
   "cell_type": "markdown",
   "metadata": {},
   "source": [
    "# Independent Movies X Popular Movies\n",
    "- User `input` => 상업영화\n",
    "- Similarity `output` => 독립영화"
   ]
  },
  {
   "cell_type": "code",
   "execution_count": 118,
   "metadata": {},
   "outputs": [
    {
     "name": "stdout",
     "output_type": "stream",
     "text": [
      "[100.    7.7   7.6   6.8   6.2   5.9]\n",
      "[100.    9.8   9.8   8.    5.9   5.6]\n",
      "[4.6 4.3 3.9 3.8 3.7 3.7]\n",
      "[6.6 6.5 6.4 6.  5.1 4.9]\n",
      "[5.9 5.3 5.  4.8 4.8 4.8]\n",
      "[17.6  8.1  7.4  6.5  6.5  5.8]\n",
      "[11.4  8.3  8.1  7.4  6.8  6.7]\n",
      "[15.4 14.5 10.2  9.9  9.9  9.8]\n",
      "[7.8 7.1 6.9 6.  6.  5.8]\n",
      "[6.1 6.1 5.9 5.7 5.3 5. ]\n",
      "[7.5 6.9 6.5 6.4 6.2 6.2]\n",
      "[8.1 7.8 5.9 5.9 5.9 5.4]\n",
      "[21.6  9.3  9.2  7.7  6.9  6.5]\n",
      "[7.5 7.3 7.1 5.7 5.1 4.8]\n",
      "[7.5 7.5 6.1 5.9 5.9 5.8]\n",
      "[10.   8.1  7.8  7.5  7.2  7.1]\n",
      "[9.4 8.3 8.  7.3 7.3 7.3]\n",
      "[9.1 8.1 6.4 6.4 6.4 6.1]\n"
     ]
    },
    {
     "data": {
      "text/plain": [
       "[None,\n",
       " None,\n",
       " None,\n",
       " None,\n",
       " None,\n",
       " None,\n",
       " None,\n",
       " None,\n",
       " None,\n",
       " None,\n",
       " None,\n",
       " None,\n",
       " None,\n",
       " None,\n",
       " None,\n",
       " None,\n",
       " None,\n",
       " None]"
      ]
     },
     "execution_count": 118,
     "metadata": {},
     "output_type": "execute_result"
    }
   ],
   "source": [
    "[\n",
    "    print(np.round(recommendContentScore_Z(\"기생충\"), 3) * 100),\n",
    "    print(np.round(recommendContentScore_Z(\"극한직업\"), 3) * 100),\n",
    "    print(np.round(recommendContentScore_Z(\"해리포터\"), 3) * 100),\n",
    "    print(np.round(recommendContentScore_Z(\"센과 치히로의 행방불명\"), 3) * 100),\n",
    "    print(np.round(recommendContentScore_Z(\"어바웃타임\"), 3) * 100),\n",
    "    print(np.round(recommendContentScore_Z(\"소수의견\"), 3) * 100),\n",
    "    print(np.round(recommendContentScore_Z(\"올드보이\"), 3) * 100),\n",
    "    print(np.round(recommendContentScore_Z(\"더셀\"), 3) * 100),\n",
    "    print(np.round(recommendContentScore_Z(\"컨저링\"), 3) * 100),\n",
    "    print(np.round(recommendContentScore_Z(\"노예12년\"), 3) * 100),\n",
    "    print(np.round(recommendContentScore_Z(\"스파이더맨\"), 3) * 100),\n",
    "    print(np.round(recommendContentScore_Z(\"해운대\"), 3) * 100),\n",
    "    print(np.round(recommendContentScore_Z(\"인터스텔라\"), 3) * 100),\n",
    "    print(np.round(recommendContentScore_Z(\"1917\"), 3) * 100),\n",
    "    print(np.round(recommendContentScore_Z(\"스쿨 오브 락\"), 3) * 100),\n",
    "    print(np.round(recommendContentScore_Z(\"말아톤\"), 3) * 100),\n",
    "    print(np.round(recommendContentScore_Z(\"콜 미 바이 유어 네임\"), 3) * 100),\n",
    "    print(np.round(recommendContentScore_Z(\"라이프 오브 파이\"), 3) * 100),\n",
    "]"
   ]
  }
 ],
 "metadata": {
  "interpreter": {
   "hash": "b3ba2566441a7c06988d0923437866b63cedc61552a5af99d1f4fb67d367b25f"
  },
  "kernelspec": {
   "display_name": "Python 3.8.5 64-bit ('base': conda)",
   "language": "python",
   "name": "python3"
  },
  "language_info": {
   "codemirror_mode": {
    "name": "ipython",
    "version": 3
   },
   "file_extension": ".py",
   "mimetype": "text/x-python",
   "name": "python",
   "nbconvert_exporter": "python",
   "pygments_lexer": "ipython3",
   "version": "3.8.5"
  },
  "orig_nbformat": 4
 },
 "nbformat": 4,
 "nbformat_minor": 2
}
