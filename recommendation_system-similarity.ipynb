{
 "cells": [
  {
   "cell_type": "markdown",
   "metadata": {},
   "source": [
    "# COSINE SIMILARITY\n",
    "- plot DATA"
   ]
  },
  {
   "cell_type": "code",
   "execution_count": 1,
   "metadata": {},
   "outputs": [],
   "source": [
    "import numpy as np\n",
    "import pandas as pd\n",
    "import matplotlib.pyplot as plt\n",
    "import seaborn as sns\n",
    "import re\n",
    "import warnings\n",
    "# import plotly.express as px\n",
    "\n",
    "from wordcloud import WordCloud, STOPWORDS, ImageColorGenerator\n",
    "from PIL import Image\n",
    "\n",
    "from sklearn.feature_extraction.text import TfidfVectorizer\n",
    "# import spacy\n",
    "# from spacy.lang.en.stop_words import STOP_WORDS\n",
    "# nlp = spacy.load('en_core_web_sm')\n",
    "import difflib\n",
    "from sklearn.metrics.pairwise import cosine_similarity\n",
    "sns.set()\n",
    "warnings.filterwarnings(\"ignore\")"
   ]
  },
  {
   "cell_type": "code",
   "execution_count": 2,
   "metadata": {},
   "outputs": [
    {
     "data": {
      "text/html": [
       "<div>\n",
       "<style scoped>\n",
       "    .dataframe tbody tr th:only-of-type {\n",
       "        vertical-align: middle;\n",
       "    }\n",
       "\n",
       "    .dataframe tbody tr th {\n",
       "        vertical-align: top;\n",
       "    }\n",
       "\n",
       "    .dataframe thead th {\n",
       "        text-align: right;\n",
       "    }\n",
       "</style>\n",
       "<table border=\"1\" class=\"dataframe\">\n",
       "  <thead>\n",
       "    <tr style=\"text-align: right;\">\n",
       "      <th></th>\n",
       "      <th>year</th>\n",
       "      <th>film_festival</th>\n",
       "      <th>title</th>\n",
       "      <th>director</th>\n",
       "      <th>field</th>\n",
       "      <th>award</th>\n",
       "      <th>genre</th>\n",
       "      <th>plot</th>\n",
       "      <th>rating</th>\n",
       "      <th>runtime</th>\n",
       "      <th>prodYear</th>\n",
       "      <th>actors</th>\n",
       "      <th>img_link</th>\n",
       "      <th>stills</th>\n",
       "    </tr>\n",
       "  </thead>\n",
       "  <tbody>\n",
       "    <tr>\n",
       "      <th>0</th>\n",
       "      <td>2021</td>\n",
       "      <td>소리아 국제단편영화제</td>\n",
       "      <td>조지아</td>\n",
       "      <td>제이 박</td>\n",
       "      <td>NaN</td>\n",
       "      <td>NaN</td>\n",
       "      <td>가족,범죄</td>\n",
       "      <td>병들고 가난한 부부가 딸의 억울한 죽음을 규명하기 위해 나선다. 가해자를 밝히지도 ...</td>\n",
       "      <td>12세관람가</td>\n",
       "      <td>29.0</td>\n",
       "      <td>2020.0</td>\n",
       "      <td>이양희,이채경,김규남</td>\n",
       "      <td>https://ssl.pstatic.net/imgmovie/mdi/mit110/19...</td>\n",
       "      <td>http://file.koreafilm.or.kr/thm/01/copy/00/55/...</td>\n",
       "    </tr>\n",
       "    <tr>\n",
       "      <th>1</th>\n",
       "      <td>2021</td>\n",
       "      <td>보고타 단편영화제</td>\n",
       "      <td>미미(美味): 궁극의 식사</td>\n",
       "      <td>한재원</td>\n",
       "      <td>경쟁부문</td>\n",
       "      <td>NaN</td>\n",
       "      <td>코메디,공포</td>\n",
       "      <td>미각을 잃은 미식 유튜버 성호는 어딘가 기괴한 음식점에 방문한다.</td>\n",
       "      <td>NaN</td>\n",
       "      <td>19.0</td>\n",
       "      <td>2020.0</td>\n",
       "      <td>김최용준,정경임,이종윤</td>\n",
       "      <td>https://ssl.pstatic.net/imgmovie/mdi/mit110/20...</td>\n",
       "      <td>http://file.koreafilm.or.kr/thm/01/copy/00/59/...</td>\n",
       "    </tr>\n",
       "    <tr>\n",
       "      <th>2</th>\n",
       "      <td>2021</td>\n",
       "      <td>엑상프로방스 국제단편영화제</td>\n",
       "      <td>아이즈앤혼즈</td>\n",
       "      <td>임채린</td>\n",
       "      <td>International Competition of Experimental Shorts</td>\n",
       "      <td>NaN</td>\n",
       "      <td>기타</td>\n",
       "      <td>NaN</td>\n",
       "      <td>NaN</td>\n",
       "      <td>NaN</td>\n",
       "      <td>NaN</td>\n",
       "      <td>NaN</td>\n",
       "      <td>https://ssl.pstatic.net/imgmovie/mdi/mit110/20...</td>\n",
       "      <td>NaN</td>\n",
       "    </tr>\n",
       "    <tr>\n",
       "      <th>3</th>\n",
       "      <td>2021</td>\n",
       "      <td>서울독립영화제</td>\n",
       "      <td>절해고도</td>\n",
       "      <td>김미영</td>\n",
       "      <td>페스티벌 초이스</td>\n",
       "      <td>NaN</td>\n",
       "      <td>드라마</td>\n",
       "      <td>절해고도. '육지에서 멀리 떨어진 바다의 외딴 섬'이라는 뜻을 지닌 제목은 삶의 표...</td>\n",
       "      <td>NaN</td>\n",
       "      <td>116.0</td>\n",
       "      <td>2021.0</td>\n",
       "      <td>박종환,이연,강경헌</td>\n",
       "      <td>https://ssl.pstatic.net/imgmovie/mdi/mit110/20...</td>\n",
       "      <td>http://file.koreafilm.or.kr/thm/01/copy/00/59/...</td>\n",
       "    </tr>\n",
       "    <tr>\n",
       "      <th>4</th>\n",
       "      <td>2021</td>\n",
       "      <td>서울독립영화제</td>\n",
       "      <td>장갑을 사러</td>\n",
       "      <td>이현주</td>\n",
       "      <td>단편경쟁</td>\n",
       "      <td>NaN</td>\n",
       "      <td>멜로/로맨스</td>\n",
       "      <td>피아노를 가르치는 인경은 연인의 일본 발령 소식에 일본어 학원을 다니기 시작한다. ...</td>\n",
       "      <td>NaN</td>\n",
       "      <td>29.0</td>\n",
       "      <td>2021.0</td>\n",
       "      <td>김정민,양종욱,김하람</td>\n",
       "      <td>https://ssl.pstatic.net/imgmovie/mdi/mit110/20...</td>\n",
       "      <td>http://file.koreafilm.or.kr/thm/01/copy/00/59/...</td>\n",
       "    </tr>\n",
       "    <tr>\n",
       "      <th>...</th>\n",
       "      <td>...</td>\n",
       "      <td>...</td>\n",
       "      <td>...</td>\n",
       "      <td>...</td>\n",
       "      <td>...</td>\n",
       "      <td>...</td>\n",
       "      <td>...</td>\n",
       "      <td>...</td>\n",
       "      <td>...</td>\n",
       "      <td>...</td>\n",
       "      <td>...</td>\n",
       "      <td>...</td>\n",
       "      <td>...</td>\n",
       "      <td>...</td>\n",
       "    </tr>\n",
       "    <tr>\n",
       "      <th>3352</th>\n",
       "      <td>2000</td>\n",
       "      <td>정동진독립영화제</td>\n",
       "      <td>심청</td>\n",
       "      <td>유종미</td>\n",
       "      <td>단편과 애니 2</td>\n",
       "      <td>NaN</td>\n",
       "      <td>드라마</td>\n",
       "      <td>딸을 극단적으로 사랑하는 눈먼 아버지, 무당이었던 어머니가 그리운 눈먼 아버지의 딸...</td>\n",
       "      <td>NaN</td>\n",
       "      <td>30.0</td>\n",
       "      <td>2000.0</td>\n",
       "      <td>백은경,유순철,이동현</td>\n",
       "      <td>https://ssl.pstatic.net/imgmovie/mdi/mit110/02...</td>\n",
       "      <td>http://file.koreafilm.or.kr/thm/01/copy/00/31/...</td>\n",
       "    </tr>\n",
       "    <tr>\n",
       "      <th>3353</th>\n",
       "      <td>2000</td>\n",
       "      <td>정동진독립영화제</td>\n",
       "      <td>1979년 10월 28일 일요일 맑음</td>\n",
       "      <td>권종관</td>\n",
       "      <td>재밌는 단편모음 2</td>\n",
       "      <td>NaN</td>\n",
       "      <td>드라마</td>\n",
       "      <td>1979년 10월 28일 일요일, 영환의 부모님은 아침 일찍 시골에 내려가신다. 엄...</td>\n",
       "      <td>NaN</td>\n",
       "      <td>17.0</td>\n",
       "      <td>1999.0</td>\n",
       "      <td>강혜은,박진아,이동근</td>\n",
       "      <td>https://ssl.pstatic.net/imgmovie/mdi/mit110/03...</td>\n",
       "      <td>http://file.koreafilm.or.kr/thm/01/copy/00/36/...</td>\n",
       "    </tr>\n",
       "    <tr>\n",
       "      <th>3354</th>\n",
       "      <td>2000</td>\n",
       "      <td>정동진독립영화제</td>\n",
       "      <td>81 해적 디스코 왕이 되다</td>\n",
       "      <td>김동원</td>\n",
       "      <td>단편과 애니 2</td>\n",
       "      <td>NaN</td>\n",
       "      <td>기타</td>\n",
       "      <td>NaN</td>\n",
       "      <td>NaN</td>\n",
       "      <td>NaN</td>\n",
       "      <td>NaN</td>\n",
       "      <td>NaN</td>\n",
       "      <td>https://ssl.pstatic.net/imgmovie/mdi/mit110/03...</td>\n",
       "      <td>NaN</td>\n",
       "    </tr>\n",
       "    <tr>\n",
       "      <th>3355</th>\n",
       "      <td>2000</td>\n",
       "      <td>정동진독립영화제</td>\n",
       "      <td>미메시스 TV - 에피소드 1</td>\n",
       "      <td>전승일</td>\n",
       "      <td>단편과 애니 2</td>\n",
       "      <td>NaN</td>\n",
       "      <td>드라마</td>\n",
       "      <td>사람이 컴퓨터 앞에 앉아 있다. 밖에는 디스켓이 날아다니고 그는 무료함을 느낀다. ...</td>\n",
       "      <td>NaN</td>\n",
       "      <td>3.0</td>\n",
       "      <td>2000.0</td>\n",
       "      <td>NaN</td>\n",
       "      <td>https://ssl.pstatic.net/imgmovie/mdi/mit110/04...</td>\n",
       "      <td>http://file.koreafilm.or.kr/thm/01/copy/00/31/...</td>\n",
       "    </tr>\n",
       "    <tr>\n",
       "      <th>3356</th>\n",
       "      <td>2000</td>\n",
       "      <td>정동진독립영화제</td>\n",
       "      <td>포 더 피스 오브 올 맨카인드</td>\n",
       "      <td>이석훈</td>\n",
       "      <td>단편과 애니 1</td>\n",
       "      <td>NaN</td>\n",
       "      <td>기타</td>\n",
       "      <td>NaN</td>\n",
       "      <td>NaN</td>\n",
       "      <td>NaN</td>\n",
       "      <td>NaN</td>\n",
       "      <td>NaN</td>\n",
       "      <td>https://ssl.pstatic.net/imgmovie/mdi/mit110/03...</td>\n",
       "      <td>NaN</td>\n",
       "    </tr>\n",
       "  </tbody>\n",
       "</table>\n",
       "<p>3357 rows × 14 columns</p>\n",
       "</div>"
      ],
      "text/plain": [
       "      year   film_festival                 title director  \\\n",
       "0     2021     소리아 국제단편영화제                   조지아     제이 박   \n",
       "1     2021       보고타 단편영화제        미미(美味): 궁극의 식사      한재원   \n",
       "2     2021  엑상프로방스 국제단편영화제                아이즈앤혼즈      임채린   \n",
       "3     2021         서울독립영화제                  절해고도      김미영   \n",
       "4     2021         서울독립영화제                장갑을 사러      이현주   \n",
       "...    ...             ...                   ...      ...   \n",
       "3352  2000        정동진독립영화제                    심청      유종미   \n",
       "3353  2000        정동진독립영화제  1979년 10월 28일 일요일 맑음      권종관   \n",
       "3354  2000        정동진독립영화제       81 해적 디스코 왕이 되다      김동원   \n",
       "3355  2000        정동진독립영화제      미메시스 TV - 에피소드 1      전승일   \n",
       "3356  2000        정동진독립영화제      포 더 피스 오브 올 맨카인드      이석훈   \n",
       "\n",
       "                                                 field award   genre  \\\n",
       "0                                                  NaN   NaN   가족,범죄   \n",
       "1                                                 경쟁부문   NaN  코메디,공포   \n",
       "2     International Competition of Experimental Shorts   NaN      기타   \n",
       "3                                             페스티벌 초이스   NaN     드라마   \n",
       "4                                                 단편경쟁   NaN  멜로/로맨스   \n",
       "...                                                ...   ...     ...   \n",
       "3352                                          단편과 애니 2   NaN     드라마   \n",
       "3353                                        재밌는 단편모음 2   NaN     드라마   \n",
       "3354                                          단편과 애니 2   NaN      기타   \n",
       "3355                                          단편과 애니 2   NaN     드라마   \n",
       "3356                                          단편과 애니 1   NaN      기타   \n",
       "\n",
       "                                                   plot  rating  runtime  \\\n",
       "0     병들고 가난한 부부가 딸의 억울한 죽음을 규명하기 위해 나선다. 가해자를 밝히지도 ...  12세관람가     29.0   \n",
       "1                  미각을 잃은 미식 유튜버 성호는 어딘가 기괴한 음식점에 방문한다.     NaN     19.0   \n",
       "2                                                   NaN     NaN      NaN   \n",
       "3     절해고도. '육지에서 멀리 떨어진 바다의 외딴 섬'이라는 뜻을 지닌 제목은 삶의 표...     NaN    116.0   \n",
       "4     피아노를 가르치는 인경은 연인의 일본 발령 소식에 일본어 학원을 다니기 시작한다. ...     NaN     29.0   \n",
       "...                                                 ...     ...      ...   \n",
       "3352  딸을 극단적으로 사랑하는 눈먼 아버지, 무당이었던 어머니가 그리운 눈먼 아버지의 딸...     NaN     30.0   \n",
       "3353  1979년 10월 28일 일요일, 영환의 부모님은 아침 일찍 시골에 내려가신다. 엄...     NaN     17.0   \n",
       "3354                                                NaN     NaN      NaN   \n",
       "3355  사람이 컴퓨터 앞에 앉아 있다. 밖에는 디스켓이 날아다니고 그는 무료함을 느낀다. ...     NaN      3.0   \n",
       "3356                                                NaN     NaN      NaN   \n",
       "\n",
       "      prodYear        actors  \\\n",
       "0       2020.0   이양희,이채경,김규남   \n",
       "1       2020.0  김최용준,정경임,이종윤   \n",
       "2          NaN           NaN   \n",
       "3       2021.0    박종환,이연,강경헌   \n",
       "4       2021.0   김정민,양종욱,김하람   \n",
       "...        ...           ...   \n",
       "3352    2000.0   백은경,유순철,이동현   \n",
       "3353    1999.0   강혜은,박진아,이동근   \n",
       "3354       NaN           NaN   \n",
       "3355    2000.0           NaN   \n",
       "3356       NaN           NaN   \n",
       "\n",
       "                                               img_link  \\\n",
       "0     https://ssl.pstatic.net/imgmovie/mdi/mit110/19...   \n",
       "1     https://ssl.pstatic.net/imgmovie/mdi/mit110/20...   \n",
       "2     https://ssl.pstatic.net/imgmovie/mdi/mit110/20...   \n",
       "3     https://ssl.pstatic.net/imgmovie/mdi/mit110/20...   \n",
       "4     https://ssl.pstatic.net/imgmovie/mdi/mit110/20...   \n",
       "...                                                 ...   \n",
       "3352  https://ssl.pstatic.net/imgmovie/mdi/mit110/02...   \n",
       "3353  https://ssl.pstatic.net/imgmovie/mdi/mit110/03...   \n",
       "3354  https://ssl.pstatic.net/imgmovie/mdi/mit110/03...   \n",
       "3355  https://ssl.pstatic.net/imgmovie/mdi/mit110/04...   \n",
       "3356  https://ssl.pstatic.net/imgmovie/mdi/mit110/03...   \n",
       "\n",
       "                                                 stills  \n",
       "0     http://file.koreafilm.or.kr/thm/01/copy/00/55/...  \n",
       "1     http://file.koreafilm.or.kr/thm/01/copy/00/59/...  \n",
       "2                                                   NaN  \n",
       "3     http://file.koreafilm.or.kr/thm/01/copy/00/59/...  \n",
       "4     http://file.koreafilm.or.kr/thm/01/copy/00/59/...  \n",
       "...                                                 ...  \n",
       "3352  http://file.koreafilm.or.kr/thm/01/copy/00/31/...  \n",
       "3353  http://file.koreafilm.or.kr/thm/01/copy/00/36/...  \n",
       "3354                                                NaN  \n",
       "3355  http://file.koreafilm.or.kr/thm/01/copy/00/31/...  \n",
       "3356                                                NaN  \n",
       "\n",
       "[3357 rows x 14 columns]"
      ]
     },
     "execution_count": 2,
     "metadata": {},
     "output_type": "execute_result"
    }
   ],
   "source": [
    "movies = pd.read_csv('./film_festival_ver3.csv')\n",
    "movies.head(-5)"
   ]
  },
  {
   "cell_type": "code",
   "execution_count": 7,
   "metadata": {},
   "outputs": [
    {
     "data": {
      "text/plain": [
       "0       조지아 병들고 가난한 부부가 딸의 억울한 죽음을 규명하기 위해 나선다. 가해자를 밝...\n",
       "1       미미(美味): 궁극의 식사 미각을 잃은 미식 유튜버 성호는 어딘가 기괴한 음식점에 ...\n",
       "2                                                     NaN\n",
       "3       절해고도 절해고도. '육지에서 멀리 떨어진 바다의 외딴 섬'이라는 뜻을 지닌 제목은...\n",
       "4       장갑을 사러 피아노를 가르치는 인경은 연인의 일본 발령 소식에 일본어 학원을 다니기...\n",
       "                              ...                        \n",
       "3357    엔조이 유어 썸머 어느 무더운 여름, 아직 회사 생활에 적응하지 못한 한 남자에게 ...\n",
       "3358    너무 많이 본 사나이 승수는 앞집에 세들어 사는 여자를 몰래 카메라에 담기 위해 친...\n",
       "3359    아리랑 아리랑 음악에 맞추어 한국 전통 문양들이 생성되고 소멸된다. 연출의도_ 관성...\n",
       "3360    온실 작은 아파트에 홀로 사는 노인은 빨래, 신문 읽기, 라디오 듣기, 노래 따라 ...\n",
       "3361    초촌면 신암리 삭막해진 농촌에서 유기농사를 짓는 주인공은 고집스러움 때문에 마을 사...\n",
       "Length: 3362, dtype: object"
      ]
     },
     "execution_count": 7,
     "metadata": {},
     "output_type": "execute_result"
    }
   ],
   "source": [
    "# 영화 제목 + 줄거리\n",
    "\n",
    "X = movies['title'] + \" \" + movies['plot']\n",
    "X"
   ]
  },
  {
   "cell_type": "code",
   "execution_count": 8,
   "metadata": {},
   "outputs": [
    {
     "data": {
      "text/plain": [
       "3362"
      ]
     },
     "execution_count": 8,
     "metadata": {},
     "output_type": "execute_result"
    }
   ],
   "source": [
    "len(X)"
   ]
  },
  {
   "cell_type": "markdown",
   "metadata": {},
   "source": [
    "## Vectorizer *****\n",
    "- plot DATA => 3055 개"
   ]
  },
  {
   "cell_type": "code",
   "execution_count": 9,
   "metadata": {},
   "outputs": [],
   "source": [
    "Vectorizer = TfidfVectorizer() #??"
   ]
  },
  {
   "cell_type": "code",
   "execution_count": 11,
   "metadata": {},
   "outputs": [
    {
     "data": {
      "text/plain": [
       "0       조지아 병들고 가난한 부부가 딸의 억울한 죽음을 규명하기 위해 나선다. 가해자를 밝...\n",
       "1       미미(美味): 궁극의 식사 미각을 잃은 미식 유튜버 성호는 어딘가 기괴한 음식점에 ...\n",
       "3       절해고도 절해고도. '육지에서 멀리 떨어진 바다의 외딴 섬'이라는 뜻을 지닌 제목은...\n",
       "4       장갑을 사러 피아노를 가르치는 인경은 연인의 일본 발령 소식에 일본어 학원을 다니기...\n",
       "8       내일의 연인들 29세의 대학원생 정안은 어느 날, 선애 누나의 전화를 받는다. 선애...\n",
       "                              ...                        \n",
       "3357    엔조이 유어 썸머 어느 무더운 여름, 아직 회사 생활에 적응하지 못한 한 남자에게 ...\n",
       "3358    너무 많이 본 사나이 승수는 앞집에 세들어 사는 여자를 몰래 카메라에 담기 위해 친...\n",
       "3359    아리랑 아리랑 음악에 맞추어 한국 전통 문양들이 생성되고 소멸된다. 연출의도_ 관성...\n",
       "3360    온실 작은 아파트에 홀로 사는 노인은 빨래, 신문 읽기, 라디오 듣기, 노래 따라 ...\n",
       "3361    초촌면 신암리 삭막해진 농촌에서 유기농사를 짓는 주인공은 고집스러움 때문에 마을 사...\n",
       "Length: 3055, dtype: object"
      ]
     },
     "execution_count": 11,
     "metadata": {},
     "output_type": "execute_result"
    }
   ],
   "source": [
    "# np.nan is an invalid document, expected byte or unicode string.\n",
    "X_na = X.dropna(axis=0)\n",
    "X_na"
   ]
  },
  {
   "cell_type": "code",
   "execution_count": 12,
   "metadata": {},
   "outputs": [
    {
     "data": {
      "text/plain": [
       "3055"
      ]
     },
     "execution_count": 12,
     "metadata": {},
     "output_type": "execute_result"
    }
   ],
   "source": [
    "len(X_na)"
   ]
  },
  {
   "cell_type": "code",
   "execution_count": 15,
   "metadata": {},
   "outputs": [
    {
     "data": {
      "text/plain": [
       "307"
      ]
     },
     "execution_count": 15,
     "metadata": {},
     "output_type": "execute_result"
    }
   ],
   "source": [
    "# Plot NaN 개수\n",
    "X_cnt_nan = len(X) - len(X_na)\n",
    "X_cnt_nan"
   ]
  },
  {
   "cell_type": "code",
   "execution_count": 16,
   "metadata": {},
   "outputs": [
    {
     "data": {
      "text/plain": [
       "0.09131469363474122"
      ]
     },
     "execution_count": 16,
     "metadata": {},
     "output_type": "execute_result"
    }
   ],
   "source": [
    "X_cnt_nan / len(X)"
   ]
  },
  {
   "cell_type": "code",
   "execution_count": 13,
   "metadata": {},
   "outputs": [
    {
     "data": {
      "text/plain": [
       "<3055x44992 sparse matrix of type '<class 'numpy.float64'>'\n",
       "\twith 128348 stored elements in Compressed Sparse Row format>"
      ]
     },
     "execution_count": 13,
     "metadata": {},
     "output_type": "execute_result"
    }
   ],
   "source": [
    "X_vec = Vectorizer.fit_transform(X_na)\n",
    "X_vec"
   ]
  },
  {
   "cell_type": "code",
   "execution_count": 17,
   "metadata": {},
   "outputs": [
    {
     "name": "stdout",
     "output_type": "stream",
     "text": [
      "(3055, 44992)\n"
     ]
    },
    {
     "data": {
      "text/plain": [
       "array([[0., 0., 0., ..., 0., 0., 0.],\n",
       "       [0., 0., 0., ..., 0., 0., 0.],\n",
       "       [0., 0., 0., ..., 0., 0., 0.],\n",
       "       ...,\n",
       "       [0., 0., 0., ..., 0., 0., 0.],\n",
       "       [0., 0., 0., ..., 0., 0., 0.],\n",
       "       [0., 0., 0., ..., 0., 0., 0.]])"
      ]
     },
     "execution_count": 17,
     "metadata": {},
     "output_type": "execute_result"
    }
   ],
   "source": [
    "X_vec = X_vec.toarray()\n",
    "print(X_vec.shape)\n",
    "X_vec"
   ]
  },
  {
   "cell_type": "markdown",
   "metadata": {},
   "source": [
    "## Content Similarity\n",
    "- 모듈 사용. 연산 오래 걸림.\n",
    "- 뭔가 나옴. 이해."
   ]
  },
  {
   "cell_type": "code",
   "execution_count": 18,
   "metadata": {},
   "outputs": [
    {
     "data": {
      "text/plain": [
       "array([[1.        , 0.        , 0.00289128, ..., 0.        , 0.        ,\n",
       "        0.        ],\n",
       "       [0.        , 1.        , 0.        , ..., 0.        , 0.        ,\n",
       "        0.        ],\n",
       "       [0.00289128, 0.        , 1.        , ..., 0.        , 0.01295611,\n",
       "        0.        ],\n",
       "       ...,\n",
       "       [0.        , 0.        , 0.        , ..., 1.        , 0.00327306,\n",
       "        0.        ],\n",
       "       [0.        , 0.        , 0.01295611, ..., 0.00327306, 1.        ,\n",
       "        0.        ],\n",
       "       [0.        , 0.        , 0.        , ..., 0.        , 0.        ,\n",
       "        1.        ]])"
      ]
     },
     "execution_count": 18,
     "metadata": {},
     "output_type": "execute_result"
    }
   ],
   "source": [
    "similarity = cosine_similarity(X_vec)\n",
    "similarity"
   ]
  },
  {
   "cell_type": "code",
   "execution_count": 19,
   "metadata": {},
   "outputs": [
    {
     "data": {
      "text/plain": [
       "(3055, 3055)"
      ]
     },
     "execution_count": 19,
     "metadata": {},
     "output_type": "execute_result"
    }
   ],
   "source": [
    "similarity.shape"
   ]
  },
  {
   "cell_type": "markdown",
   "metadata": {},
   "source": [
    "## Recommendation Function\n",
    "- 값이 나온다.\n",
    "- 작동 원리를 구조적으로 알아야 한다."
   ]
  },
  {
   "cell_type": "markdown",
   "metadata": {},
   "source": [
    "### Similarity 영화\n",
    "- categorical DATA == TOP10"
   ]
  },
  {
   "cell_type": "code",
   "execution_count": 75,
   "metadata": {},
   "outputs": [],
   "source": [
    "def recommendContent(movie, movies=list(movies['title'])):\n",
    "    title = difflib.get_close_matches(movie, movies)[0]\n",
    "    index = movies.index(title)\n",
    "    \n",
    "    similar_movies = similarity[index]\n",
    "\n",
    "    similar_movies = sorted(range(len(similar_movies)), key=lambda k: similar_movies[k], reverse = True)[1:11] # sorting Top 10\n",
    "    recommended = [movies[i] for i in similar_movies]\n",
    "    \n",
    "    \n",
    "    return recommended"
   ]
  },
  {
   "cell_type": "code",
   "execution_count": 77,
   "metadata": {},
   "outputs": [
    {
     "data": {
      "text/plain": [
       "['나들이',\n",
       " '별주부',\n",
       " '삭제하시겠습니까?',\n",
       " '앞서는 마음',\n",
       " '이상한 나라의 김민수',\n",
       " '나리 대 나리',\n",
       " '배고픈 하루',\n",
       " '알 수 없는 슬픔이 있어',\n",
       " '국물은 공짜가 아니다',\n",
       " '된장']"
      ]
     },
     "execution_count": 77,
     "metadata": {},
     "output_type": "execute_result"
    }
   ],
   "source": [
    "# TEST 1\n",
    "recommendContent(\"절해고도\")"
   ]
  },
  {
   "cell_type": "code",
   "execution_count": 22,
   "metadata": {},
   "outputs": [
    {
     "data": {
      "text/plain": [
       "['웰컴',\n",
       " '부탁',\n",
       " '블랙아웃',\n",
       " '밀실',\n",
       " '치석',\n",
       " '겨울의 피아니스트',\n",
       " '지옥화',\n",
       " '급식',\n",
       " '괜찮아, 임마',\n",
       " '텐더 앤 윗치']"
      ]
     },
     "execution_count": 22,
     "metadata": {},
     "output_type": "execute_result"
    }
   ],
   "source": [
    "# TEST 2\n",
    "recommendContent(\"내일의 연인들\")"
   ]
  },
  {
   "cell_type": "markdown",
   "metadata": {},
   "source": [
    "### Similarity 유사도\n",
    "- 수치 데이터 (정량적)"
   ]
  },
  {
   "cell_type": "code",
   "execution_count": 41,
   "metadata": {},
   "outputs": [
    {
     "data": {
      "text/plain": [
       "3055"
      ]
     },
     "execution_count": 41,
     "metadata": {},
     "output_type": "execute_result"
    }
   ],
   "source": [
    "len(similarity)"
   ]
  },
  {
   "cell_type": "code",
   "execution_count": 45,
   "metadata": {},
   "outputs": [
    {
     "data": {
      "text/plain": [
       "array([1.        , 0.        , 0.00289128, ..., 0.        , 0.        ,\n",
       "       0.        ])"
      ]
     },
     "execution_count": 45,
     "metadata": {},
     "output_type": "execute_result"
    }
   ],
   "source": [
    "similarity[0]"
   ]
  },
  {
   "cell_type": "code",
   "execution_count": 71,
   "metadata": {},
   "outputs": [],
   "source": [
    "def recommendContentScore(movie, movies=list(movies['title'])):\n",
    "    title = difflib.get_close_matches(movie, movies)[0]\n",
    "    index = movies.index(title)\n",
    "    \n",
    "    similar_movies = similarity[index]\n",
    "\n",
    "    similar_movies_num = sorted(range(len(similar_movies)), key=lambda k: similar_movies[k], reverse = True)[1:11] # sorting Top 10\n",
    "    recommended = [similar_movies[i] for i in similar_movies_num]\n",
    "\n",
    "    print(np.shape(similar_movies))\n",
    "    return recommended"
   ]
  },
  {
   "cell_type": "code",
   "execution_count": 72,
   "metadata": {},
   "outputs": [
    {
     "name": "stdout",
     "output_type": "stream",
     "text": [
      "(3055,)\n"
     ]
    },
    {
     "data": {
      "text/plain": [
       "[0.06551848974290087,\n",
       " 0.06476437814160385,\n",
       " 0.06355470456680348,\n",
       " 0.05967191710835367,\n",
       " 0.05062586971826823,\n",
       " 0.049295568947235226,\n",
       " 0.045045446767725254,\n",
       " 0.04357244257399216,\n",
       " 0.04050765009058096,\n",
       " 0.04044706417083744]"
      ]
     },
     "execution_count": 72,
     "metadata": {},
     "output_type": "execute_result"
    }
   ],
   "source": [
    "# TEST1\n",
    "recommendContentScore(\"절해고도\")"
   ]
  },
  {
   "cell_type": "code",
   "execution_count": null,
   "metadata": {},
   "outputs": [],
   "source": []
  }
 ],
 "metadata": {
  "interpreter": {
   "hash": "b3ba2566441a7c06988d0923437866b63cedc61552a5af99d1f4fb67d367b25f"
  },
  "kernelspec": {
   "display_name": "Python 3.8.5 64-bit ('base': conda)",
   "language": "python",
   "name": "python3"
  },
  "language_info": {
   "codemirror_mode": {
    "name": "ipython",
    "version": 3
   },
   "file_extension": ".py",
   "mimetype": "text/x-python",
   "name": "python",
   "nbconvert_exporter": "python",
   "pygments_lexer": "ipython3",
   "version": "3.8.5"
  },
  "orig_nbformat": 4
 },
 "nbformat": 4,
 "nbformat_minor": 2
}
