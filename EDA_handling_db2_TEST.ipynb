{
 "cells": [
  {
   "cell_type": "code",
   "execution_count": 5,
   "metadata": {},
   "outputs": [],
   "source": [
    "# ================================================================= pandas\n",
    "import pandas as pd\n",
    "import matplotlib.pyplot as plt"
   ]
  },
  {
   "cell_type": "code",
   "execution_count": 2,
   "metadata": {},
   "outputs": [
    {
     "name": "stdout",
     "output_type": "stream",
     "text": [
      "1.3.5\n"
     ]
    }
   ],
   "source": [
    "print(pd.__version__)"
   ]
  },
  {
   "cell_type": "code",
   "execution_count": 6,
   "metadata": {},
   "outputs": [
    {
     "data": {
      "text/html": [
       "<div>\n",
       "<style scoped>\n",
       "    .dataframe tbody tr th:only-of-type {\n",
       "        vertical-align: middle;\n",
       "    }\n",
       "\n",
       "    .dataframe tbody tr th {\n",
       "        vertical-align: top;\n",
       "    }\n",
       "\n",
       "    .dataframe thead th {\n",
       "        text-align: right;\n",
       "    }\n",
       "</style>\n",
       "<table border=\"1\" class=\"dataframe\">\n",
       "  <thead>\n",
       "    <tr style=\"text-align: right;\">\n",
       "      <th></th>\n",
       "      <th>year</th>\n",
       "      <th>film_festival</th>\n",
       "      <th>title</th>\n",
       "      <th>director</th>\n",
       "      <th>field</th>\n",
       "      <th>award</th>\n",
       "      <th>genre</th>\n",
       "      <th>img_link</th>\n",
       "      <th>rating</th>\n",
       "      <th>runtime</th>\n",
       "      <th>prodYear</th>\n",
       "      <th>actors</th>\n",
       "      <th>plot</th>\n",
       "      <th>stills</th>\n",
       "    </tr>\n",
       "  </thead>\n",
       "  <tbody>\n",
       "    <tr>\n",
       "      <th>0</th>\n",
       "      <td>2021</td>\n",
       "      <td>소리아 국제단편영화제</td>\n",
       "      <td>조지아</td>\n",
       "      <td>제이 박</td>\n",
       "      <td>NaN</td>\n",
       "      <td>NaN</td>\n",
       "      <td>가족,범죄,기타</td>\n",
       "      <td>https://ssl.pstatic.net/imgmovie/mdi/mit110/19...</td>\n",
       "      <td>12세관람가</td>\n",
       "      <td>29</td>\n",
       "      <td>2020</td>\n",
       "      <td>['이양희', '이채경', '김규남']</td>\n",
       "      <td>병들고 가난한 부부가 딸의 억울한 죽음을 규명하기 위해 나선다. 가해자를 밝히지도 ...</td>\n",
       "      <td>http://file.koreafilm.or.kr/thm/01/copy/00/55/...</td>\n",
       "    </tr>\n",
       "    <tr>\n",
       "      <th>1</th>\n",
       "      <td>2021</td>\n",
       "      <td>보고타 단편영화제</td>\n",
       "      <td>미미(美味): 궁극의 식사</td>\n",
       "      <td>한재원</td>\n",
       "      <td>경쟁부문</td>\n",
       "      <td>NaN</td>\n",
       "      <td>공포(호러),코미디</td>\n",
       "      <td>https://ssl.pstatic.net/imgmovie/mdi/mit110/20...</td>\n",
       "      <td>NaN</td>\n",
       "      <td>19</td>\n",
       "      <td>2020</td>\n",
       "      <td>['김최용준', '정경임', '이종윤']</td>\n",
       "      <td>미각을 잃은 미식 유튜버 성호는 어딘가 기괴한 음식점에 방문한다.</td>\n",
       "      <td>http://file.koreafilm.or.kr/thm/01/copy/00/59/...</td>\n",
       "    </tr>\n",
       "    <tr>\n",
       "      <th>2</th>\n",
       "      <td>2021</td>\n",
       "      <td>엑상프로방스 국제단편영화제</td>\n",
       "      <td>아이즈앤혼즈</td>\n",
       "      <td>임채린</td>\n",
       "      <td>International Competition of Experimental Shorts</td>\n",
       "      <td>NaN</td>\n",
       "      <td>기타</td>\n",
       "      <td>https://ssl.pstatic.net/imgmovie/mdi/mit110/20...</td>\n",
       "      <td>기타</td>\n",
       "      <td>기타</td>\n",
       "      <td>기타</td>\n",
       "      <td>['']</td>\n",
       "      <td>기타</td>\n",
       "      <td>NaN</td>\n",
       "    </tr>\n",
       "    <tr>\n",
       "      <th>3</th>\n",
       "      <td>2021</td>\n",
       "      <td>서울독립영화제</td>\n",
       "      <td>절해고도</td>\n",
       "      <td>김미영</td>\n",
       "      <td>페스티벌 초이스</td>\n",
       "      <td>NaN</td>\n",
       "      <td>드라마</td>\n",
       "      <td>https://ssl.pstatic.net/imgmovie/mdi/mit110/20...</td>\n",
       "      <td>NaN</td>\n",
       "      <td>116</td>\n",
       "      <td>2021</td>\n",
       "      <td>['박종환', '이연', '강경헌']</td>\n",
       "      <td>절해고도. '육지에서 멀리 떨어진 바다의 외딴 섬'이라는 뜻을 지닌 제목은 삶의 표...</td>\n",
       "      <td>http://file.koreafilm.or.kr/thm/01/copy/00/59/...</td>\n",
       "    </tr>\n",
       "    <tr>\n",
       "      <th>4</th>\n",
       "      <td>2021</td>\n",
       "      <td>서울독립영화제</td>\n",
       "      <td>장갑을 사러</td>\n",
       "      <td>이현주</td>\n",
       "      <td>단편경쟁</td>\n",
       "      <td>NaN</td>\n",
       "      <td>기타</td>\n",
       "      <td>https://ssl.pstatic.net/imgmovie/mdi/mit110/20...</td>\n",
       "      <td>NaN</td>\n",
       "      <td>29</td>\n",
       "      <td>2021</td>\n",
       "      <td>['김정민', '양종욱', '김하람']</td>\n",
       "      <td>피아노를 가르치는 인경은 연인의 일본 발령 소식에 일본어 학원을 다니기 시작한다. ...</td>\n",
       "      <td>http://file.koreafilm.or.kr/thm/01/copy/00/59/...</td>\n",
       "    </tr>\n",
       "  </tbody>\n",
       "</table>\n",
       "</div>"
      ],
      "text/plain": [
       "   year   film_festival           title director  \\\n",
       "0  2021     소리아 국제단편영화제             조지아     제이 박   \n",
       "1  2021       보고타 단편영화제  미미(美味): 궁극의 식사      한재원   \n",
       "2  2021  엑상프로방스 국제단편영화제          아이즈앤혼즈      임채린   \n",
       "3  2021         서울독립영화제            절해고도      김미영   \n",
       "4  2021         서울독립영화제          장갑을 사러      이현주   \n",
       "\n",
       "                                              field award       genre  \\\n",
       "0                                               NaN   NaN    가족,범죄,기타   \n",
       "1                                              경쟁부문   NaN  공포(호러),코미디   \n",
       "2  International Competition of Experimental Shorts   NaN          기타   \n",
       "3                                          페스티벌 초이스   NaN         드라마   \n",
       "4                                              단편경쟁   NaN          기타   \n",
       "\n",
       "                                            img_link  rating runtime prodYear  \\\n",
       "0  https://ssl.pstatic.net/imgmovie/mdi/mit110/19...  12세관람가      29     2020   \n",
       "1  https://ssl.pstatic.net/imgmovie/mdi/mit110/20...     NaN      19     2020   \n",
       "2  https://ssl.pstatic.net/imgmovie/mdi/mit110/20...      기타      기타       기타   \n",
       "3  https://ssl.pstatic.net/imgmovie/mdi/mit110/20...     NaN     116     2021   \n",
       "4  https://ssl.pstatic.net/imgmovie/mdi/mit110/20...     NaN      29     2021   \n",
       "\n",
       "                   actors                                               plot  \\\n",
       "0   ['이양희', '이채경', '김규남']  병들고 가난한 부부가 딸의 억울한 죽음을 규명하기 위해 나선다. 가해자를 밝히지도 ...   \n",
       "1  ['김최용준', '정경임', '이종윤']               미각을 잃은 미식 유튜버 성호는 어딘가 기괴한 음식점에 방문한다.   \n",
       "2                    ['']                                                 기타   \n",
       "3    ['박종환', '이연', '강경헌']  절해고도. '육지에서 멀리 떨어진 바다의 외딴 섬'이라는 뜻을 지닌 제목은 삶의 표...   \n",
       "4   ['김정민', '양종욱', '김하람']  피아노를 가르치는 인경은 연인의 일본 발령 소식에 일본어 학원을 다니기 시작한다. ...   \n",
       "\n",
       "                                              stills  \n",
       "0  http://file.koreafilm.or.kr/thm/01/copy/00/55/...  \n",
       "1  http://file.koreafilm.or.kr/thm/01/copy/00/59/...  \n",
       "2                                                NaN  \n",
       "3  http://file.koreafilm.or.kr/thm/01/copy/00/59/...  \n",
       "4  http://file.koreafilm.or.kr/thm/01/copy/00/59/...  "
      ]
     },
     "execution_count": 6,
     "metadata": {},
     "output_type": "execute_result"
    }
   ],
   "source": [
    "# ================================================================= df\n",
    "df = pd.read_csv('./TEST_film_festival_2021.csv')\n",
    "df.head()"
   ]
  },
  {
   "cell_type": "code",
   "execution_count": 9,
   "metadata": {},
   "outputs": [
    {
     "data": {
      "text/plain": [
       "(228, 14)"
      ]
     },
     "execution_count": 9,
     "metadata": {},
     "output_type": "execute_result"
    }
   ],
   "source": [
    "df.shape"
   ]
  },
  {
   "cell_type": "code",
   "execution_count": 10,
   "metadata": {},
   "outputs": [
    {
     "data": {
      "text/plain": [
       "year             228\n",
       "film_festival    228\n",
       "title            228\n",
       "director         228\n",
       "field            223\n",
       "award             21\n",
       "genre            228\n",
       "img_link         206\n",
       "rating            77\n",
       "runtime          224\n",
       "prodYear         228\n",
       "actors           228\n",
       "plot             226\n",
       "stills           155\n",
       "dtype: int64"
      ]
     },
     "execution_count": 10,
     "metadata": {},
     "output_type": "execute_result"
    }
   ],
   "source": [
    "df.count()"
   ]
  },
  {
   "cell_type": "code",
   "execution_count": 7,
   "metadata": {},
   "outputs": [
    {
     "name": "stdout",
     "output_type": "stream",
     "text": [
      "Index(['year', 'film_festival', 'title', 'director', 'field', 'award', 'genre',\n",
      "       'img_link', 'rating', 'runtime', 'prodYear', 'actors', 'plot',\n",
      "       'stills'],\n",
      "      dtype='object')\n"
     ]
    }
   ],
   "source": [
    "print(df.columns)"
   ]
  },
  {
   "cell_type": "code",
   "execution_count": 8,
   "metadata": {},
   "outputs": [
    {
     "name": "stdout",
     "output_type": "stream",
     "text": [
      "<class 'pandas.core.frame.DataFrame'>\n",
      "RangeIndex: 228 entries, 0 to 227\n",
      "Data columns (total 14 columns):\n",
      " #   Column         Non-Null Count  Dtype \n",
      "---  ------         --------------  ----- \n",
      " 0   year           228 non-null    int64 \n",
      " 1   film_festival  228 non-null    object\n",
      " 2   title          228 non-null    object\n",
      " 3   director       228 non-null    object\n",
      " 4   field          223 non-null    object\n",
      " 5   award          21 non-null     object\n",
      " 6   genre          228 non-null    object\n",
      " 7   img_link       206 non-null    object\n",
      " 8   rating         77 non-null     object\n",
      " 9   runtime        224 non-null    object\n",
      " 10  prodYear       228 non-null    object\n",
      " 11  actors         228 non-null    object\n",
      " 12  plot           226 non-null    object\n",
      " 13  stills         155 non-null    object\n",
      "dtypes: int64(1), object(13)\n",
      "memory usage: 25.1+ KB\n"
     ]
    }
   ],
   "source": [
    "df.info()"
   ]
  },
  {
   "cell_type": "code",
   "execution_count": 11,
   "metadata": {},
   "outputs": [
    {
     "data": {
      "text/plain": [
       "year              int64\n",
       "film_festival    object\n",
       "title            object\n",
       "director         object\n",
       "field            object\n",
       "award            object\n",
       "genre            object\n",
       "img_link         object\n",
       "rating           object\n",
       "runtime          object\n",
       "prodYear         object\n",
       "actors           object\n",
       "plot             object\n",
       "stills           object\n",
       "dtype: object"
      ]
     },
     "execution_count": 11,
     "metadata": {},
     "output_type": "execute_result"
    }
   ],
   "source": [
    "df.dtypes"
   ]
  },
  {
   "cell_type": "code",
   "execution_count": null,
   "metadata": {},
   "outputs": [],
   "source": [
    "# PASS \n",
    "df.drop_duplicates(['title', 'director']) # 이미 중복 제거한 상태로 진행했구나."
   ]
  },
  {
   "cell_type": "code",
   "execution_count": 13,
   "metadata": {},
   "outputs": [
    {
     "data": {
      "text/plain": [
       "year               0\n",
       "film_festival      0\n",
       "title              0\n",
       "director           0\n",
       "field              5\n",
       "award            207\n",
       "genre              0\n",
       "img_link          22\n",
       "rating           151\n",
       "runtime            4\n",
       "prodYear           0\n",
       "actors             0\n",
       "plot               2\n",
       "stills            73\n",
       "dtype: int64"
      ]
     },
     "execution_count": 13,
     "metadata": {},
     "output_type": "execute_result"
    }
   ],
   "source": [
    "# null 개수, 비율 확인\n",
    "df.isnull().sum()"
   ]
  },
  {
   "cell_type": "code",
   "execution_count": 16,
   "metadata": {},
   "outputs": [
    {
     "name": "stdout",
     "output_type": "stream",
     "text": [
      "Index(['year', 'film_festival', 'title', 'director', 'field', 'award', 'genre',\n",
      "       'img_link', 'rating', 'runtime', 'prodYear', 'actors', 'plot',\n",
      "       'stills'],\n",
      "      dtype='object')\n"
     ]
    }
   ],
   "source": [
    "print(df.columns)"
   ]
  },
  {
   "cell_type": "markdown",
   "metadata": {},
   "source": [
    "# EBA\n",
    "## 할 수 있는 게 뭐가 있을까?\n",
    "- 데이터 row 수 => 규모\n",
    "- plot => word cloud (아주 간단히) \n",
    "    - (가능하면 '조사' 지우고 단어로 추출) => 이게 조금 더 들어가보면 재미있을 듯\n",
    "    - 텍스트 분석 가능하겠네 => `감정` 데이터와 연관 가능할 수도\n",
    "- img_link => 한 페이지에 나타내기\n",
    "- genre => (카테고리) 분포 양상 (***) => scatter (???)\n",
    "    - split, unique ...\n",
    "    - 아마 `드라마` 가 가장 많을 듯\n",
    "    - 아니면, 장르를 써내지 않은 `기타`가 많을 수도.\n",
    "    - 장르 두 개 이상\n",
    "- runtime => histogram\n",
    "    - 평균 런타임\n",
    "    - <`단편` 영화제> 라는 조건을 주어서 대체로 짧겠지.\n",
    "    - 평균보다는 median 이 의미가 있을 듯\n",
    "    - 분포도 그려보면 되겠다.\n",
    "- 제작 연도 => bar plot\n",
    "- 출연 배우 수\n",
    "\n",
    "## 자잘하게\n",
    "- rating => NaN 많음\n",
    "- 포스터 뿐 아니라 스틸컷도 받아옴\n",
    "\n"
   ]
  },
  {
   "cell_type": "code",
   "execution_count": 7,
   "metadata": {},
   "outputs": [
    {
     "data": {
      "text/html": [
       "<div>\n",
       "<style scoped>\n",
       "    .dataframe tbody tr th:only-of-type {\n",
       "        vertical-align: middle;\n",
       "    }\n",
       "\n",
       "    .dataframe tbody tr th {\n",
       "        vertical-align: top;\n",
       "    }\n",
       "\n",
       "    .dataframe thead th {\n",
       "        text-align: right;\n",
       "    }\n",
       "</style>\n",
       "<table border=\"1\" class=\"dataframe\">\n",
       "  <thead>\n",
       "    <tr style=\"text-align: right;\">\n",
       "      <th></th>\n",
       "      <th>title</th>\n",
       "      <th>director</th>\n",
       "      <th>genre</th>\n",
       "      <th>img_link</th>\n",
       "      <th>rating</th>\n",
       "      <th>runtime</th>\n",
       "      <th>prodYear</th>\n",
       "      <th>actors</th>\n",
       "      <th>plot</th>\n",
       "      <th>stills</th>\n",
       "    </tr>\n",
       "  </thead>\n",
       "  <tbody>\n",
       "    <tr>\n",
       "      <th>0</th>\n",
       "      <td>조지아</td>\n",
       "      <td>제이 박</td>\n",
       "      <td>가족,범죄,기타</td>\n",
       "      <td>https://ssl.pstatic.net/imgmovie/mdi/mit110/19...</td>\n",
       "      <td>12세관람가</td>\n",
       "      <td>29</td>\n",
       "      <td>2020</td>\n",
       "      <td>['이양희', '이채경', '김규남']</td>\n",
       "      <td>병들고 가난한 부부가 딸의 억울한 죽음을 규명하기 위해 나선다. 가해자를 밝히지도 ...</td>\n",
       "      <td>http://file.koreafilm.or.kr/thm/01/copy/00/55/...</td>\n",
       "    </tr>\n",
       "    <tr>\n",
       "      <th>1</th>\n",
       "      <td>미미(美味): 궁극의 식사</td>\n",
       "      <td>한재원</td>\n",
       "      <td>공포(호러),코미디</td>\n",
       "      <td>https://ssl.pstatic.net/imgmovie/mdi/mit110/20...</td>\n",
       "      <td>NaN</td>\n",
       "      <td>19</td>\n",
       "      <td>2020</td>\n",
       "      <td>['김최용준', '정경임', '이종윤']</td>\n",
       "      <td>미각을 잃은 미식 유튜버 성호는 어딘가 기괴한 음식점에 방문한다.</td>\n",
       "      <td>http://file.koreafilm.or.kr/thm/01/copy/00/59/...</td>\n",
       "    </tr>\n",
       "    <tr>\n",
       "      <th>2</th>\n",
       "      <td>아이즈앤혼즈</td>\n",
       "      <td>임채린</td>\n",
       "      <td>기타</td>\n",
       "      <td>https://ssl.pstatic.net/imgmovie/mdi/mit110/20...</td>\n",
       "      <td>기타</td>\n",
       "      <td>기타</td>\n",
       "      <td>기타</td>\n",
       "      <td>['']</td>\n",
       "      <td>기타</td>\n",
       "      <td>NaN</td>\n",
       "    </tr>\n",
       "    <tr>\n",
       "      <th>3</th>\n",
       "      <td>절해고도</td>\n",
       "      <td>김미영</td>\n",
       "      <td>드라마</td>\n",
       "      <td>https://ssl.pstatic.net/imgmovie/mdi/mit110/20...</td>\n",
       "      <td>NaN</td>\n",
       "      <td>116</td>\n",
       "      <td>2021</td>\n",
       "      <td>['박종환', '이연', '강경헌']</td>\n",
       "      <td>절해고도. '육지에서 멀리 떨어진 바다의 외딴 섬'이라는 뜻을 지닌 제목은 삶의 표...</td>\n",
       "      <td>http://file.koreafilm.or.kr/thm/01/copy/00/59/...</td>\n",
       "    </tr>\n",
       "    <tr>\n",
       "      <th>4</th>\n",
       "      <td>장갑을 사러</td>\n",
       "      <td>이현주</td>\n",
       "      <td>기타</td>\n",
       "      <td>https://ssl.pstatic.net/imgmovie/mdi/mit110/20...</td>\n",
       "      <td>NaN</td>\n",
       "      <td>29</td>\n",
       "      <td>2021</td>\n",
       "      <td>['김정민', '양종욱', '김하람']</td>\n",
       "      <td>피아노를 가르치는 인경은 연인의 일본 발령 소식에 일본어 학원을 다니기 시작한다. ...</td>\n",
       "      <td>http://file.koreafilm.or.kr/thm/01/copy/00/59/...</td>\n",
       "    </tr>\n",
       "    <tr>\n",
       "      <th>...</th>\n",
       "      <td>...</td>\n",
       "      <td>...</td>\n",
       "      <td>...</td>\n",
       "      <td>...</td>\n",
       "      <td>...</td>\n",
       "      <td>...</td>\n",
       "      <td>...</td>\n",
       "      <td>...</td>\n",
       "      <td>...</td>\n",
       "      <td>...</td>\n",
       "    </tr>\n",
       "    <tr>\n",
       "      <th>223</th>\n",
       "      <td>갓스피드</td>\n",
       "      <td>박세영</td>\n",
       "      <td>액션,드라마</td>\n",
       "      <td>https://ssl.pstatic.net/imgmovie/mdi/mit110/19...</td>\n",
       "      <td>NaN</td>\n",
       "      <td>27</td>\n",
       "      <td>2020</td>\n",
       "      <td>['고대영', '김오키', '양윤화']</td>\n",
       "      <td>매일 아침. 다른 동선을 따라 같은 사람들이 다른 물품을 전달한다. 이들은 검은개 ...</td>\n",
       "      <td>http://file.koreafilm.or.kr/thm/01/copy/00/57/...</td>\n",
       "    </tr>\n",
       "    <tr>\n",
       "      <th>224</th>\n",
       "      <td>유령들</td>\n",
       "      <td>박지연</td>\n",
       "      <td>애니메이션,판타지</td>\n",
       "      <td>https://ssl.pstatic.net/imgmovie/mdi/mit110/21...</td>\n",
       "      <td>NaN</td>\n",
       "      <td>10</td>\n",
       "      <td>2019</td>\n",
       "      <td>['정연주', '장형윤']</td>\n",
       "      <td>삶의 권태에 빠지고 그들은 유령이 되었다. 까마귀가 그들을 노린다.</td>\n",
       "      <td>http://file.koreafilm.or.kr/thm/01/copy/00/55/...</td>\n",
       "    </tr>\n",
       "    <tr>\n",
       "      <th>225</th>\n",
       "      <td>세이레</td>\n",
       "      <td>박강</td>\n",
       "      <td>공포(호러),드라마</td>\n",
       "      <td>https://ssl.pstatic.net/imgmovie/mdi/mit110/19...</td>\n",
       "      <td>NaN</td>\n",
       "      <td>27</td>\n",
       "      <td>2020</td>\n",
       "      <td>['이한주', '한해인', '박예영']</td>\n",
       "      <td>아기가 태어나고 삼칠일. 아기 아빠가 장례식장에 다녀온 후, 아기가 아프기 시작한다.</td>\n",
       "      <td>http://file.koreafilm.or.kr/thm/01/copy/00/56/...</td>\n",
       "    </tr>\n",
       "    <tr>\n",
       "      <th>226</th>\n",
       "      <td>조의(JOY)</td>\n",
       "      <td>권용재</td>\n",
       "      <td>드라마</td>\n",
       "      <td>NaN</td>\n",
       "      <td>기타</td>\n",
       "      <td>기타</td>\n",
       "      <td>기타</td>\n",
       "      <td>['']</td>\n",
       "      <td>기타</td>\n",
       "      <td>NaN</td>\n",
       "    </tr>\n",
       "    <tr>\n",
       "      <th>227</th>\n",
       "      <td>죽고 싶은 날에 한하여</td>\n",
       "      <td>김묘욱</td>\n",
       "      <td>드라마</td>\n",
       "      <td>https://ssl.pstatic.net/imgmovie/mdi/mit110/21...</td>\n",
       "      <td>기타</td>\n",
       "      <td>기타</td>\n",
       "      <td>기타</td>\n",
       "      <td>['']</td>\n",
       "      <td>기타</td>\n",
       "      <td>NaN</td>\n",
       "    </tr>\n",
       "  </tbody>\n",
       "</table>\n",
       "<p>228 rows × 10 columns</p>\n",
       "</div>"
      ],
      "text/plain": [
       "              title director       genre  \\\n",
       "0               조지아     제이 박    가족,범죄,기타   \n",
       "1    미미(美味): 궁극의 식사      한재원  공포(호러),코미디   \n",
       "2            아이즈앤혼즈      임채린          기타   \n",
       "3              절해고도      김미영         드라마   \n",
       "4            장갑을 사러      이현주          기타   \n",
       "..              ...      ...         ...   \n",
       "223            갓스피드      박세영      액션,드라마   \n",
       "224             유령들      박지연   애니메이션,판타지   \n",
       "225             세이레       박강  공포(호러),드라마   \n",
       "226         조의(JOY)      권용재         드라마   \n",
       "227    죽고 싶은 날에 한하여      김묘욱         드라마   \n",
       "\n",
       "                                              img_link  rating runtime  \\\n",
       "0    https://ssl.pstatic.net/imgmovie/mdi/mit110/19...  12세관람가      29   \n",
       "1    https://ssl.pstatic.net/imgmovie/mdi/mit110/20...     NaN      19   \n",
       "2    https://ssl.pstatic.net/imgmovie/mdi/mit110/20...      기타      기타   \n",
       "3    https://ssl.pstatic.net/imgmovie/mdi/mit110/20...     NaN     116   \n",
       "4    https://ssl.pstatic.net/imgmovie/mdi/mit110/20...     NaN      29   \n",
       "..                                                 ...     ...     ...   \n",
       "223  https://ssl.pstatic.net/imgmovie/mdi/mit110/19...     NaN      27   \n",
       "224  https://ssl.pstatic.net/imgmovie/mdi/mit110/21...     NaN      10   \n",
       "225  https://ssl.pstatic.net/imgmovie/mdi/mit110/19...     NaN      27   \n",
       "226                                                NaN      기타      기타   \n",
       "227  https://ssl.pstatic.net/imgmovie/mdi/mit110/21...      기타      기타   \n",
       "\n",
       "    prodYear                  actors  \\\n",
       "0       2020   ['이양희', '이채경', '김규남']   \n",
       "1       2020  ['김최용준', '정경임', '이종윤']   \n",
       "2         기타                    ['']   \n",
       "3       2021    ['박종환', '이연', '강경헌']   \n",
       "4       2021   ['김정민', '양종욱', '김하람']   \n",
       "..       ...                     ...   \n",
       "223     2020   ['고대영', '김오키', '양윤화']   \n",
       "224     2019          ['정연주', '장형윤']   \n",
       "225     2020   ['이한주', '한해인', '박예영']   \n",
       "226       기타                    ['']   \n",
       "227       기타                    ['']   \n",
       "\n",
       "                                                  plot  \\\n",
       "0    병들고 가난한 부부가 딸의 억울한 죽음을 규명하기 위해 나선다. 가해자를 밝히지도 ...   \n",
       "1                 미각을 잃은 미식 유튜버 성호는 어딘가 기괴한 음식점에 방문한다.   \n",
       "2                                                   기타   \n",
       "3    절해고도. '육지에서 멀리 떨어진 바다의 외딴 섬'이라는 뜻을 지닌 제목은 삶의 표...   \n",
       "4    피아노를 가르치는 인경은 연인의 일본 발령 소식에 일본어 학원을 다니기 시작한다. ...   \n",
       "..                                                 ...   \n",
       "223  매일 아침. 다른 동선을 따라 같은 사람들이 다른 물품을 전달한다. 이들은 검은개 ...   \n",
       "224              삶의 권태에 빠지고 그들은 유령이 되었다. 까마귀가 그들을 노린다.   \n",
       "225    아기가 태어나고 삼칠일. 아기 아빠가 장례식장에 다녀온 후, 아기가 아프기 시작한다.   \n",
       "226                                                 기타   \n",
       "227                                                 기타   \n",
       "\n",
       "                                                stills  \n",
       "0    http://file.koreafilm.or.kr/thm/01/copy/00/55/...  \n",
       "1    http://file.koreafilm.or.kr/thm/01/copy/00/59/...  \n",
       "2                                                  NaN  \n",
       "3    http://file.koreafilm.or.kr/thm/01/copy/00/59/...  \n",
       "4    http://file.koreafilm.or.kr/thm/01/copy/00/59/...  \n",
       "..                                                 ...  \n",
       "223  http://file.koreafilm.or.kr/thm/01/copy/00/57/...  \n",
       "224  http://file.koreafilm.or.kr/thm/01/copy/00/55/...  \n",
       "225  http://file.koreafilm.or.kr/thm/01/copy/00/56/...  \n",
       "226                                                NaN  \n",
       "227                                                NaN  \n",
       "\n",
       "[228 rows x 10 columns]"
      ]
     },
     "execution_count": 7,
     "metadata": {},
     "output_type": "execute_result"
    }
   ],
   "source": [
    "# ================================================================= DB2\n",
    "# 의미있는 columns 추출 (2021yr)\n",
    "db2 = df[['title', 'director', 'genre', 'img_link', 'rating', 'runtime', 'prodYear', 'actors', 'plot', 'stills']]\n",
    "db2"
   ]
  },
  {
   "cell_type": "markdown",
   "metadata": {},
   "source": [
    "### 데이터 row 수"
   ]
  },
  {
   "cell_type": "code",
   "execution_count": 22,
   "metadata": {},
   "outputs": [
    {
     "data": {
      "text/plain": [
       "(228, 14)"
      ]
     },
     "execution_count": 22,
     "metadata": {},
     "output_type": "execute_result"
    }
   ],
   "source": [
    "df.shape"
   ]
  },
  {
   "cell_type": "markdown",
   "metadata": {},
   "source": [
    "### plot => word cloud\n",
    "- 문자열 가공 처리 필요\n",
    "    - 형태소, 음운 등등 품사 처리가 필요함\n",
    "\n",
    "- Library\n",
    "    - KoNLPy\n",
    "        - https://konlpy.org/ko/latest/\n",
    "        - install => https://konlpy.org/ko/latest/install/\n",
    "        - $ pip install konlpy\n",
    "    - 적용 사이트\n",
    "        - https://withchu.tistory.com/5"
   ]
  },
  {
   "cell_type": "code",
   "execution_count": 1,
   "metadata": {},
   "outputs": [
    {
     "ename": "JVMNotFoundException",
     "evalue": "No JVM shared library file (jvm.dll) found. Try setting up the JAVA_HOME environment variable properly.",
     "output_type": "error",
     "traceback": [
      "\u001b[1;31m---------------------------------------------------------------------------\u001b[0m",
      "\u001b[1;31mJVMNotFoundException\u001b[0m                      Traceback (most recent call last)",
      "\u001b[1;32m<ipython-input-1-354c6089e7d6>\u001b[0m in \u001b[0;36m<module>\u001b[1;34m\u001b[0m\n\u001b[0;32m      2\u001b[0m \u001b[1;32mfrom\u001b[0m \u001b[0mcollections\u001b[0m \u001b[1;32mimport\u001b[0m \u001b[0mCounter\u001b[0m\u001b[1;33m\u001b[0m\u001b[1;33m\u001b[0m\u001b[0m\n\u001b[0;32m      3\u001b[0m \u001b[1;33m\u001b[0m\u001b[0m\n\u001b[1;32m----> 4\u001b[1;33m \u001b[0mnlp\u001b[0m \u001b[1;33m=\u001b[0m \u001b[0mOkt\u001b[0m\u001b[1;33m(\u001b[0m\u001b[1;33m)\u001b[0m\u001b[1;33m\u001b[0m\u001b[1;33m\u001b[0m\u001b[0m\n\u001b[0m\u001b[0;32m      5\u001b[0m \u001b[0mnouns\u001b[0m \u001b[1;33m=\u001b[0m \u001b[0mnlp\u001b[0m\u001b[1;33m.\u001b[0m\u001b[0mnouns\u001b[0m\u001b[1;33m(\u001b[0m\u001b[0mdb2\u001b[0m\u001b[1;33m[\u001b[0m\u001b[1;33m[\u001b[0m\u001b[1;34m'plot'\u001b[0m\u001b[1;33m]\u001b[0m\u001b[1;33m[\u001b[0m\u001b[1;36m0\u001b[0m\u001b[1;33m]\u001b[0m\u001b[1;33m]\u001b[0m\u001b[1;33m)\u001b[0m \u001b[1;31m# 명사별로 분할한다\u001b[0m\u001b[1;33m\u001b[0m\u001b[1;33m\u001b[0m\u001b[0m\n\u001b[0;32m      6\u001b[0m \u001b[0mresult\u001b[0m \u001b[1;33m=\u001b[0m \u001b[1;33m[\u001b[0m\u001b[1;33m]\u001b[0m\u001b[1;33m\u001b[0m\u001b[1;33m\u001b[0m\u001b[0m\n",
      "\u001b[1;32mC:\\ProgramData\\Anaconda3\\lib\\site-packages\\konlpy\\tag\\_okt.py\u001b[0m in \u001b[0;36m__init__\u001b[1;34m(self, jvmpath, max_heap_size)\u001b[0m\n\u001b[0;32m     89\u001b[0m     \u001b[1;32mdef\u001b[0m \u001b[0m__init__\u001b[0m\u001b[1;33m(\u001b[0m\u001b[0mself\u001b[0m\u001b[1;33m,\u001b[0m \u001b[0mjvmpath\u001b[0m\u001b[1;33m=\u001b[0m\u001b[1;32mNone\u001b[0m\u001b[1;33m,\u001b[0m \u001b[0mmax_heap_size\u001b[0m\u001b[1;33m=\u001b[0m\u001b[1;36m1024\u001b[0m\u001b[1;33m)\u001b[0m\u001b[1;33m:\u001b[0m\u001b[1;33m\u001b[0m\u001b[1;33m\u001b[0m\u001b[0m\n\u001b[0;32m     90\u001b[0m         \u001b[1;32mif\u001b[0m \u001b[1;32mnot\u001b[0m \u001b[0mjpype\u001b[0m\u001b[1;33m.\u001b[0m\u001b[0misJVMStarted\u001b[0m\u001b[1;33m(\u001b[0m\u001b[1;33m)\u001b[0m\u001b[1;33m:\u001b[0m\u001b[1;33m\u001b[0m\u001b[1;33m\u001b[0m\u001b[0m\n\u001b[1;32m---> 91\u001b[1;33m             \u001b[0mjvm\u001b[0m\u001b[1;33m.\u001b[0m\u001b[0minit_jvm\u001b[0m\u001b[1;33m(\u001b[0m\u001b[0mjvmpath\u001b[0m\u001b[1;33m,\u001b[0m \u001b[0mmax_heap_size\u001b[0m\u001b[1;33m)\u001b[0m\u001b[1;33m\u001b[0m\u001b[1;33m\u001b[0m\u001b[0m\n\u001b[0m\u001b[0;32m     92\u001b[0m \u001b[1;33m\u001b[0m\u001b[0m\n\u001b[0;32m     93\u001b[0m         \u001b[0moktJavaPackage\u001b[0m \u001b[1;33m=\u001b[0m \u001b[0mjpype\u001b[0m\u001b[1;33m.\u001b[0m\u001b[0mJPackage\u001b[0m\u001b[1;33m(\u001b[0m\u001b[1;34m'kr.lucypark.okt'\u001b[0m\u001b[1;33m)\u001b[0m\u001b[1;33m\u001b[0m\u001b[1;33m\u001b[0m\u001b[0m\n",
      "\u001b[1;32mC:\\ProgramData\\Anaconda3\\lib\\site-packages\\konlpy\\jvm.py\u001b[0m in \u001b[0;36minit_jvm\u001b[1;34m(jvmpath, max_heap_size)\u001b[0m\n\u001b[0;32m     53\u001b[0m     \u001b[0mclasspath\u001b[0m \u001b[1;33m=\u001b[0m \u001b[0mos\u001b[0m\u001b[1;33m.\u001b[0m\u001b[0mpathsep\u001b[0m\u001b[1;33m.\u001b[0m\u001b[0mjoin\u001b[0m\u001b[1;33m(\u001b[0m\u001b[0mf\u001b[0m\u001b[1;33m.\u001b[0m\u001b[0mformat\u001b[0m\u001b[1;33m(\u001b[0m\u001b[1;33m*\u001b[0m\u001b[0margs\u001b[0m\u001b[1;33m)\u001b[0m \u001b[1;32mfor\u001b[0m \u001b[0mf\u001b[0m \u001b[1;32min\u001b[0m \u001b[0mfolder_suffix\u001b[0m\u001b[1;33m)\u001b[0m\u001b[1;33m\u001b[0m\u001b[1;33m\u001b[0m\u001b[0m\n\u001b[0;32m     54\u001b[0m \u001b[1;33m\u001b[0m\u001b[0m\n\u001b[1;32m---> 55\u001b[1;33m     \u001b[0mjvmpath\u001b[0m \u001b[1;33m=\u001b[0m \u001b[0mjvmpath\u001b[0m \u001b[1;32mor\u001b[0m \u001b[0mjpype\u001b[0m\u001b[1;33m.\u001b[0m\u001b[0mgetDefaultJVMPath\u001b[0m\u001b[1;33m(\u001b[0m\u001b[1;33m)\u001b[0m\u001b[1;33m\u001b[0m\u001b[1;33m\u001b[0m\u001b[0m\n\u001b[0m\u001b[0;32m     56\u001b[0m \u001b[1;33m\u001b[0m\u001b[0m\n\u001b[0;32m     57\u001b[0m     \u001b[1;31m# NOTE: Temporary patch for Issue #76. Erase when possible.\u001b[0m\u001b[1;33m\u001b[0m\u001b[1;33m\u001b[0m\u001b[1;33m\u001b[0m\u001b[0m\n",
      "\u001b[1;32mC:\\ProgramData\\Anaconda3\\lib\\site-packages\\jpype\\_jvmfinder.py\u001b[0m in \u001b[0;36mgetDefaultJVMPath\u001b[1;34m()\u001b[0m\n\u001b[0;32m     72\u001b[0m     \u001b[1;32melse\u001b[0m\u001b[1;33m:\u001b[0m\u001b[1;33m\u001b[0m\u001b[1;33m\u001b[0m\u001b[0m\n\u001b[0;32m     73\u001b[0m         \u001b[0mfinder\u001b[0m \u001b[1;33m=\u001b[0m \u001b[0mLinuxJVMFinder\u001b[0m\u001b[1;33m(\u001b[0m\u001b[1;33m)\u001b[0m\u001b[1;33m\u001b[0m\u001b[1;33m\u001b[0m\u001b[0m\n\u001b[1;32m---> 74\u001b[1;33m     \u001b[1;32mreturn\u001b[0m \u001b[0mfinder\u001b[0m\u001b[1;33m.\u001b[0m\u001b[0mget_jvm_path\u001b[0m\u001b[1;33m(\u001b[0m\u001b[1;33m)\u001b[0m\u001b[1;33m\u001b[0m\u001b[1;33m\u001b[0m\u001b[0m\n\u001b[0m\u001b[0;32m     75\u001b[0m \u001b[1;33m\u001b[0m\u001b[0m\n\u001b[0;32m     76\u001b[0m \u001b[1;33m\u001b[0m\u001b[0m\n",
      "\u001b[1;32mC:\\ProgramData\\Anaconda3\\lib\\site-packages\\jpype\\_jvmfinder.py\u001b[0m in \u001b[0;36mget_jvm_path\u001b[1;34m(self)\u001b[0m\n\u001b[0;32m    210\u001b[0m         \u001b[1;32mif\u001b[0m \u001b[0mjvm_notsupport_ext\u001b[0m \u001b[1;32mis\u001b[0m \u001b[1;32mnot\u001b[0m \u001b[1;32mNone\u001b[0m\u001b[1;33m:\u001b[0m\u001b[1;33m\u001b[0m\u001b[1;33m\u001b[0m\u001b[0m\n\u001b[0;32m    211\u001b[0m             \u001b[1;32mraise\u001b[0m \u001b[0mjvm_notsupport_ext\u001b[0m\u001b[1;33m\u001b[0m\u001b[1;33m\u001b[0m\u001b[0m\n\u001b[1;32m--> 212\u001b[1;33m         raise JVMNotFoundException(\"No JVM shared library file ({0}) \"\n\u001b[0m\u001b[0;32m    213\u001b[0m                                    \u001b[1;34m\"found. Try setting up the JAVA_HOME \"\u001b[0m\u001b[1;33m\u001b[0m\u001b[1;33m\u001b[0m\u001b[0m\n\u001b[0;32m    214\u001b[0m                                    \u001b[1;34m\"environment variable properly.\"\u001b[0m\u001b[1;33m\u001b[0m\u001b[1;33m\u001b[0m\u001b[0m\n",
      "\u001b[1;31mJVMNotFoundException\u001b[0m: No JVM shared library file (jvm.dll) found. Try setting up the JAVA_HOME environment variable properly."
     ]
    }
   ],
   "source": [
    "# Conda ENV 에서 실행\n",
    "\n",
    "from konlpy.tag import Okt \n",
    "from collections import Counter \n",
    "\n",
    "nlp = Okt() \n",
    "nouns = nlp.nouns(db2[['plot'][0]]) # 명사별로 분할한다 \n",
    "result = [] \n",
    "\n",
    "for temp in nouns: \n",
    "    if len(temp) > 1: # 두 글자 이상 명사만 가져온다 \n",
    "        result.append(temp) \n",
    "\n",
    "print(result) \n",
    "print(len(result)) \n",
    "count = Counter(result) \n",
    "print(count) \n",
    "tag = count.most_common(50) # 상위50개"
   ]
  },
  {
   "cell_type": "markdown",
   "metadata": {},
   "source": [
    "### genre => (카테고리) 분포 양상 (***) => scatter (???)"
   ]
  },
  {
   "cell_type": "code",
   "execution_count": 27,
   "metadata": {},
   "outputs": [
    {
     "data": {
      "text/plain": [
       "array(['가족,범죄,기타', '공포(호러),코미디', '기타', '드라마', '다큐멘터리', '애니메이션',\n",
       "       '애니메이션,다큐멘터리', '코미디', '공포(호러)', '드라마,멜로/로맨스', '뮤지컬', '가족,코미디',\n",
       "       '코미디,드라마', '스릴러,드라마', '스릴러', '다큐멘터리,기타', '멜로/로맨스,드라마', '드라마,스릴러',\n",
       "       '가족', '가족,SF', '애니메이션,범죄', '드라마,가족,액션', '가족,드라마',\n",
       "       '공포(호러),판타지,애니메이션', '드라마,코미디', '액션,드라마', '애니메이션,판타지', '공포(호러),드라마'],\n",
       "      dtype=object)"
      ]
     },
     "execution_count": 27,
     "metadata": {},
     "output_type": "execute_result"
    }
   ],
   "source": [
    "db2['genre'].unique()"
   ]
  },
  {
   "cell_type": "code",
   "execution_count": 29,
   "metadata": {},
   "outputs": [
    {
     "data": {
      "text/plain": [
       "기타                  85\n",
       "드라마                 62\n",
       "다큐멘터리               36\n",
       "애니메이션                8\n",
       "코미디                  7\n",
       "스릴러                  4\n",
       "코미디,드라마              2\n",
       "멜로/로맨스,드라마           2\n",
       "드라마,멜로/로맨스           2\n",
       "공포(호러)               2\n",
       "가족,SF                1\n",
       "액션,드라마               1\n",
       "드라마,코미디              1\n",
       "공포(호러),판타지,애니메이션     1\n",
       "가족,드라마               1\n",
       "드라마,가족,액션            1\n",
       "애니메이션,판타지            1\n",
       "애니메이션,범죄             1\n",
       "가족,범죄,기타             1\n",
       "가족                   1\n",
       "드라마,스릴러              1\n",
       "다큐멘터리,기타             1\n",
       "공포(호러),코미디           1\n",
       "스릴러,드라마              1\n",
       "가족,코미디               1\n",
       "뮤지컬                  1\n",
       "애니메이션,다큐멘터리          1\n",
       "공포(호러),드라마           1\n",
       "Name: genre, dtype: int64"
      ]
     },
     "execution_count": 29,
     "metadata": {},
     "output_type": "execute_result"
    }
   ],
   "source": [
    "db2['genre'].value_counts(sort=True, ascending=False)"
   ]
  },
  {
   "cell_type": "code",
   "execution_count": null,
   "metadata": {},
   "outputs": [],
   "source": [
    "db2_genre_n = db2['genre'].value_counts(normalize=True)\n",
    "db2_genre_n.plot.bar()"
   ]
  },
  {
   "cell_type": "code",
   "execution_count": 46,
   "metadata": {},
   "outputs": [
    {
     "data": {
      "text/plain": [
       "['0        가족',\n",
       " '범죄',\n",
       " '기타\\n1      공포(호러)',\n",
       " '코미디\\n2              기타\\n3             드라마\\n4              기타\\n          ...    \\n223        액션',\n",
       " '드라마\\n224     애니메이션',\n",
       " '판타지\\n225    공포(호러)',\n",
       " '드라마\\n226           드라마\\n227           드라마\\nName: genre',\n",
       " ' Length: 228',\n",
       " ' dtype: object']"
      ]
     },
     "execution_count": 46,
     "metadata": {},
     "output_type": "execute_result"
    }
   ],
   "source": [
    "db2_genre = str(db2.genre).split(',')\n",
    "db2_genre"
   ]
  },
  {
   "cell_type": "code",
   "execution_count": null,
   "metadata": {},
   "outputs": [],
   "source": []
  },
  {
   "cell_type": "markdown",
   "metadata": {},
   "source": [
    "### runtime => histogram\n",
    "- df.hist()\n",
    "    - https://pandas.pydata.org/docs/reference/api/pandas.DataFrame.hist.html\n",
    "- df.plot.bar()\n",
    "    - https://pandas.pydata.org/docs/reference/api/pandas.DataFrame.plot.bar.html?highlight=plot%20bar#pandas.DataFrame.plot.bar"
   ]
  },
  {
   "cell_type": "code",
   "execution_count": null,
   "metadata": {},
   "outputs": [],
   "source": []
  },
  {
   "cell_type": "markdown",
   "metadata": {},
   "source": [
    "### 제작 연도 prodYear => bar plot"
   ]
  },
  {
   "cell_type": "code",
   "execution_count": null,
   "metadata": {},
   "outputs": [],
   "source": []
  },
  {
   "cell_type": "code",
   "execution_count": 21,
   "metadata": {},
   "outputs": [
    {
     "ename": "NameError",
     "evalue": "name 'count' is not defined",
     "output_type": "error",
     "traceback": [
      "\u001b[1;31m---------------------------------------------------------------------------\u001b[0m",
      "\u001b[1;31mNameError\u001b[0m                                 Traceback (most recent call last)",
      "\u001b[1;32mC:\\Users\\SANGEU~1\\AppData\\Local\\Temp/ipykernel_26508/1408789649.py\u001b[0m in \u001b[0;36m<module>\u001b[1;34m\u001b[0m\n\u001b[1;32m----> 1\u001b[1;33m \u001b[0mplt\u001b[0m\u001b[1;33m.\u001b[0m\u001b[0mbar\u001b[0m\u001b[1;33m(\u001b[0m\u001b[1;34m'prodYear'\u001b[0m\u001b[1;33m,\u001b[0m \u001b[0mcount\u001b[0m\u001b[1;33m(\u001b[0m\u001b[0mprodYear\u001b[0m\u001b[1;33m)\u001b[0m\u001b[1;33m)\u001b[0m\u001b[1;33m\u001b[0m\u001b[1;33m\u001b[0m\u001b[0m\n\u001b[0m\u001b[0;32m      2\u001b[0m \u001b[1;33m\u001b[0m\u001b[0m\n\u001b[0;32m      3\u001b[0m \u001b[0mplt\u001b[0m\u001b[1;33m.\u001b[0m\u001b[0mxlabel\u001b[0m\u001b[1;33m(\u001b[0m\u001b[1;34m'year'\u001b[0m\u001b[1;33m,\u001b[0m \u001b[0mfontsize\u001b[0m\u001b[1;33m=\u001b[0m\u001b[1;36m18\u001b[0m\u001b[1;33m)\u001b[0m\u001b[1;33m\u001b[0m\u001b[1;33m\u001b[0m\u001b[0m\n\u001b[0;32m      4\u001b[0m \u001b[1;33m\u001b[0m\u001b[0m\n\u001b[0;32m      5\u001b[0m plt.xticks(index, label, fontsize=15, \n",
      "\u001b[1;31mNameError\u001b[0m: name 'count' is not defined"
     ]
    }
   ],
   "source": [
    "plt.bar('prodYear', count(prodYear))\n",
    "\n",
    "plt.xlabel('year', fontsize=18)\n",
    "\n",
    "plt.xticks(index, label, fontsize=15, \n",
    "\n",
    "           rotation=90) # when X tick labels are long\n",
    "\n",
    "plt.show()\n",
    "\n",
    "\n",
    "\n",
    "#출처: https://rfriend.tistory.com/411 [R, Python 분석과 프로그래밍의 친구 (by R Friend)]"
   ]
  },
  {
   "cell_type": "code",
   "execution_count": 16,
   "metadata": {},
   "outputs": [
    {
     "ename": "KeyError",
     "evalue": "'count(prodYear)'",
     "output_type": "error",
     "traceback": [
      "\u001b[1;31m---------------------------------------------------------------------------\u001b[0m",
      "\u001b[1;31mKeyError\u001b[0m                                  Traceback (most recent call last)",
      "\u001b[1;32m~\\AppData\\Local\\Programs\\Python\\Python310\\lib\\site-packages\\pandas\\core\\indexes\\base.py\u001b[0m in \u001b[0;36mget_loc\u001b[1;34m(self, key, method, tolerance)\u001b[0m\n\u001b[0;32m   3360\u001b[0m             \u001b[1;32mtry\u001b[0m\u001b[1;33m:\u001b[0m\u001b[1;33m\u001b[0m\u001b[1;33m\u001b[0m\u001b[0m\n\u001b[1;32m-> 3361\u001b[1;33m                 \u001b[1;32mreturn\u001b[0m \u001b[0mself\u001b[0m\u001b[1;33m.\u001b[0m\u001b[0m_engine\u001b[0m\u001b[1;33m.\u001b[0m\u001b[0mget_loc\u001b[0m\u001b[1;33m(\u001b[0m\u001b[0mcasted_key\u001b[0m\u001b[1;33m)\u001b[0m\u001b[1;33m\u001b[0m\u001b[1;33m\u001b[0m\u001b[0m\n\u001b[0m\u001b[0;32m   3362\u001b[0m             \u001b[1;32mexcept\u001b[0m \u001b[0mKeyError\u001b[0m \u001b[1;32mas\u001b[0m \u001b[0merr\u001b[0m\u001b[1;33m:\u001b[0m\u001b[1;33m\u001b[0m\u001b[1;33m\u001b[0m\u001b[0m\n",
      "\u001b[1;32m~\\AppData\\Local\\Programs\\Python\\Python310\\lib\\site-packages\\pandas\\_libs\\index.pyx\u001b[0m in \u001b[0;36mpandas._libs.index.IndexEngine.get_loc\u001b[1;34m()\u001b[0m\n",
      "\u001b[1;32m~\\AppData\\Local\\Programs\\Python\\Python310\\lib\\site-packages\\pandas\\_libs\\index.pyx\u001b[0m in \u001b[0;36mpandas._libs.index.IndexEngine.get_loc\u001b[1;34m()\u001b[0m\n",
      "\u001b[1;32mpandas\\_libs\\hashtable_class_helper.pxi\u001b[0m in \u001b[0;36mpandas._libs.hashtable.PyObjectHashTable.get_item\u001b[1;34m()\u001b[0m\n",
      "\u001b[1;32mpandas\\_libs\\hashtable_class_helper.pxi\u001b[0m in \u001b[0;36mpandas._libs.hashtable.PyObjectHashTable.get_item\u001b[1;34m()\u001b[0m\n",
      "\u001b[1;31mKeyError\u001b[0m: 'count(prodYear)'",
      "\nThe above exception was the direct cause of the following exception:\n",
      "\u001b[1;31mKeyError\u001b[0m                                  Traceback (most recent call last)",
      "\u001b[1;32mC:\\Users\\SANGEU~1\\AppData\\Local\\Temp/ipykernel_26508/522021111.py\u001b[0m in \u001b[0;36m<module>\u001b[1;34m\u001b[0m\n\u001b[1;32m----> 1\u001b[1;33m \u001b[0mdf\u001b[0m\u001b[1;33m.\u001b[0m\u001b[0mplot\u001b[0m\u001b[1;33m.\u001b[0m\u001b[0mbar\u001b[0m\u001b[1;33m(\u001b[0m\u001b[0mx\u001b[0m\u001b[1;33m=\u001b[0m\u001b[1;34m'prodYear'\u001b[0m\u001b[1;33m,\u001b[0m \u001b[0my\u001b[0m\u001b[1;33m=\u001b[0m\u001b[1;34m'count(prodYear)'\u001b[0m\u001b[1;33m,\u001b[0m \u001b[0mrot\u001b[0m\u001b[1;33m=\u001b[0m\u001b[1;36m0\u001b[0m\u001b[1;33m)\u001b[0m\u001b[1;33m\u001b[0m\u001b[1;33m\u001b[0m\u001b[0m\n\u001b[0m",
      "\u001b[1;32m~\\AppData\\Local\\Programs\\Python\\Python310\\lib\\site-packages\\pandas\\plotting\\_core.py\u001b[0m in \u001b[0;36mbar\u001b[1;34m(self, x, y, **kwargs)\u001b[0m\n\u001b[0;32m   1128\u001b[0m         \u001b[0mother\u001b[0m \u001b[0maxis\u001b[0m \u001b[0mrepresents\u001b[0m \u001b[0ma\u001b[0m \u001b[0mmeasured\u001b[0m \u001b[0mvalue\u001b[0m\u001b[1;33m.\u001b[0m\u001b[1;33m\u001b[0m\u001b[1;33m\u001b[0m\u001b[0m\n\u001b[0;32m   1129\u001b[0m         \"\"\"\n\u001b[1;32m-> 1130\u001b[1;33m         \u001b[1;32mreturn\u001b[0m \u001b[0mself\u001b[0m\u001b[1;33m(\u001b[0m\u001b[0mkind\u001b[0m\u001b[1;33m=\u001b[0m\u001b[1;34m\"bar\"\u001b[0m\u001b[1;33m,\u001b[0m \u001b[0mx\u001b[0m\u001b[1;33m=\u001b[0m\u001b[0mx\u001b[0m\u001b[1;33m,\u001b[0m \u001b[0my\u001b[0m\u001b[1;33m=\u001b[0m\u001b[0my\u001b[0m\u001b[1;33m,\u001b[0m \u001b[1;33m**\u001b[0m\u001b[0mkwargs\u001b[0m\u001b[1;33m)\u001b[0m\u001b[1;33m\u001b[0m\u001b[1;33m\u001b[0m\u001b[0m\n\u001b[0m\u001b[0;32m   1131\u001b[0m \u001b[1;33m\u001b[0m\u001b[0m\n\u001b[0;32m   1132\u001b[0m     @Appender(\n",
      "\u001b[1;32m~\\AppData\\Local\\Programs\\Python\\Python310\\lib\\site-packages\\pandas\\plotting\\_core.py\u001b[0m in \u001b[0;36m__call__\u001b[1;34m(self, *args, **kwargs)\u001b[0m\n\u001b[0;32m    956\u001b[0m \u001b[1;33m\u001b[0m\u001b[0m\n\u001b[0;32m    957\u001b[0m                 \u001b[1;31m# don't overwrite\u001b[0m\u001b[1;33m\u001b[0m\u001b[1;33m\u001b[0m\u001b[0m\n\u001b[1;32m--> 958\u001b[1;33m                 \u001b[0mdata\u001b[0m \u001b[1;33m=\u001b[0m \u001b[0mdata\u001b[0m\u001b[1;33m[\u001b[0m\u001b[0my\u001b[0m\u001b[1;33m]\u001b[0m\u001b[1;33m.\u001b[0m\u001b[0mcopy\u001b[0m\u001b[1;33m(\u001b[0m\u001b[1;33m)\u001b[0m\u001b[1;33m\u001b[0m\u001b[1;33m\u001b[0m\u001b[0m\n\u001b[0m\u001b[0;32m    959\u001b[0m \u001b[1;33m\u001b[0m\u001b[0m\n\u001b[0;32m    960\u001b[0m                 \u001b[1;32mif\u001b[0m \u001b[0misinstance\u001b[0m\u001b[1;33m(\u001b[0m\u001b[0mdata\u001b[0m\u001b[1;33m,\u001b[0m \u001b[0mABCSeries\u001b[0m\u001b[1;33m)\u001b[0m\u001b[1;33m:\u001b[0m\u001b[1;33m\u001b[0m\u001b[1;33m\u001b[0m\u001b[0m\n",
      "\u001b[1;32m~\\AppData\\Local\\Programs\\Python\\Python310\\lib\\site-packages\\pandas\\core\\frame.py\u001b[0m in \u001b[0;36m__getitem__\u001b[1;34m(self, key)\u001b[0m\n\u001b[0;32m   3456\u001b[0m             \u001b[1;32mif\u001b[0m \u001b[0mself\u001b[0m\u001b[1;33m.\u001b[0m\u001b[0mcolumns\u001b[0m\u001b[1;33m.\u001b[0m\u001b[0mnlevels\u001b[0m \u001b[1;33m>\u001b[0m \u001b[1;36m1\u001b[0m\u001b[1;33m:\u001b[0m\u001b[1;33m\u001b[0m\u001b[1;33m\u001b[0m\u001b[0m\n\u001b[0;32m   3457\u001b[0m                 \u001b[1;32mreturn\u001b[0m \u001b[0mself\u001b[0m\u001b[1;33m.\u001b[0m\u001b[0m_getitem_multilevel\u001b[0m\u001b[1;33m(\u001b[0m\u001b[0mkey\u001b[0m\u001b[1;33m)\u001b[0m\u001b[1;33m\u001b[0m\u001b[1;33m\u001b[0m\u001b[0m\n\u001b[1;32m-> 3458\u001b[1;33m             \u001b[0mindexer\u001b[0m \u001b[1;33m=\u001b[0m \u001b[0mself\u001b[0m\u001b[1;33m.\u001b[0m\u001b[0mcolumns\u001b[0m\u001b[1;33m.\u001b[0m\u001b[0mget_loc\u001b[0m\u001b[1;33m(\u001b[0m\u001b[0mkey\u001b[0m\u001b[1;33m)\u001b[0m\u001b[1;33m\u001b[0m\u001b[1;33m\u001b[0m\u001b[0m\n\u001b[0m\u001b[0;32m   3459\u001b[0m             \u001b[1;32mif\u001b[0m \u001b[0mis_integer\u001b[0m\u001b[1;33m(\u001b[0m\u001b[0mindexer\u001b[0m\u001b[1;33m)\u001b[0m\u001b[1;33m:\u001b[0m\u001b[1;33m\u001b[0m\u001b[1;33m\u001b[0m\u001b[0m\n\u001b[0;32m   3460\u001b[0m                 \u001b[0mindexer\u001b[0m \u001b[1;33m=\u001b[0m \u001b[1;33m[\u001b[0m\u001b[0mindexer\u001b[0m\u001b[1;33m]\u001b[0m\u001b[1;33m\u001b[0m\u001b[1;33m\u001b[0m\u001b[0m\n",
      "\u001b[1;32m~\\AppData\\Local\\Programs\\Python\\Python310\\lib\\site-packages\\pandas\\core\\indexes\\base.py\u001b[0m in \u001b[0;36mget_loc\u001b[1;34m(self, key, method, tolerance)\u001b[0m\n\u001b[0;32m   3361\u001b[0m                 \u001b[1;32mreturn\u001b[0m \u001b[0mself\u001b[0m\u001b[1;33m.\u001b[0m\u001b[0m_engine\u001b[0m\u001b[1;33m.\u001b[0m\u001b[0mget_loc\u001b[0m\u001b[1;33m(\u001b[0m\u001b[0mcasted_key\u001b[0m\u001b[1;33m)\u001b[0m\u001b[1;33m\u001b[0m\u001b[1;33m\u001b[0m\u001b[0m\n\u001b[0;32m   3362\u001b[0m             \u001b[1;32mexcept\u001b[0m \u001b[0mKeyError\u001b[0m \u001b[1;32mas\u001b[0m \u001b[0merr\u001b[0m\u001b[1;33m:\u001b[0m\u001b[1;33m\u001b[0m\u001b[1;33m\u001b[0m\u001b[0m\n\u001b[1;32m-> 3363\u001b[1;33m                 \u001b[1;32mraise\u001b[0m \u001b[0mKeyError\u001b[0m\u001b[1;33m(\u001b[0m\u001b[0mkey\u001b[0m\u001b[1;33m)\u001b[0m \u001b[1;32mfrom\u001b[0m \u001b[0merr\u001b[0m\u001b[1;33m\u001b[0m\u001b[1;33m\u001b[0m\u001b[0m\n\u001b[0m\u001b[0;32m   3364\u001b[0m \u001b[1;33m\u001b[0m\u001b[0m\n\u001b[0;32m   3365\u001b[0m         \u001b[1;32mif\u001b[0m \u001b[0mis_scalar\u001b[0m\u001b[1;33m(\u001b[0m\u001b[0mkey\u001b[0m\u001b[1;33m)\u001b[0m \u001b[1;32mand\u001b[0m \u001b[0misna\u001b[0m\u001b[1;33m(\u001b[0m\u001b[0mkey\u001b[0m\u001b[1;33m)\u001b[0m \u001b[1;32mand\u001b[0m \u001b[1;32mnot\u001b[0m \u001b[0mself\u001b[0m\u001b[1;33m.\u001b[0m\u001b[0mhasnans\u001b[0m\u001b[1;33m:\u001b[0m\u001b[1;33m\u001b[0m\u001b[1;33m\u001b[0m\u001b[0m\n",
      "\u001b[1;31mKeyError\u001b[0m: 'count(prodYear)'"
     ]
    }
   ],
   "source": [
    "df.plot.bar(x='prodYear', y='count(prodYear)', rot=0)"
   ]
  },
  {
   "cell_type": "markdown",
   "metadata": {},
   "source": [
    "## pandas_profiling\n",
    "- EDA report Library\n",
    "    => 사용해보고 싶은 데, ERROR 발생 (찾아보니 버전이 낮아서 그렇다는 데, 설치가 잘 안 됩니다.)\n",
    "    https://github.com/pandas-profiling/pandas-profiling/issues/183"
   ]
  },
  {
   "cell_type": "code",
   "execution_count": null,
   "metadata": {},
   "outputs": [],
   "source": [
    "pip install pandas_profiling"
   ]
  },
  {
   "cell_type": "code",
   "execution_count": 14,
   "metadata": {},
   "outputs": [
    {
     "ename": "AttributeError",
     "evalue": "'DataFrame' object has no attribute 'profile_report'",
     "output_type": "error",
     "traceback": [
      "\u001b[1;31m---------------------------------------------------------------------------\u001b[0m",
      "\u001b[1;31mAttributeError\u001b[0m                            Traceback (most recent call last)",
      "\u001b[1;32mC:\\Users\\SANGEU~1\\AppData\\Local\\Temp/ipykernel_26508/146905023.py\u001b[0m in \u001b[0;36m<module>\u001b[1;34m\u001b[0m\n\u001b[0;32m      1\u001b[0m \u001b[1;31m# ================================================================= EDA report\u001b[0m\u001b[1;33m\u001b[0m\u001b[1;33m\u001b[0m\u001b[0m\n\u001b[1;32m----> 2\u001b[1;33m \u001b[0meda_db2\u001b[0m \u001b[1;33m=\u001b[0m \u001b[0mdb2\u001b[0m\u001b[1;33m.\u001b[0m\u001b[0mprofile_report\u001b[0m\u001b[1;33m(\u001b[0m\u001b[1;33m)\u001b[0m\u001b[1;33m\u001b[0m\u001b[1;33m\u001b[0m\u001b[0m\n\u001b[0m\u001b[0;32m      3\u001b[0m \u001b[0meda_db2\u001b[0m\u001b[1;33m\u001b[0m\u001b[1;33m\u001b[0m\u001b[0m\n",
      "\u001b[1;32m~\\AppData\\Local\\Programs\\Python\\Python310\\lib\\site-packages\\pandas\\core\\generic.py\u001b[0m in \u001b[0;36m__getattr__\u001b[1;34m(self, name)\u001b[0m\n\u001b[0;32m   5485\u001b[0m         ):\n\u001b[0;32m   5486\u001b[0m             \u001b[1;32mreturn\u001b[0m \u001b[0mself\u001b[0m\u001b[1;33m[\u001b[0m\u001b[0mname\u001b[0m\u001b[1;33m]\u001b[0m\u001b[1;33m\u001b[0m\u001b[1;33m\u001b[0m\u001b[0m\n\u001b[1;32m-> 5487\u001b[1;33m         \u001b[1;32mreturn\u001b[0m \u001b[0mobject\u001b[0m\u001b[1;33m.\u001b[0m\u001b[0m__getattribute__\u001b[0m\u001b[1;33m(\u001b[0m\u001b[0mself\u001b[0m\u001b[1;33m,\u001b[0m \u001b[0mname\u001b[0m\u001b[1;33m)\u001b[0m\u001b[1;33m\u001b[0m\u001b[1;33m\u001b[0m\u001b[0m\n\u001b[0m\u001b[0;32m   5488\u001b[0m \u001b[1;33m\u001b[0m\u001b[0m\n\u001b[0;32m   5489\u001b[0m     \u001b[1;32mdef\u001b[0m \u001b[0m__setattr__\u001b[0m\u001b[1;33m(\u001b[0m\u001b[0mself\u001b[0m\u001b[1;33m,\u001b[0m \u001b[0mname\u001b[0m\u001b[1;33m:\u001b[0m \u001b[0mstr\u001b[0m\u001b[1;33m,\u001b[0m \u001b[0mvalue\u001b[0m\u001b[1;33m)\u001b[0m \u001b[1;33m->\u001b[0m \u001b[1;32mNone\u001b[0m\u001b[1;33m:\u001b[0m\u001b[1;33m\u001b[0m\u001b[1;33m\u001b[0m\u001b[0m\n",
      "\u001b[1;31mAttributeError\u001b[0m: 'DataFrame' object has no attribute 'profile_report'"
     ]
    }
   ],
   "source": [
    "# ================================================================= EDA report\n",
    "eda_db2 = db2.profile_report()\n",
    "eda_db2"
   ]
  },
  {
   "cell_type": "code",
   "execution_count": null,
   "metadata": {},
   "outputs": [],
   "source": [
    "pip install -U pandas-profiling # 해도 안 되네요.. + (!pip install -U pandas-profiling) 로 해도 안 됩니다."
   ]
  }
 ],
 "metadata": {
  "interpreter": {
   "hash": "f33fb8e3f71910d283821b303de4b1c813a496fe0b4b9448cb12b47c0ebadb47"
  },
  "kernelspec": {
   "display_name": "Python 3.10.0 64-bit",
   "language": "python",
   "name": "python3"
  },
  "language_info": {
   "codemirror_mode": {
    "name": "ipython",
    "version": 3
   },
   "file_extension": ".py",
   "mimetype": "text/x-python",
   "name": "python",
   "nbconvert_exporter": "python",
   "pygments_lexer": "ipython3",
   "version": "3.10.0"
  },
  "orig_nbformat": 4
 },
 "nbformat": 4,
 "nbformat_minor": 2
}
