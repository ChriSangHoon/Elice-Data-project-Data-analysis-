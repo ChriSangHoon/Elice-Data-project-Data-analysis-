{
 "cells": [
  {
   "cell_type": "code",
   "execution_count": 454,
   "id": "38ab01e3",
   "metadata": {},
   "outputs": [],
   "source": [
    "import pandas as pd\n",
    "import numpy as np\n",
    "import matplotlib.pyplot as plt\n",
    "import seaborn as sns"
   ]
  },
  {
   "cell_type": "code",
   "execution_count": 455,
   "id": "9ac18118",
   "metadata": {},
   "outputs": [],
   "source": [
    "df = pd.read_csv('film_festival_new.csv')"
   ]
  },
  {
   "cell_type": "code",
   "execution_count": 456,
   "id": "9fc234e0",
   "metadata": {},
   "outputs": [],
   "source": [
    "df = df.astype({'prodYear': 'Int64', 'runtime': 'Int64'})"
   ]
  },
  {
   "cell_type": "markdown",
   "id": "d418f741",
   "metadata": {},
   "source": [
    "# 점수 알고리즘\n",
    "### 서울독립영화제, 수상작, (서울독립영화제)중복 출품, (서울독립영화제)중복 수상을 기준으로 점수를 부여\n",
    "- 서울독립영화제가 전체 작품 3362개 중에서 1073개를 차지하고, 두 번째부터는 315개의 작품으로 1위와의 작품 개수의 차이가 많다.\n",
    "\n",
    "- 서울독립영화제는 독립영화계에서 권위 있는 영화제이므로 다른 영화제 출품작들과의 차이를 둔다.\n",
    "\n",
    "- 서울독립영화제의 수상작 중에서 '최우수상', '대상', '관객상'은 심사위원, 관객으로부터 높은 인정을 받은 작품으로 다른 수상작과의 차이를 둔다.\n",
    "\n",
    "- 기타 영화제의 수상작은 서울영화제에서 수상하지 못 한 작품보다 작품성이 높다고 가정했다.\n",
    "\n",
    "### 점수 기준\n",
    "- 서울독립영화제 출품작들에 대해 5점\n",
    "- 서울독립영화제에서 '관객상','대상','최우수' 탄 작품들은 15점 추가, 이외의 상에 대해서는 10점 추가\n",
    "- 다른 영화제의 수상작에 대해서는 10점\n",
    "- 서울독립영화제에 중복 출품한 감독의 작품에 대해서는 5점 추가\n",
    "- 서울독립영화제에서 중복 수상한 감독에 대해서는 5점 추가 (총 3명의 감독)\n"
   ]
  },
  {
   "cell_type": "code",
   "execution_count": 457,
   "id": "263e971b",
   "metadata": {},
   "outputs": [
    {
     "data": {
      "text/plain": [
       "array([nan, '새로운선택상', '새로운시선상', '특별언급', '관객상', '최우수장편상', '독불장군상', '독립스타상',\n",
       "       '최우수단편상', '집행위원회 특별상', '열혈스태프상', '심사위원상', '대상', '새로운 선택상',\n",
       "       '심사위원 특별언급', '최우수작품상', '우수작품상', '새로운선택 심사위원 특별언급', '독립스타상-배우부문',\n",
       "       '심사위원특별상', '심사위원특별언급', '열혈스태프상 (김현아)', '특별상', 'KT&G 상상마당상',\n",
       "       '최우수 작품상', '우수 작품상'], dtype=object)"
      ]
     },
     "execution_count": 457,
     "metadata": {},
     "output_type": "execute_result"
    }
   ],
   "source": [
    "df['score'] = 0\n",
    "df = df.astype({'score': 'Int64'})\n",
    "df_seoul = df.copy()\n",
    "df[df['film_festival'] == '서울독립영화제']['award'].unique()\n",
    "#서울 독립영화제 상 종류"
   ]
  },
  {
   "cell_type": "code",
   "execution_count": 458,
   "id": "cd69d97d",
   "metadata": {},
   "outputs": [
    {
     "data": {
      "text/plain": [
       "3362"
      ]
     },
     "execution_count": 458,
     "metadata": {},
     "output_type": "execute_result"
    }
   ],
   "source": [
    "df_seoul.loc[(df_seoul.film_festival == '서울독립영화제'),'score'] = 5\n",
    "list_0 = np.array(df_seoul['score'])\n",
    "len(list_0)"
   ]
  },
  {
   "cell_type": "markdown",
   "id": "870baed8",
   "metadata": {},
   "source": [
    "### 서울독립영화제에서 1073개의 작품 중 39개의 작품이 '대상', '최우수상', '관객상'을 탔다.\n",
    "- 전체 수상작 데이터 수는 381개 (서울독립영화제가 아닌 영화제에서 수상한 작품이 265개)\n",
    "- 서울독립영화제에서 수상작은 116개 (대상,최우수상,관객상을 제외한 상을 탄 작품이 77개)"
   ]
  },
  {
   "cell_type": "code",
   "execution_count": 459,
   "id": "48651c8e",
   "metadata": {},
   "outputs": [
    {
     "name": "stdout",
     "output_type": "stream",
     "text": [
      "3362\n",
      "<class 'pandas.core.frame.DataFrame'>\n",
      "Int64Index: 39 entries, 565 to 3341\n",
      "Data columns (total 15 columns):\n",
      " #   Column         Non-Null Count  Dtype \n",
      "---  ------         --------------  ----- \n",
      " 0   year           39 non-null     int64 \n",
      " 1   film_festival  39 non-null     object\n",
      " 2   title          39 non-null     object\n",
      " 3   director       39 non-null     object\n",
      " 4   field          39 non-null     object\n",
      " 5   award          39 non-null     object\n",
      " 6   genre          39 non-null     object\n",
      " 7   plot           39 non-null     object\n",
      " 8   rating         22 non-null     object\n",
      " 9   runtime        38 non-null     Int64 \n",
      " 10  prodYear       39 non-null     Int64 \n",
      " 11  actors         35 non-null     object\n",
      " 12  img_link       33 non-null     object\n",
      " 13  stills         33 non-null     object\n",
      " 14  score          39 non-null     Int64 \n",
      "dtypes: Int64(3), int64(1), object(11)\n",
      "memory usage: 5.0+ KB\n"
     ]
    }
   ],
   "source": [
    "df_seoul_award_big_prize = df.copy()\n",
    "df_seoul_award_big_prize.loc[((df_seoul_award_big_prize.film_festival == '서울독립영화제') \n",
    "                       & (df_seoul_award_big_prize['award'].str.contains('대상'))),'score'] = 5\n",
    "df_seoul_award_big_prize.loc[((df_seoul_award_big_prize.film_festival == '서울독립영화제') \n",
    "                        & (df_seoul_award_big_prize['award'].str.contains('관객'))),'score'] = 5\n",
    "df_seoul_award_big_prize.loc[((df_seoul_award_big_prize.film_festival == '서울독립영화제') \n",
    "                        & (df_seoul_award_big_prize['award'].str.contains('최우수'))),'score'] = 5\n",
    "\n",
    "list_1 = np.array(df_seoul_award_big_prize['score'])\n",
    "print(len(list_1))\n",
    "df_seoul_award_big_prize[df_seoul_award_big_prize.score == 5].info()"
   ]
  },
  {
   "cell_type": "markdown",
   "id": "363cb697",
   "metadata": {},
   "source": [
    "#### 이외의 상은 10점 추가 (모든 영화제)"
   ]
  },
  {
   "cell_type": "code",
   "execution_count": 460,
   "id": "751aaa86",
   "metadata": {},
   "outputs": [
    {
     "data": {
      "text/plain": [
       "3362"
      ]
     },
     "execution_count": 460,
     "metadata": {},
     "output_type": "execute_result"
    }
   ],
   "source": [
    "df_award_prize = df.copy()\n",
    "df_award_prize.loc[(df_award_prize.award.notnull()),'score'] = 10\n",
    "list_2 = np.array(df_award_prize['score'])\n",
    "len(list_2)"
   ]
  },
  {
   "cell_type": "markdown",
   "id": "2c94731f",
   "metadata": {},
   "source": [
    "### 서울독립영화제에 전체 출품작 1073개 중에서 중복 출품한 감독들의 작품 개수는 481개"
   ]
  },
  {
   "cell_type": "code",
   "execution_count": 461,
   "id": "462e5876",
   "metadata": {},
   "outputs": [
    {
     "name": "stdout",
     "output_type": "stream",
     "text": [
      "<class 'pandas.core.frame.DataFrame'>\n",
      "Int64Index: 481 entries, 3 to 3340\n",
      "Data columns (total 15 columns):\n",
      " #   Column         Non-Null Count  Dtype \n",
      "---  ------         --------------  ----- \n",
      " 0   year           481 non-null    int64 \n",
      " 1   film_festival  481 non-null    object\n",
      " 2   title          481 non-null    object\n",
      " 3   director       481 non-null    object\n",
      " 4   field          462 non-null    object\n",
      " 5   award          55 non-null     object\n",
      " 6   genre          481 non-null    object\n",
      " 7   plot           458 non-null    object\n",
      " 8   rating         141 non-null    object\n",
      " 9   runtime        458 non-null    Int64 \n",
      " 10  prodYear       463 non-null    Int64 \n",
      " 11  actors         356 non-null    object\n",
      " 12  img_link       418 non-null    object\n",
      " 13  stills         383 non-null    object\n",
      " 14  score          481 non-null    Int64 \n",
      "dtypes: Int64(3), int64(1), object(11)\n",
      "memory usage: 61.5+ KB\n"
     ]
    }
   ],
   "source": [
    "df_seoul_director = df.copy()\n",
    "new_df = df.copy()\n",
    "new_df = new_df[new_df.film_festival == '서울독립영화제']\n",
    "new_df = new_df[new_df.duplicated(['director'], keep = False)]\n",
    "\n",
    "for i,(ff_1, title_1, director_1) in enumerate(zip(df_seoul_director['film_festival'],df_seoul_director['title'],df_seoul_director['director'])):\n",
    "    for ff_2, title_2, director_2 in zip(new_df['film_festival'],new_df['title'],new_df['director']):\n",
    "        if (ff_1 == ff_2) & (title_1 == title_2) & (director_1 == director_2):\n",
    "            df_seoul_director.loc[i,'score'] = 5\n",
    "list_3 = np.array(df_seoul_director['score'])\n",
    "new_df.info()"
   ]
  },
  {
   "cell_type": "markdown",
   "id": "e46a6ec9",
   "metadata": {},
   "source": [
    "### 서울독립영화제에서 중복 수상한 감독은 3명으로 총 6개의 작품이 있다."
   ]
  },
  {
   "cell_type": "code",
   "execution_count": 462,
   "id": "b47933a2",
   "metadata": {},
   "outputs": [
    {
     "data": {
      "text/plain": [
       "3362"
      ]
     },
     "execution_count": 462,
     "metadata": {},
     "output_type": "execute_result"
    }
   ],
   "source": [
    "df_seoul_award_director = df.copy()\n",
    "new_df = df.copy()\n",
    "new_df = new_df[new_df.film_festival == '서울독립영화제']\n",
    "new_df = new_df[new_df['award'].notnull()]\n",
    "new_df = new_df[new_df.duplicated(['director'], keep = False)]\n",
    "\n",
    "for i,(ff_1, title_1, director_1) in enumerate(zip(df_seoul_award_director['film_festival'],df_seoul_award_director['title'],df_seoul_award_director['director'])):\n",
    "    for ff_2, title_2, director_2 in zip(new_df['film_festival'],new_df['title'],new_df['director']):\n",
    "        if (ff_1 == ff_2) & (title_1 == title_2) & (director_1 == director_2):\n",
    "            df_seoul_award_director.loc[i,'score'] = 5\n",
    "\n",
    "list_4 = np.array(df_seoul_award_director['score'])\n",
    "len(list_4)"
   ]
  },
  {
   "cell_type": "code",
   "execution_count": 469,
   "id": "a0564b90",
   "metadata": {},
   "outputs": [],
   "source": [
    "score = list_0 + list_1 +list_2 +list_3 +list_4\n",
    "lis = np.sort(sc)[::-1]\n",
    "df['score'] = score"
   ]
  },
  {
   "cell_type": "code",
   "execution_count": 470,
   "id": "e1de8539",
   "metadata": {},
   "outputs": [],
   "source": [
    "df.to_csv('test.csv', encoding='utf8', index=False)"
   ]
  },
  {
   "cell_type": "code",
   "execution_count": null,
   "id": "c1244dbc",
   "metadata": {},
   "outputs": [],
   "source": []
  }
 ],
 "metadata": {
  "kernelspec": {
   "display_name": "Python 3",
   "language": "python",
   "name": "python3"
  },
  "language_info": {
   "codemirror_mode": {
    "name": "ipython",
    "version": 3
   },
   "file_extension": ".py",
   "mimetype": "text/x-python",
   "name": "python",
   "nbconvert_exporter": "python",
   "pygments_lexer": "ipython3",
   "version": "3.8.8"
  }
 },
 "nbformat": 4,
 "nbformat_minor": 5
}
