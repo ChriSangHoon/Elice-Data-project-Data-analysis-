{
  "nbformat": 4,
  "nbformat_minor": 0,
  "metadata": {
    "colab": {
      "name": "recommendation_system-KoNLPY.ipynb",
      "private_outputs": true,
      "provenance": [],
      "collapsed_sections": []
    },
    "kernelspec": {
      "name": "python3",
      "display_name": "Python 3"
    },
    "language_info": {
      "name": "python"
    }
  },
  "cells": [
    {
      "cell_type": "code",
      "execution_count": null,
      "metadata": {
        "id": "VzZRerhsPuO6"
      },
      "outputs": [],
      "source": [
        "!pip install konlpy"
      ]
    },
    {
      "cell_type": "code",
      "source": [
        "import warnings\n",
        "warnings.simplefilter(\"ignore\")\n",
        "\n",
        "import konlpy\n",
        "konlpy.__version__"
      ],
      "metadata": {
        "id": "XhXyivsdP8e9"
      },
      "execution_count": null,
      "outputs": []
    },
    {
      "cell_type": "code",
      "source": [
        "from konlpy.corpus import kolaw\n",
        "kolaw.fileids()"
      ],
      "metadata": {
        "id": "FZb-O49ZQtb3"
      },
      "execution_count": null,
      "outputs": []
    },
    {
      "cell_type": "code",
      "source": [
        "c = kolaw.open('constitution.txt').read()\n",
        "print(c[:40])"
      ],
      "metadata": {
        "id": "z9x0HGqQQq46"
      },
      "execution_count": null,
      "outputs": []
    },
    {
      "cell_type": "code",
      "source": [
        "from konlpy.corpus import kobill\n",
        "kobill.fileids()"
      ],
      "metadata": {
        "id": "skT4bLdaQxEh"
      },
      "execution_count": null,
      "outputs": []
    },
    {
      "cell_type": "code",
      "source": [
        "d = kobill.open('1809890.txt').read()\n",
        "print(d[:40])"
      ],
      "metadata": {
        "id": "dREb-88IQy9O"
      },
      "execution_count": null,
      "outputs": []
    },
    {
      "cell_type": "markdown",
      "source": [
        "## 형태소 분석\n",
        "KoNLPy 라이브러리\n",
        "\n",
        "### Hannanum: 한나눔. \n",
        "KAIST Semantic Web Research Center 개발.\n",
        "\n",
        "http://semanticweb.kaist.ac.kr/hannanum/\n",
        "\n",
        "### Kkma: 꼬꼬마. \n",
        "서울대학교 IDS(Intelligent Data Systems) 연구실 개발.\n",
        "\n",
        "http://kkma.snu.ac.kr/\n",
        "\n",
        "<!-- ### Komoran: 코모란. \n",
        "Shineware에서 개발.\n",
        "\n",
        "https://github.com/shin285/KOMORAN\n",
        "\n",
        "### Mecab: 메카브. \n",
        "일본어용 형태소 분석기를 한국어를 사용할 수 있도록 수정.\n",
        "\n",
        "https://bitbucket.org/eunjeon/mecab-ko -->\n",
        "\n",
        "### Open Korean Text: 오픈 소스 한국어 분석기. \n",
        "과거 트위터 형태소 분석기.\n",
        "\n",
        "https://github.com/open-korean-text/open-korean-text"
      ],
      "metadata": {
        "id": "UZuT98W_Q2am"
      }
    },
    {
      "cell_type": "code",
      "source": [
        "from konlpy.tag import *\n",
        "\n",
        "hannanum = Hannanum()\n",
        "kkma = Kkma()\n",
        "okt = Okt()"
      ],
      "metadata": {
        "id": "N_LePVKVQ049"
      },
      "execution_count": null,
      "outputs": []
    },
    {
      "cell_type": "code",
      "source": [
        "hannanum.nouns(c[:40])"
      ],
      "metadata": {
        "id": "7jFbHZSjRAGx"
      },
      "execution_count": null,
      "outputs": []
    },
    {
      "cell_type": "code",
      "source": [
        "kkma.nouns(c[:40])"
      ],
      "metadata": {
        "id": "jE-ZRwd9RIXu"
      },
      "execution_count": null,
      "outputs": []
    },
    {
      "cell_type": "code",
      "source": [
        "okt.nouns(c[:40])"
      ],
      "metadata": {
        "id": "QNi8XoXfaR6M"
      },
      "execution_count": null,
      "outputs": []
    },
    {
      "cell_type": "markdown",
      "source": [
        "## 형태소 추출\n",
        "명사 뿐 아니라 모든 품사의 형태소를 알아내려면 morphs라는 명령을 사용한다."
      ],
      "metadata": {
        "id": "rgZat70CT3_Q"
      }
    },
    {
      "cell_type": "code",
      "source": [
        "hannanum.morphs(c[:40])"
      ],
      "metadata": {
        "id": "3rxHs9NeT3qD"
      },
      "execution_count": null,
      "outputs": []
    },
    {
      "cell_type": "code",
      "source": [
        "kkma.morphs(c[:40])"
      ],
      "metadata": {
        "id": "Fm6_OJdWT1vc"
      },
      "execution_count": null,
      "outputs": []
    },
    {
      "cell_type": "code",
      "source": [
        "okt.morphs(c[:40])"
      ],
      "metadata": {
        "id": "bo64YGC9bKHI"
      },
      "execution_count": null,
      "outputs": []
    },
    {
      "cell_type": "markdown",
      "source": [
        "## 품사 부착\n",
        "pos 명령을 사용.\n",
        "\n",
        "한국어 품사 태그 세트: 21세기 세종계획 품사 태그세트\n",
        "- 형태소 분석기마다 사용하는 품사 태그가 다르다. \n",
        "- 각 형태소 분석기에 대한 문서를 참조해야 한다."
      ],
      "metadata": {
        "id": "z4jHEIxbUMGp"
      }
    },
    {
      "cell_type": "code",
      "source": [
        "hannanum.pos(c[:40])"
      ],
      "metadata": {
        "id": "99tJg1OwUL31"
      },
      "execution_count": null,
      "outputs": []
    },
    {
      "cell_type": "code",
      "source": [
        "hannanum.tagset"
      ],
      "metadata": {
        "id": "xd6MhTnVUrlk"
      },
      "execution_count": null,
      "outputs": []
    },
    {
      "cell_type": "code",
      "source": [
        "kkma.pos(c[:40])"
      ],
      "metadata": {
        "id": "BwxOUcxOUirS"
      },
      "execution_count": null,
      "outputs": []
    },
    {
      "cell_type": "code",
      "source": [
        "kkma.tagset"
      ],
      "metadata": {
        "id": "2XoLR-lcUvCj"
      },
      "execution_count": null,
      "outputs": []
    },
    {
      "cell_type": "code",
      "source": [
        ""
      ],
      "metadata": {
        "id": "tLx2FbpJduVS"
      },
      "execution_count": null,
      "outputs": []
    },
    {
      "cell_type": "code",
      "source": [
        "import pandas as pd"
      ],
      "metadata": {
        "id": "oiCMLE23VcV0"
      },
      "execution_count": null,
      "outputs": []
    },
    {
      "cell_type": "code",
      "source": [
        "tagsets = pd.DataFrame()\n",
        "N = 67\n",
        "tagsets[\"Hannanum-기호\"] = list(hannanum.tagset.keys()) + list(\"*\" * (N - len(hannanum.tagset)))\n",
        "tagsets[\"Hannanum-품사\"] = list(hannanum.tagset.values()) + list(\"*\" * (N - len(hannanum.tagset)))\n",
        "tagsets[\"Kkma-기호\"] = list(kkma.tagset.keys()) + list(\"*\" * (N - len(kkma.tagset)))\n",
        "tagsets[\"Kkma-품사\"] = list(kkma.tagset.values()) + list(\"*\" * (N - len(kkma.tagset)))\n",
        "tagsets"
      ],
      "metadata": {
        "id": "SzFKe9s8VPft"
      },
      "execution_count": null,
      "outputs": []
    },
    {
      "cell_type": "code",
      "source": [
        "%matplotlib inline  \n",
        "\n",
        "import matplotlib as mpl \n",
        "import matplotlib.pyplot as plt \n",
        "import matplotlib.font_manager as fm  \n",
        "\n",
        "!apt-get update -qq\n",
        "!apt-get install fonts-nanum* -qq\n",
        "\n",
        "path = '/usr/share/fonts/truetype/nanum/NanumBarunGothic.ttf' \n",
        "font_name = fm.FontProperties(fname=path, size=10).get_name()\n",
        "print(font_name)\n",
        "plt.rc('font', family=font_name)\n",
        "\n",
        "fm._rebuild()\n",
        "mpl.rcParams['axes.unicode_minus'] = False"
      ],
      "metadata": {
        "id": "pHgPWxjFYG6h"
      },
      "execution_count": null,
      "outputs": []
    },
    {
      "cell_type": "code",
      "source": [
        "from nltk import Text\n",
        "\n",
        "kolaw = Text(hannanum.nouns(c), name=\"kolaw\")\n",
        "kolaw.plot(30)\n",
        "plt.show()"
      ],
      "metadata": {
        "id": "xqteymdOZ87c"
      },
      "execution_count": null,
      "outputs": []
    },
    {
      "cell_type": "code",
      "source": [
        "from nltk import Text\n",
        "\n",
        "kolaw = Text(kkma.nouns(c), name=\"kolaw\")\n",
        "kolaw.plot(30)\n",
        "plt.show()"
      ],
      "metadata": {
        "id": "6tpwd_BNVsQf"
      },
      "execution_count": null,
      "outputs": []
    },
    {
      "cell_type": "code",
      "source": [
        "from nltk import Text\n",
        "\n",
        "kolaw = Text(okt.nouns(c), name=\"kolaw\")\n",
        "kolaw.plot(30)\n",
        "plt.show()"
      ],
      "metadata": {
        "id": "ByX9P7O2aGuq"
      },
      "execution_count": null,
      "outputs": []
    },
    {
      "cell_type": "code",
      "source": [
        "from wordcloud import WordCloud\n",
        "\n",
        "font_path = '/usr/share/fonts/truetype/nanum/NanumGothic.ttf'\n",
        "\n",
        "wc = WordCloud(width = 1000, height = 600, background_color=\"white\", font_path=font_path)\n",
        "plt.imshow(wc.generate_from_frequencies(kolaw.vocab()))\n",
        "plt.axis(\"off\")\n",
        "plt.show()"
      ],
      "metadata": {
        "id": "MWdblu5FYrLs"
      },
      "execution_count": null,
      "outputs": []
    }
  ]
}